{
  "nbformat": 4,
  "nbformat_minor": 0,
  "metadata": {
    "colab": {
      "provenance": []
    },
    "kernelspec": {
      "name": "python3",
      "display_name": "Python 3"
    },
    "language_info": {
      "name": "python"
    }
  },
  "cells": [
    {
      "cell_type": "code",
      "execution_count": 1,
      "metadata": {
        "colab": {
          "base_uri": "https://localhost:8080/"
        },
        "id": "e6QMgg5CRDPj",
        "outputId": "97b18951-e33f-4536-f8cd-35701bc913e2"
      },
      "outputs": [
        {
          "output_type": "stream",
          "name": "stdout",
          "text": [
            "Mounted at /content/drive\n"
          ]
        }
      ],
      "source": [
        "from google.colab import drive\n",
        "drive.mount('/content/drive')"
      ]
    },
    {
      "cell_type": "markdown",
      "source": [
        "***Section 1: Setup and Environment***\n",
        "\n",
        "This initial section handles the necessary imports and sets up the base path for our dataset. We import libraries for data manipulation (pandas), numerical operations (numpy), and file system interaction (os)."
      ],
      "metadata": {
        "id": "_MM4C6dzUaBN"
      }
    },
    {
      "cell_type": "code",
      "source": [
        "# Import necessary libraries\n",
        "import os\n",
        "import pandas as pd\n",
        "import numpy as np\n",
        "from tqdm import tqdm\n",
        "import matplotlib.pyplot as plt\n",
        "import seaborn as sns"
      ],
      "metadata": {
        "id": "-URayb6hRMqR"
      },
      "execution_count": 51,
      "outputs": []
    },
    {
      "cell_type": "code",
      "source": [
        "# --- Configuration ---\n",
        "# Set the base path to the directory containing the dataset.\n",
        "# This path points to where the 'train.csv', 'validation.csv', etc., and the 'MI' data folder are located.\n",
        "# base_path = '/content/mtc-aic3_dataset' # Example for Google Colab\n",
        "base_path = '/content/drive/MyDrive/aic3/unzipped' # Example for Google Drive\n",
        "\n",
        "# Define the specific EEG channels to be used for the analysis.\n",
        "# We focus on central channels C3, CZ, and C4, which are highly relevant for motor imagery tasks.\n",
        "eeg_channels = ['C3', 'CZ', 'C4']"
      ],
      "metadata": {
        "id": "IY6sXqdoT2P3"
      },
      "execution_count": 52,
      "outputs": []
    },
    {
      "cell_type": "markdown",
      "source": [
        "***Section 2: Data Loading and Filtering***\n",
        "\n",
        "In this step, we load the metadata from the train.csv and validation.csv files. Since this notebook is dedicated to the Motor Imagery (MI) task, we filter these dataframes to retain only the rows corresponding to 'MI'."
      ],
      "metadata": {
        "id": "67VYlfk9Ugs1"
      }
    },
    {
      "cell_type": "code",
      "source": [
        "# Load the training and validation metadata files into pandas DataFrames.\n",
        "train_df = pd.read_csv(f'{base_path}/train.csv')\n",
        "validation_df = pd.read_csv(f'{base_path}/validation.csv')\n",
        "\n",
        "# Filter the DataFrames to keep only the entries for the Motor Imagery (MI) task.\n",
        "# We reset the index to ensure the filtered DataFrame has a clean, contiguous index.\n",
        "train_mi = train_df[train_df['task'] == 'MI'].reset_index(drop=True)\n",
        "validation_mi = validation_df[validation_df['task'] == 'MI'].reset_index(drop=True)\n",
        "\n",
        "# Display the first few rows of the filtered training data to verify the result.\n",
        "print(\"Filtered Training Data for MI Task:\")\n",
        "display(train_mi.head())\n",
        "\n",
        "# Display the first few rows of the filtered validation data.\n",
        "print(\"\\nFiltered Validation Data for MI Task:\")\n",
        "display(validation_mi.head())"
      ],
      "metadata": {
        "colab": {
          "base_uri": "https://localhost:8080/",
          "height": 448
        },
        "id": "0Ky0RRWyT3yj",
        "outputId": "2c2edb9c-4fe5-4673-9fcb-c130d19d3d20"
      },
      "execution_count": 53,
      "outputs": [
        {
          "output_type": "stream",
          "name": "stdout",
          "text": [
            "Filtered Training Data for MI Task:\n"
          ]
        },
        {
          "output_type": "display_data",
          "data": {
            "text/plain": [
              "   id subject_id task  trial_session  trial  label\n",
              "0   1         S1   MI              1      1   Left\n",
              "1   2         S1   MI              1      2  Right\n",
              "2   3         S1   MI              1      3   Left\n",
              "3   4         S1   MI              1      4   Left\n",
              "4   5         S1   MI              1      5   Left"
            ],
            "text/html": [
              "\n",
              "  <div id=\"df-02c9826f-572f-48e1-8194-fc86150425ee\" class=\"colab-df-container\">\n",
              "    <div>\n",
              "<style scoped>\n",
              "    .dataframe tbody tr th:only-of-type {\n",
              "        vertical-align: middle;\n",
              "    }\n",
              "\n",
              "    .dataframe tbody tr th {\n",
              "        vertical-align: top;\n",
              "    }\n",
              "\n",
              "    .dataframe thead th {\n",
              "        text-align: right;\n",
              "    }\n",
              "</style>\n",
              "<table border=\"1\" class=\"dataframe\">\n",
              "  <thead>\n",
              "    <tr style=\"text-align: right;\">\n",
              "      <th></th>\n",
              "      <th>id</th>\n",
              "      <th>subject_id</th>\n",
              "      <th>task</th>\n",
              "      <th>trial_session</th>\n",
              "      <th>trial</th>\n",
              "      <th>label</th>\n",
              "    </tr>\n",
              "  </thead>\n",
              "  <tbody>\n",
              "    <tr>\n",
              "      <th>0</th>\n",
              "      <td>1</td>\n",
              "      <td>S1</td>\n",
              "      <td>MI</td>\n",
              "      <td>1</td>\n",
              "      <td>1</td>\n",
              "      <td>Left</td>\n",
              "    </tr>\n",
              "    <tr>\n",
              "      <th>1</th>\n",
              "      <td>2</td>\n",
              "      <td>S1</td>\n",
              "      <td>MI</td>\n",
              "      <td>1</td>\n",
              "      <td>2</td>\n",
              "      <td>Right</td>\n",
              "    </tr>\n",
              "    <tr>\n",
              "      <th>2</th>\n",
              "      <td>3</td>\n",
              "      <td>S1</td>\n",
              "      <td>MI</td>\n",
              "      <td>1</td>\n",
              "      <td>3</td>\n",
              "      <td>Left</td>\n",
              "    </tr>\n",
              "    <tr>\n",
              "      <th>3</th>\n",
              "      <td>4</td>\n",
              "      <td>S1</td>\n",
              "      <td>MI</td>\n",
              "      <td>1</td>\n",
              "      <td>4</td>\n",
              "      <td>Left</td>\n",
              "    </tr>\n",
              "    <tr>\n",
              "      <th>4</th>\n",
              "      <td>5</td>\n",
              "      <td>S1</td>\n",
              "      <td>MI</td>\n",
              "      <td>1</td>\n",
              "      <td>5</td>\n",
              "      <td>Left</td>\n",
              "    </tr>\n",
              "  </tbody>\n",
              "</table>\n",
              "</div>\n",
              "    <div class=\"colab-df-buttons\">\n",
              "\n",
              "  <div class=\"colab-df-container\">\n",
              "    <button class=\"colab-df-convert\" onclick=\"convertToInteractive('df-02c9826f-572f-48e1-8194-fc86150425ee')\"\n",
              "            title=\"Convert this dataframe to an interactive table.\"\n",
              "            style=\"display:none;\">\n",
              "\n",
              "  <svg xmlns=\"http://www.w3.org/2000/svg\" height=\"24px\" viewBox=\"0 -960 960 960\">\n",
              "    <path d=\"M120-120v-720h720v720H120Zm60-500h600v-160H180v160Zm220 220h160v-160H400v160Zm0 220h160v-160H400v160ZM180-400h160v-160H180v160Zm440 0h160v-160H620v160ZM180-180h160v-160H180v160Zm440 0h160v-160H620v160Z\"/>\n",
              "  </svg>\n",
              "    </button>\n",
              "\n",
              "  <style>\n",
              "    .colab-df-container {\n",
              "      display:flex;\n",
              "      gap: 12px;\n",
              "    }\n",
              "\n",
              "    .colab-df-convert {\n",
              "      background-color: #E8F0FE;\n",
              "      border: none;\n",
              "      border-radius: 50%;\n",
              "      cursor: pointer;\n",
              "      display: none;\n",
              "      fill: #1967D2;\n",
              "      height: 32px;\n",
              "      padding: 0 0 0 0;\n",
              "      width: 32px;\n",
              "    }\n",
              "\n",
              "    .colab-df-convert:hover {\n",
              "      background-color: #E2EBFA;\n",
              "      box-shadow: 0px 1px 2px rgba(60, 64, 67, 0.3), 0px 1px 3px 1px rgba(60, 64, 67, 0.15);\n",
              "      fill: #174EA6;\n",
              "    }\n",
              "\n",
              "    .colab-df-buttons div {\n",
              "      margin-bottom: 4px;\n",
              "    }\n",
              "\n",
              "    [theme=dark] .colab-df-convert {\n",
              "      background-color: #3B4455;\n",
              "      fill: #D2E3FC;\n",
              "    }\n",
              "\n",
              "    [theme=dark] .colab-df-convert:hover {\n",
              "      background-color: #434B5C;\n",
              "      box-shadow: 0px 1px 3px 1px rgba(0, 0, 0, 0.15);\n",
              "      filter: drop-shadow(0px 1px 2px rgba(0, 0, 0, 0.3));\n",
              "      fill: #FFFFFF;\n",
              "    }\n",
              "  </style>\n",
              "\n",
              "    <script>\n",
              "      const buttonEl =\n",
              "        document.querySelector('#df-02c9826f-572f-48e1-8194-fc86150425ee button.colab-df-convert');\n",
              "      buttonEl.style.display =\n",
              "        google.colab.kernel.accessAllowed ? 'block' : 'none';\n",
              "\n",
              "      async function convertToInteractive(key) {\n",
              "        const element = document.querySelector('#df-02c9826f-572f-48e1-8194-fc86150425ee');\n",
              "        const dataTable =\n",
              "          await google.colab.kernel.invokeFunction('convertToInteractive',\n",
              "                                                    [key], {});\n",
              "        if (!dataTable) return;\n",
              "\n",
              "        const docLinkHtml = 'Like what you see? Visit the ' +\n",
              "          '<a target=\"_blank\" href=https://colab.research.google.com/notebooks/data_table.ipynb>data table notebook</a>'\n",
              "          + ' to learn more about interactive tables.';\n",
              "        element.innerHTML = '';\n",
              "        dataTable['output_type'] = 'display_data';\n",
              "        await google.colab.output.renderOutput(dataTable, element);\n",
              "        const docLink = document.createElement('div');\n",
              "        docLink.innerHTML = docLinkHtml;\n",
              "        element.appendChild(docLink);\n",
              "      }\n",
              "    </script>\n",
              "  </div>\n",
              "\n",
              "\n",
              "    <div id=\"df-cf6723dc-72af-4299-b02b-879e50d7fa24\">\n",
              "      <button class=\"colab-df-quickchart\" onclick=\"quickchart('df-cf6723dc-72af-4299-b02b-879e50d7fa24')\"\n",
              "                title=\"Suggest charts\"\n",
              "                style=\"display:none;\">\n",
              "\n",
              "<svg xmlns=\"http://www.w3.org/2000/svg\" height=\"24px\"viewBox=\"0 0 24 24\"\n",
              "     width=\"24px\">\n",
              "    <g>\n",
              "        <path d=\"M19 3H5c-1.1 0-2 .9-2 2v14c0 1.1.9 2 2 2h14c1.1 0 2-.9 2-2V5c0-1.1-.9-2-2-2zM9 17H7v-7h2v7zm4 0h-2V7h2v10zm4 0h-2v-4h2v4z\"/>\n",
              "    </g>\n",
              "</svg>\n",
              "      </button>\n",
              "\n",
              "<style>\n",
              "  .colab-df-quickchart {\n",
              "      --bg-color: #E8F0FE;\n",
              "      --fill-color: #1967D2;\n",
              "      --hover-bg-color: #E2EBFA;\n",
              "      --hover-fill-color: #174EA6;\n",
              "      --disabled-fill-color: #AAA;\n",
              "      --disabled-bg-color: #DDD;\n",
              "  }\n",
              "\n",
              "  [theme=dark] .colab-df-quickchart {\n",
              "      --bg-color: #3B4455;\n",
              "      --fill-color: #D2E3FC;\n",
              "      --hover-bg-color: #434B5C;\n",
              "      --hover-fill-color: #FFFFFF;\n",
              "      --disabled-bg-color: #3B4455;\n",
              "      --disabled-fill-color: #666;\n",
              "  }\n",
              "\n",
              "  .colab-df-quickchart {\n",
              "    background-color: var(--bg-color);\n",
              "    border: none;\n",
              "    border-radius: 50%;\n",
              "    cursor: pointer;\n",
              "    display: none;\n",
              "    fill: var(--fill-color);\n",
              "    height: 32px;\n",
              "    padding: 0;\n",
              "    width: 32px;\n",
              "  }\n",
              "\n",
              "  .colab-df-quickchart:hover {\n",
              "    background-color: var(--hover-bg-color);\n",
              "    box-shadow: 0 1px 2px rgba(60, 64, 67, 0.3), 0 1px 3px 1px rgba(60, 64, 67, 0.15);\n",
              "    fill: var(--button-hover-fill-color);\n",
              "  }\n",
              "\n",
              "  .colab-df-quickchart-complete:disabled,\n",
              "  .colab-df-quickchart-complete:disabled:hover {\n",
              "    background-color: var(--disabled-bg-color);\n",
              "    fill: var(--disabled-fill-color);\n",
              "    box-shadow: none;\n",
              "  }\n",
              "\n",
              "  .colab-df-spinner {\n",
              "    border: 2px solid var(--fill-color);\n",
              "    border-color: transparent;\n",
              "    border-bottom-color: var(--fill-color);\n",
              "    animation:\n",
              "      spin 1s steps(1) infinite;\n",
              "  }\n",
              "\n",
              "  @keyframes spin {\n",
              "    0% {\n",
              "      border-color: transparent;\n",
              "      border-bottom-color: var(--fill-color);\n",
              "      border-left-color: var(--fill-color);\n",
              "    }\n",
              "    20% {\n",
              "      border-color: transparent;\n",
              "      border-left-color: var(--fill-color);\n",
              "      border-top-color: var(--fill-color);\n",
              "    }\n",
              "    30% {\n",
              "      border-color: transparent;\n",
              "      border-left-color: var(--fill-color);\n",
              "      border-top-color: var(--fill-color);\n",
              "      border-right-color: var(--fill-color);\n",
              "    }\n",
              "    40% {\n",
              "      border-color: transparent;\n",
              "      border-right-color: var(--fill-color);\n",
              "      border-top-color: var(--fill-color);\n",
              "    }\n",
              "    60% {\n",
              "      border-color: transparent;\n",
              "      border-right-color: var(--fill-color);\n",
              "    }\n",
              "    80% {\n",
              "      border-color: transparent;\n",
              "      border-right-color: var(--fill-color);\n",
              "      border-bottom-color: var(--fill-color);\n",
              "    }\n",
              "    90% {\n",
              "      border-color: transparent;\n",
              "      border-bottom-color: var(--fill-color);\n",
              "    }\n",
              "  }\n",
              "</style>\n",
              "\n",
              "      <script>\n",
              "        async function quickchart(key) {\n",
              "          const quickchartButtonEl =\n",
              "            document.querySelector('#' + key + ' button');\n",
              "          quickchartButtonEl.disabled = true;  // To prevent multiple clicks.\n",
              "          quickchartButtonEl.classList.add('colab-df-spinner');\n",
              "          try {\n",
              "            const charts = await google.colab.kernel.invokeFunction(\n",
              "                'suggestCharts', [key], {});\n",
              "          } catch (error) {\n",
              "            console.error('Error during call to suggestCharts:', error);\n",
              "          }\n",
              "          quickchartButtonEl.classList.remove('colab-df-spinner');\n",
              "          quickchartButtonEl.classList.add('colab-df-quickchart-complete');\n",
              "        }\n",
              "        (() => {\n",
              "          let quickchartButtonEl =\n",
              "            document.querySelector('#df-cf6723dc-72af-4299-b02b-879e50d7fa24 button');\n",
              "          quickchartButtonEl.style.display =\n",
              "            google.colab.kernel.accessAllowed ? 'block' : 'none';\n",
              "        })();\n",
              "      </script>\n",
              "    </div>\n",
              "\n",
              "    </div>\n",
              "  </div>\n"
            ],
            "application/vnd.google.colaboratory.intrinsic+json": {
              "type": "dataframe",
              "summary": "{\n  \"name\": \"display(validation_mi\",\n  \"rows\": 5,\n  \"fields\": [\n    {\n      \"column\": \"id\",\n      \"properties\": {\n        \"dtype\": \"number\",\n        \"std\": 1,\n        \"min\": 1,\n        \"max\": 5,\n        \"num_unique_values\": 5,\n        \"samples\": [\n          2,\n          5,\n          3\n        ],\n        \"semantic_type\": \"\",\n        \"description\": \"\"\n      }\n    },\n    {\n      \"column\": \"subject_id\",\n      \"properties\": {\n        \"dtype\": \"category\",\n        \"num_unique_values\": 1,\n        \"samples\": [\n          \"S1\"\n        ],\n        \"semantic_type\": \"\",\n        \"description\": \"\"\n      }\n    },\n    {\n      \"column\": \"task\",\n      \"properties\": {\n        \"dtype\": \"category\",\n        \"num_unique_values\": 1,\n        \"samples\": [\n          \"MI\"\n        ],\n        \"semantic_type\": \"\",\n        \"description\": \"\"\n      }\n    },\n    {\n      \"column\": \"trial_session\",\n      \"properties\": {\n        \"dtype\": \"number\",\n        \"std\": 0,\n        \"min\": 1,\n        \"max\": 1,\n        \"num_unique_values\": 1,\n        \"samples\": [\n          1\n        ],\n        \"semantic_type\": \"\",\n        \"description\": \"\"\n      }\n    },\n    {\n      \"column\": \"trial\",\n      \"properties\": {\n        \"dtype\": \"number\",\n        \"std\": 1,\n        \"min\": 1,\n        \"max\": 5,\n        \"num_unique_values\": 5,\n        \"samples\": [\n          2\n        ],\n        \"semantic_type\": \"\",\n        \"description\": \"\"\n      }\n    },\n    {\n      \"column\": \"label\",\n      \"properties\": {\n        \"dtype\": \"category\",\n        \"num_unique_values\": 2,\n        \"samples\": [\n          \"Right\"\n        ],\n        \"semantic_type\": \"\",\n        \"description\": \"\"\n      }\n    }\n  ]\n}"
            }
          },
          "metadata": {}
        },
        {
          "output_type": "stream",
          "name": "stdout",
          "text": [
            "\n",
            "Filtered Validation Data for MI Task:\n"
          ]
        },
        {
          "output_type": "display_data",
          "data": {
            "text/plain": [
              "     id subject_id task  trial_session  trial  label\n",
              "0  4801        S31   MI              1      1   Left\n",
              "1  4802        S31   MI              1      2   Left\n",
              "2  4803        S31   MI              1      3  Right\n",
              "3  4804        S31   MI              1      4   Left\n",
              "4  4805        S31   MI              1      5   Left"
            ],
            "text/html": [
              "\n",
              "  <div id=\"df-82703083-7ff1-4f2e-80e1-2574f2ad92d5\" class=\"colab-df-container\">\n",
              "    <div>\n",
              "<style scoped>\n",
              "    .dataframe tbody tr th:only-of-type {\n",
              "        vertical-align: middle;\n",
              "    }\n",
              "\n",
              "    .dataframe tbody tr th {\n",
              "        vertical-align: top;\n",
              "    }\n",
              "\n",
              "    .dataframe thead th {\n",
              "        text-align: right;\n",
              "    }\n",
              "</style>\n",
              "<table border=\"1\" class=\"dataframe\">\n",
              "  <thead>\n",
              "    <tr style=\"text-align: right;\">\n",
              "      <th></th>\n",
              "      <th>id</th>\n",
              "      <th>subject_id</th>\n",
              "      <th>task</th>\n",
              "      <th>trial_session</th>\n",
              "      <th>trial</th>\n",
              "      <th>label</th>\n",
              "    </tr>\n",
              "  </thead>\n",
              "  <tbody>\n",
              "    <tr>\n",
              "      <th>0</th>\n",
              "      <td>4801</td>\n",
              "      <td>S31</td>\n",
              "      <td>MI</td>\n",
              "      <td>1</td>\n",
              "      <td>1</td>\n",
              "      <td>Left</td>\n",
              "    </tr>\n",
              "    <tr>\n",
              "      <th>1</th>\n",
              "      <td>4802</td>\n",
              "      <td>S31</td>\n",
              "      <td>MI</td>\n",
              "      <td>1</td>\n",
              "      <td>2</td>\n",
              "      <td>Left</td>\n",
              "    </tr>\n",
              "    <tr>\n",
              "      <th>2</th>\n",
              "      <td>4803</td>\n",
              "      <td>S31</td>\n",
              "      <td>MI</td>\n",
              "      <td>1</td>\n",
              "      <td>3</td>\n",
              "      <td>Right</td>\n",
              "    </tr>\n",
              "    <tr>\n",
              "      <th>3</th>\n",
              "      <td>4804</td>\n",
              "      <td>S31</td>\n",
              "      <td>MI</td>\n",
              "      <td>1</td>\n",
              "      <td>4</td>\n",
              "      <td>Left</td>\n",
              "    </tr>\n",
              "    <tr>\n",
              "      <th>4</th>\n",
              "      <td>4805</td>\n",
              "      <td>S31</td>\n",
              "      <td>MI</td>\n",
              "      <td>1</td>\n",
              "      <td>5</td>\n",
              "      <td>Left</td>\n",
              "    </tr>\n",
              "  </tbody>\n",
              "</table>\n",
              "</div>\n",
              "    <div class=\"colab-df-buttons\">\n",
              "\n",
              "  <div class=\"colab-df-container\">\n",
              "    <button class=\"colab-df-convert\" onclick=\"convertToInteractive('df-82703083-7ff1-4f2e-80e1-2574f2ad92d5')\"\n",
              "            title=\"Convert this dataframe to an interactive table.\"\n",
              "            style=\"display:none;\">\n",
              "\n",
              "  <svg xmlns=\"http://www.w3.org/2000/svg\" height=\"24px\" viewBox=\"0 -960 960 960\">\n",
              "    <path d=\"M120-120v-720h720v720H120Zm60-500h600v-160H180v160Zm220 220h160v-160H400v160Zm0 220h160v-160H400v160ZM180-400h160v-160H180v160Zm440 0h160v-160H620v160ZM180-180h160v-160H180v160Zm440 0h160v-160H620v160Z\"/>\n",
              "  </svg>\n",
              "    </button>\n",
              "\n",
              "  <style>\n",
              "    .colab-df-container {\n",
              "      display:flex;\n",
              "      gap: 12px;\n",
              "    }\n",
              "\n",
              "    .colab-df-convert {\n",
              "      background-color: #E8F0FE;\n",
              "      border: none;\n",
              "      border-radius: 50%;\n",
              "      cursor: pointer;\n",
              "      display: none;\n",
              "      fill: #1967D2;\n",
              "      height: 32px;\n",
              "      padding: 0 0 0 0;\n",
              "      width: 32px;\n",
              "    }\n",
              "\n",
              "    .colab-df-convert:hover {\n",
              "      background-color: #E2EBFA;\n",
              "      box-shadow: 0px 1px 2px rgba(60, 64, 67, 0.3), 0px 1px 3px 1px rgba(60, 64, 67, 0.15);\n",
              "      fill: #174EA6;\n",
              "    }\n",
              "\n",
              "    .colab-df-buttons div {\n",
              "      margin-bottom: 4px;\n",
              "    }\n",
              "\n",
              "    [theme=dark] .colab-df-convert {\n",
              "      background-color: #3B4455;\n",
              "      fill: #D2E3FC;\n",
              "    }\n",
              "\n",
              "    [theme=dark] .colab-df-convert:hover {\n",
              "      background-color: #434B5C;\n",
              "      box-shadow: 0px 1px 3px 1px rgba(0, 0, 0, 0.15);\n",
              "      filter: drop-shadow(0px 1px 2px rgba(0, 0, 0, 0.3));\n",
              "      fill: #FFFFFF;\n",
              "    }\n",
              "  </style>\n",
              "\n",
              "    <script>\n",
              "      const buttonEl =\n",
              "        document.querySelector('#df-82703083-7ff1-4f2e-80e1-2574f2ad92d5 button.colab-df-convert');\n",
              "      buttonEl.style.display =\n",
              "        google.colab.kernel.accessAllowed ? 'block' : 'none';\n",
              "\n",
              "      async function convertToInteractive(key) {\n",
              "        const element = document.querySelector('#df-82703083-7ff1-4f2e-80e1-2574f2ad92d5');\n",
              "        const dataTable =\n",
              "          await google.colab.kernel.invokeFunction('convertToInteractive',\n",
              "                                                    [key], {});\n",
              "        if (!dataTable) return;\n",
              "\n",
              "        const docLinkHtml = 'Like what you see? Visit the ' +\n",
              "          '<a target=\"_blank\" href=https://colab.research.google.com/notebooks/data_table.ipynb>data table notebook</a>'\n",
              "          + ' to learn more about interactive tables.';\n",
              "        element.innerHTML = '';\n",
              "        dataTable['output_type'] = 'display_data';\n",
              "        await google.colab.output.renderOutput(dataTable, element);\n",
              "        const docLink = document.createElement('div');\n",
              "        docLink.innerHTML = docLinkHtml;\n",
              "        element.appendChild(docLink);\n",
              "      }\n",
              "    </script>\n",
              "  </div>\n",
              "\n",
              "\n",
              "    <div id=\"df-2816cda9-480b-43cd-b3af-3293baad9e5a\">\n",
              "      <button class=\"colab-df-quickchart\" onclick=\"quickchart('df-2816cda9-480b-43cd-b3af-3293baad9e5a')\"\n",
              "                title=\"Suggest charts\"\n",
              "                style=\"display:none;\">\n",
              "\n",
              "<svg xmlns=\"http://www.w3.org/2000/svg\" height=\"24px\"viewBox=\"0 0 24 24\"\n",
              "     width=\"24px\">\n",
              "    <g>\n",
              "        <path d=\"M19 3H5c-1.1 0-2 .9-2 2v14c0 1.1.9 2 2 2h14c1.1 0 2-.9 2-2V5c0-1.1-.9-2-2-2zM9 17H7v-7h2v7zm4 0h-2V7h2v10zm4 0h-2v-4h2v4z\"/>\n",
              "    </g>\n",
              "</svg>\n",
              "      </button>\n",
              "\n",
              "<style>\n",
              "  .colab-df-quickchart {\n",
              "      --bg-color: #E8F0FE;\n",
              "      --fill-color: #1967D2;\n",
              "      --hover-bg-color: #E2EBFA;\n",
              "      --hover-fill-color: #174EA6;\n",
              "      --disabled-fill-color: #AAA;\n",
              "      --disabled-bg-color: #DDD;\n",
              "  }\n",
              "\n",
              "  [theme=dark] .colab-df-quickchart {\n",
              "      --bg-color: #3B4455;\n",
              "      --fill-color: #D2E3FC;\n",
              "      --hover-bg-color: #434B5C;\n",
              "      --hover-fill-color: #FFFFFF;\n",
              "      --disabled-bg-color: #3B4455;\n",
              "      --disabled-fill-color: #666;\n",
              "  }\n",
              "\n",
              "  .colab-df-quickchart {\n",
              "    background-color: var(--bg-color);\n",
              "    border: none;\n",
              "    border-radius: 50%;\n",
              "    cursor: pointer;\n",
              "    display: none;\n",
              "    fill: var(--fill-color);\n",
              "    height: 32px;\n",
              "    padding: 0;\n",
              "    width: 32px;\n",
              "  }\n",
              "\n",
              "  .colab-df-quickchart:hover {\n",
              "    background-color: var(--hover-bg-color);\n",
              "    box-shadow: 0 1px 2px rgba(60, 64, 67, 0.3), 0 1px 3px 1px rgba(60, 64, 67, 0.15);\n",
              "    fill: var(--button-hover-fill-color);\n",
              "  }\n",
              "\n",
              "  .colab-df-quickchart-complete:disabled,\n",
              "  .colab-df-quickchart-complete:disabled:hover {\n",
              "    background-color: var(--disabled-bg-color);\n",
              "    fill: var(--disabled-fill-color);\n",
              "    box-shadow: none;\n",
              "  }\n",
              "\n",
              "  .colab-df-spinner {\n",
              "    border: 2px solid var(--fill-color);\n",
              "    border-color: transparent;\n",
              "    border-bottom-color: var(--fill-color);\n",
              "    animation:\n",
              "      spin 1s steps(1) infinite;\n",
              "  }\n",
              "\n",
              "  @keyframes spin {\n",
              "    0% {\n",
              "      border-color: transparent;\n",
              "      border-bottom-color: var(--fill-color);\n",
              "      border-left-color: var(--fill-color);\n",
              "    }\n",
              "    20% {\n",
              "      border-color: transparent;\n",
              "      border-left-color: var(--fill-color);\n",
              "      border-top-color: var(--fill-color);\n",
              "    }\n",
              "    30% {\n",
              "      border-color: transparent;\n",
              "      border-left-color: var(--fill-color);\n",
              "      border-top-color: var(--fill-color);\n",
              "      border-right-color: var(--fill-color);\n",
              "    }\n",
              "    40% {\n",
              "      border-color: transparent;\n",
              "      border-right-color: var(--fill-color);\n",
              "      border-top-color: var(--fill-color);\n",
              "    }\n",
              "    60% {\n",
              "      border-color: transparent;\n",
              "      border-right-color: var(--fill-color);\n",
              "    }\n",
              "    80% {\n",
              "      border-color: transparent;\n",
              "      border-right-color: var(--fill-color);\n",
              "      border-bottom-color: var(--fill-color);\n",
              "    }\n",
              "    90% {\n",
              "      border-color: transparent;\n",
              "      border-bottom-color: var(--fill-color);\n",
              "    }\n",
              "  }\n",
              "</style>\n",
              "\n",
              "      <script>\n",
              "        async function quickchart(key) {\n",
              "          const quickchartButtonEl =\n",
              "            document.querySelector('#' + key + ' button');\n",
              "          quickchartButtonEl.disabled = true;  // To prevent multiple clicks.\n",
              "          quickchartButtonEl.classList.add('colab-df-spinner');\n",
              "          try {\n",
              "            const charts = await google.colab.kernel.invokeFunction(\n",
              "                'suggestCharts', [key], {});\n",
              "          } catch (error) {\n",
              "            console.error('Error during call to suggestCharts:', error);\n",
              "          }\n",
              "          quickchartButtonEl.classList.remove('colab-df-spinner');\n",
              "          quickchartButtonEl.classList.add('colab-df-quickchart-complete');\n",
              "        }\n",
              "        (() => {\n",
              "          let quickchartButtonEl =\n",
              "            document.querySelector('#df-2816cda9-480b-43cd-b3af-3293baad9e5a button');\n",
              "          quickchartButtonEl.style.display =\n",
              "            google.colab.kernel.accessAllowed ? 'block' : 'none';\n",
              "        })();\n",
              "      </script>\n",
              "    </div>\n",
              "\n",
              "    </div>\n",
              "  </div>\n"
            ],
            "application/vnd.google.colaboratory.intrinsic+json": {
              "type": "dataframe",
              "summary": "{\n  \"name\": \"display(validation_mi\",\n  \"rows\": 5,\n  \"fields\": [\n    {\n      \"column\": \"id\",\n      \"properties\": {\n        \"dtype\": \"number\",\n        \"std\": 1,\n        \"min\": 4801,\n        \"max\": 4805,\n        \"num_unique_values\": 5,\n        \"samples\": [\n          4802,\n          4805,\n          4803\n        ],\n        \"semantic_type\": \"\",\n        \"description\": \"\"\n      }\n    },\n    {\n      \"column\": \"subject_id\",\n      \"properties\": {\n        \"dtype\": \"category\",\n        \"num_unique_values\": 1,\n        \"samples\": [\n          \"S31\"\n        ],\n        \"semantic_type\": \"\",\n        \"description\": \"\"\n      }\n    },\n    {\n      \"column\": \"task\",\n      \"properties\": {\n        \"dtype\": \"category\",\n        \"num_unique_values\": 1,\n        \"samples\": [\n          \"MI\"\n        ],\n        \"semantic_type\": \"\",\n        \"description\": \"\"\n      }\n    },\n    {\n      \"column\": \"trial_session\",\n      \"properties\": {\n        \"dtype\": \"number\",\n        \"std\": 0,\n        \"min\": 1,\n        \"max\": 1,\n        \"num_unique_values\": 1,\n        \"samples\": [\n          1\n        ],\n        \"semantic_type\": \"\",\n        \"description\": \"\"\n      }\n    },\n    {\n      \"column\": \"trial\",\n      \"properties\": {\n        \"dtype\": \"number\",\n        \"std\": 1,\n        \"min\": 1,\n        \"max\": 5,\n        \"num_unique_values\": 5,\n        \"samples\": [\n          2\n        ],\n        \"semantic_type\": \"\",\n        \"description\": \"\"\n      }\n    },\n    {\n      \"column\": \"label\",\n      \"properties\": {\n        \"dtype\": \"category\",\n        \"num_unique_values\": 2,\n        \"samples\": [\n          \"Right\"\n        ],\n        \"semantic_type\": \"\",\n        \"description\": \"\"\n      }\n    }\n  ]\n}"
            }
          },
          "metadata": {}
        }
      ]
    },
    {
      "cell_type": "markdown",
      "source": [
        "***Plot: Label Distribution in Training Data***\n",
        "\n",
        "Let's visualize the balance between the 'Left' and 'Right' classes in our training set. An imbalanced dataset might require special handling during model training, such as using class weights."
      ],
      "metadata": {
        "id": "KlhiXnt3UqfF"
      }
    },
    {
      "cell_type": "code",
      "source": [
        "# Visualize the distribution of labels in the training set.\n",
        "plt.figure(figsize=(8, 5))\n",
        "sns.countplot(x='label', data=train_mi, palette='viridis')\n",
        "plt.title('Label Distribution in the MI Training Set')\n",
        "plt.xlabel('Motor Imagery Task')\n",
        "plt.ylabel('Number of Trials')\n",
        "plt.show()"
      ],
      "metadata": {
        "colab": {
          "base_uri": "https://localhost:8080/",
          "height": 574
        },
        "id": "wU6IadvsT5LC",
        "outputId": "3c088f23-9261-4b73-c80f-389103b63c92"
      },
      "execution_count": 54,
      "outputs": [
        {
          "output_type": "stream",
          "name": "stderr",
          "text": [
            "/tmp/ipython-input-54-503365080.py:3: FutureWarning: \n",
            "\n",
            "Passing `palette` without assigning `hue` is deprecated and will be removed in v0.14.0. Assign the `x` variable to `hue` and set `legend=False` for the same effect.\n",
            "\n",
            "  sns.countplot(x='label', data=train_mi, palette='viridis')\n"
          ]
        },
        {
          "output_type": "display_data",
          "data": {
            "text/plain": [
              "<Figure size 800x500 with 1 Axes>"
            ],
            "image/png": "[encoded data removed]"
          },
          "metadata": {}
        }
      ]
    },
    {
      "cell_type": "markdown",
      "source": [
        "***Section 3: Trial Extraction***\n",
        "\n",
        "Here, we define a function extract_trials to read the actual EEG signal data from the EEGdata.csv files. The function iterates through our filtered metadata, locates the correct file for each trial, and extracts the corresponding 9-second segment (2250 samples at 250 Hz). We apply this function to build our training, validation, and test datasets."
      ],
      "metadata": {
        "id": "-j48runaUvMt"
      }
    },
    {
      "cell_type": "code",
      "source": [
        "def extract_trials(df, base_path, is_test=False):\n",
        "    \"\"\"\n",
        "    Extracts EEG trial segments from CSV files based on a metadata DataFrame.\n",
        "\n",
        "    Args:\n",
        "        df (pd.DataFrame): DataFrame containing trial metadata (subject_id, trial_session, etc.).\n",
        "        base_path (str): The root directory of the dataset.\n",
        "        is_test (bool): Flag to indicate if processing the test set (which has no labels).\n",
        "\n",
        "    Returns:\n",
        "        tuple: A tuple containing:\n",
        "            - np.array: The extracted EEG data of shape (n_trials, n_timepoints, n_channels).\n",
        "            - np.array or None: The corresponding labels (0 for Left, 1 for Right), or None if is_test is True.\n",
        "    \"\"\"\n",
        "    # Initialize lists to store data and labels\n",
        "    data = []\n",
        "    labels = []\n",
        "\n",
        "    # Iterate over each row in the metadata DataFrame with a progress bar\n",
        "    for _, row in tqdm(df.iterrows(), total=len(df)):\n",
        "        # Determine the dataset split (train, validation, or test) based on the trial ID\n",
        "        dataset = 'test' if row['id'] >= 4901 else ('validation' if row['id'] >= 4801 else 'train')\n",
        "\n",
        "        # Get trial-specific information\n",
        "        subject_id = row['subject_id']\n",
        "        trial_session = row['trial_session']\n",
        "        trial_num = int(row['trial'])\n",
        "\n",
        "        # Construct the full path to the EEG data file\n",
        "        file_path = os.path.join(base_path, 'MI', dataset, subject_id, str(trial_session), 'EEGdata.csv')\n",
        "        eeg = pd.read_csv(file_path)\n",
        "\n",
        "        # Calculate the start and end indices for the trial segment (each trial is 9s * 250Hz = 2250 samples)\n",
        "        start = (trial_num - 1) * 2250\n",
        "        end = start + 2250\n",
        "\n",
        "        # Slice the DataFrame to get the trial segment and select only the specified EEG channels\n",
        "        eeg_segment = eeg.iloc[start:end][eeg_channels].values  # shape: (2250, n_channels)\n",
        "        data.append(eeg_segment)\n",
        "\n",
        "        # If it's not the test set, append the corresponding label (0 for Left, 1 for Right)\n",
        "        if not is_test:\n",
        "            labels.append(0 if row['label'] == 'Left' else 1)\n",
        "\n",
        "    # Convert lists to NumPy arrays\n",
        "    return np.array(data), (None if is_test else np.array(labels))\n",
        "\n",
        "# --- Extract Training Data ---\n",
        "print(\"Extracting training trials...\")\n",
        "X_train, y_train = extract_trials(train_mi, base_path)\n",
        "\n",
        "# --- Extract Validation Data ---\n",
        "print(\"\\nExtracting validation trials...\")\n",
        "X_val, y_val = extract_trials(validation_mi, base_path)\n",
        "\n",
        "# --- Extract Test Data ---\n",
        "# Load the test metadata and filter for MI task\n",
        "test_df = pd.read_csv(os.path.join(base_path, 'test.csv'))\n",
        "test_mi = test_df[test_df['task'] == 'MI'].reset_index(drop=True)\n",
        "print(\"\\nExtracting test trials...\")\n",
        "X_test, _ = extract_trials(test_mi, base_path, is_test=True)\n",
        "\n",
        "# Print the shapes of the resulting arrays to confirm the dimensions\n",
        "print(\"\\n--- Data Shapes ---\")\n",
        "print(f\"Train shape: {X_train.shape}, Labels: {y_train.shape}\")\n",
        "print(f\"Val shape:   {X_val.shape}, Labels: {y_val.shape}\")\n",
        "print(f\"Test shape:  {X_test.shape}\")"
      ],
      "metadata": {
        "colab": {
          "base_uri": "https://localhost:8080/"
        },
        "id": "-Qn3RjrTT6zQ",
        "outputId": "878ad9dc-6268-4159-9f86-b06311070423"
      },
      "execution_count": 55,
      "outputs": [
        {
          "output_type": "stream",
          "name": "stdout",
          "text": [
            "Extracting training trials...\n"
          ]
        },
        {
          "output_type": "stream",
          "name": "stderr",
          "text": [
            "100%|██████████| 2400/2400 [06:04<00:00,  6.58it/s]\n"
          ]
        },
        {
          "output_type": "stream",
          "name": "stdout",
          "text": [
            "\n",
            "Extracting validation trials...\n"
          ]
        },
        {
          "output_type": "stream",
          "name": "stderr",
          "text": [
            "100%|██████████| 50/50 [00:07<00:00,  6.76it/s]\n"
          ]
        },
        {
          "output_type": "stream",
          "name": "stdout",
          "text": [
            "\n",
            "Extracting test trials...\n"
          ]
        },
        {
          "output_type": "stream",
          "name": "stderr",
          "text": [
            "100%|██████████| 50/50 [00:05<00:00,  8.55it/s]"
          ]
        },
        {
          "output_type": "stream",
          "name": "stdout",
          "text": [
            "\n",
            "--- Data Shapes ---\n",
            "Train shape: (2400, 2250, 3), Labels: (2400,)\n",
            "Val shape:   (50, 2250, 3), Labels: (50,)\n",
            "Test shape:  (50, 2250, 3)\n"
          ]
        },
        {
          "output_type": "stream",
          "name": "stderr",
          "text": [
            "\n"
          ]
        }
      ]
    },
    {
      "cell_type": "markdown",
      "source": [
        "***Section 4: Data Preprocessing***\n",
        "\n",
        "Raw EEG signals are often noisy and vary between subjects and trials. This section applies several preprocessing steps to clean and standardize the data, which is crucial for building a robust model."
      ],
      "metadata": {
        "id": "UIrd-uq1U0W1"
      }
    },
    {
      "cell_type": "markdown",
      "source": [
        "***4.1 Initial Per-Trial Normalization***\n",
        "\n",
        "First, we normalize each trial individually. This step centers each trial's signal at zero mean and scales it to a unit standard deviation, helping to mitigate variations in signal amplitude."
      ],
      "metadata": {
        "id": "KX6QRQU_U34V"
      }
    },
    {
      "cell_type": "code",
      "source": [
        "def normalize_trials(X):\n",
        "    \"\"\"Normalizes each trial to have zero mean and unit standard deviation.\"\"\"\n",
        "    # Calculate mean and std deviation across the time axis (axis=1) for each trial\n",
        "    mean = X.mean(axis=1, keepdims=True)\n",
        "    std = X.std(axis=1, keepdims=True)\n",
        "    # Apply Z-score normalization\n",
        "    return (X - mean) / std\n",
        "\n",
        "# Apply normalization to all datasets\n",
        "X_train = normalize_trials(X_train)\n",
        "X_val = normalize_trials(X_val)\n",
        "X_test = normalize_trials(X_test)\n",
        "\n",
        "print(\"Applied initial per-trial normalization.\")"
      ],
      "metadata": {
        "colab": {
          "base_uri": "https://localhost:8080/"
        },
        "id": "LYc32147T88w",
        "outputId": "beda6bd2-511e-4e95-f9b9-cad167bbd46a"
      },
      "execution_count": 56,
      "outputs": [
        {
          "output_type": "stream",
          "name": "stdout",
          "text": [
            "Applied initial per-trial normalization.\n"
          ]
        }
      ]
    },
    {
      "cell_type": "markdown",
      "source": [
        "***4.2 Bandpass Filtering***\n",
        "\n",
        "Motor imagery tasks are known to modulate brain activity in specific frequency bands, primarily the mu (8-13 Hz) and beta (13-30 Hz) bands. We apply a bandpass filter to isolate signals within this 8-30 Hz range, removing irrelevant low-frequency drifts and high-frequency noise."
      ],
      "metadata": {
        "id": "wIM0PsPJU76I"
      }
    },
    {
      "cell_type": "code",
      "source": [
        "from scipy.signal import butter, filtfilt\n",
        "\n",
        "def bandpass_filter(data, low=8, high=30, fs=250, order=4):\n",
        "    \"\"\"\n",
        "    Applies a Butterworth bandpass filter to the data.\n",
        "    \"\"\"\n",
        "    # Calculate Nyquist frequency\n",
        "    nyquist = 0.5 * fs\n",
        "    # Normalize frequency cutoffs\n",
        "    low_cut = low / nyquist\n",
        "    high_cut = high / nyquist\n",
        "    # Get filter coefficients\n",
        "    b, a = butter(order, [low_cut, high_cut], btype='band')\n",
        "    # Apply the filter forward and backward to prevent phase shift\n",
        "    return filtfilt(b, a, data, axis=0)\n",
        "\n",
        "# Apply the bandpass filter to each trial in all datasets\n",
        "print(\"Applying bandpass filter...\")\n",
        "X_train_filtered = np.array([bandpass_filter(trial) for trial in tqdm(X_train, desc=\"Filtering Train\")])\n",
        "X_val_filtered = np.array([bandpass_filter(trial) for trial in tqdm(X_val, desc=\"Filtering Val\")])\n",
        "X_test_filtered = np.array([bandpass_filter(trial) for trial in tqdm(X_test, desc=\"Filtering Test\")])\n",
        "\n",
        "# For simplicity in the next steps, we overwrite the original variables.\n",
        "X_train = X_train_filtered\n",
        "X_val = X_val_filtered\n",
        "X_test = X_test_filtered\n",
        "\n",
        "print(\"Bandpass filtering complete.\")"
      ],
      "metadata": {
        "colab": {
          "base_uri": "https://localhost:8080/"
        },
        "id": "FYQEst36T-ka",
        "outputId": "90c20d97-dbd5-4386-ab26-f9edbc816bf6"
      },
      "execution_count": 57,
      "outputs": [
        {
          "output_type": "stream",
          "name": "stdout",
          "text": [
            "Applying bandpass filter...\n"
          ]
        },
        {
          "output_type": "stream",
          "name": "stderr",
          "text": [
            "Filtering Train: 100%|██████████| 2400/2400 [00:02<00:00, 994.75it/s]\n",
            "Filtering Val: 100%|██████████| 50/50 [00:00<00:00, 432.70it/s]\n",
            "Filtering Test: 100%|██████████| 50/50 [00:00<00:00, 599.95it/s]"
          ]
        },
        {
          "output_type": "stream",
          "name": "stdout",
          "text": [
            "Bandpass filtering complete.\n"
          ]
        },
        {
          "output_type": "stream",
          "name": "stderr",
          "text": [
            "\n"
          ]
        }
      ]
    },
    {
      "cell_type": "markdown",
      "source": [
        "***Plot: Effect of Filtering***\n",
        "\n",
        "To understand the impact of our filter, let's plot a single channel from one trial before and after applying the bandpass filter. The filtered signal should appear smoother, with low-frequency drifts and high-frequency noise removed."
      ],
      "metadata": {
        "id": "fJ9VUiOkVDBU"
      }
    },
    {
      "cell_type": "code",
      "source": [
        "# Select a sample trial and channel to visualize\n",
        "sample_trial_index = 0\n",
        "sample_channel_index = 0 # C3 channel\n",
        "time = np.arange(X_train.shape[1]) / 250.0 # Time in seconds\n",
        "\n",
        "# Get the raw (but normalized) data from before filtering\n",
        "# We need to re-run the normalization step on a single trial to get the \"before\" state\n",
        "original_trial_raw, _ = extract_trials(train_mi.iloc[[sample_trial_index]], base_path)\n",
        "original_trial_normalized = normalize_trials(original_trial_raw)[0]\n",
        "\n",
        "\n",
        "plt.figure(figsize=(15, 6))\n",
        "\n",
        "# Plot the signal before filtering\n",
        "plt.subplot(2, 1, 1)\n",
        "plt.plot(time, original_trial_normalized[:, sample_channel_index], label=f'Channel {eeg_channels[sample_channel_index]} - Before Filtering')\n",
        "plt.title(f'EEG Signal of Trial {sample_trial_index} - Before Bandpass Filter')\n",
        "plt.ylabel('Amplitude (normalized)')\n",
        "plt.legend()\n",
        "plt.grid(True)\n",
        "\n",
        "# Plot the signal after filtering\n",
        "plt.subplot(2, 1, 2)\n",
        "plt.plot(time, X_train[sample_trial_index, :, sample_channel_index], label=f'Channel {eeg_channels[sample_channel_index]} - After Filtering', color='orange')\n",
        "plt.title(f'EEG Signal of Trial {sample_trial_index} - After Bandpass Filter (8-30 Hz)')\n",
        "plt.xlabel('Time (s)')\n",
        "plt.ylabel('Amplitude')\n",
        "plt.legend()\n",
        "plt.grid(True)\n",
        "\n",
        "plt.tight_layout()\n",
        "plt.show()"
      ],
      "metadata": {
        "colab": {
          "base_uri": "https://localhost:8080/",
          "height": 584
        },
        "id": "QmMTzRKvUADZ",
        "outputId": "f2b2e9ef-c39d-48e6-f48c-09a040055ca0"
      },
      "execution_count": 58,
      "outputs": [
        {
          "output_type": "stream",
          "name": "stderr",
          "text": [
            "100%|██████████| 1/1 [00:00<00:00,  5.94it/s]\n"
          ]
        },
        {
          "output_type": "display_data",
          "data": {
            "text/plain": [
              "<Figure size 1500x600 with 2 Axes>"
            ],
            "image/png": "[encoded data removed]"
          },
          "metadata": {}
        }
      ]
    },
    {
      "cell_type": "markdown",
      "source": [
        "***4.3 Subject-wise Normalization***\n",
        "\n",
        "Different subjects can have vastly different baseline EEG signal characteristics. To account for this, we perform a second normalization step, this time on a per-subject basis. We calculate the mean and standard deviation across all trials belonging to a single subject and use these statistics to normalize that subject's data."
      ],
      "metadata": {
        "id": "bDMfhlVZVG7g"
      }
    },
    {
      "cell_type": "code",
      "source": [
        "from collections import defaultdict\n",
        "\n",
        "def group_trials_by_subject(df):\n",
        "    \"\"\"Groups trial indices by their subject_id.\"\"\"\n",
        "    subject_trials = defaultdict(list)\n",
        "    for i, row in df.iterrows():\n",
        "        subject_trials[row['subject_id']].append(i)\n",
        "    return subject_trials\n",
        "\n",
        "def subjectwise_normalize(X, df):\n",
        "    \"\"\"\n",
        "    Normalizes EEG data on a per-subject basis.\n",
        "    \"\"\"\n",
        "    # Create a map from subject_id to their trial indices\n",
        "    subject_map = group_trials_by_subject(df)\n",
        "    # Create an empty array to store the normalized data\n",
        "    X_norm = np.empty_like(X)\n",
        "\n",
        "    # Iterate over each subject and their corresponding trial indices\n",
        "    for subject_id, indices in subject_map.items():\n",
        "        # Get all data for the current subject\n",
        "        subject_data = X[indices]  # Shape: (n_trials, n_time, n_channels)\n",
        "\n",
        "        # Flatten the data across trials and time to calculate statistics per channel\n",
        "        all_data_flat = subject_data.reshape(-1, X.shape[2])  # Shape: (n_trials * time, n_channels)\n",
        "\n",
        "        # Calculate mean and std for each channel across all of the subject's data\n",
        "        mean = all_data_flat.mean(axis=0)\n",
        "        std = all_data_flat.std(axis=0)\n",
        "\n",
        "        # Normalize the subject's data and place it back in the main array\n",
        "        X_norm[indices] = (subject_data - mean) / std\n",
        "\n",
        "    return X_norm\n",
        "\n",
        "# Apply subject-wise normalization to all datasets\n",
        "print(\"Applying subject-wise normalization...\")\n",
        "X_train = subjectwise_normalize(X_train, train_mi)\n",
        "X_val = subjectwise_normalize(X_val, validation_mi)\n",
        "X_test = subjectwise_normalize(X_test, test_mi)\n",
        "\n",
        "print(\"Subject-wise normalization complete.\")"
      ],
      "metadata": {
        "colab": {
          "base_uri": "https://localhost:8080/"
        },
        "id": "M11OynTEUBgn",
        "outputId": "92b0dcce-b7e5-41e9-91d5-0043984e9449"
      },
      "execution_count": 59,
      "outputs": [
        {
          "output_type": "stream",
          "name": "stdout",
          "text": [
            "Applying subject-wise normalization...\n",
            "Subject-wise normalization complete.\n"
          ]
        }
      ]
    },
    {
      "cell_type": "markdown",
      "source": [
        "***Section 5: Feature Engineering***\n",
        "\n",
        "The preprocessed time-series data is high-dimensional. We now extract meaningful, lower-dimensional features that our machine learning model can use to discriminate between 'Left' and 'Right' motor imagery. We will use two powerful techniques: Common Spatial Patterns (CSP) and Power Spectral Density (PSD)."
      ],
      "metadata": {
        "id": "qQK9pYU3VMln"
      }
    },
    {
      "cell_type": "markdown",
      "source": [
        "***5.1 Common Spatial Patterns (CSP)***\n",
        "\n",
        "CSP is a technique that designs spatial filters to maximize the variance for one class while simultaneously minimizing it for the other. It's highly effective for discriminating between motor imagery states."
      ],
      "metadata": {
        "id": "1aWXxGdRVP1Z"
      }
    },
    {
      "cell_type": "code",
      "source": [
        "# Install the MNE-Python library if it's not already installed.\n",
        "!pip install -q mne"
      ],
      "metadata": {
        "id": "s44IyKhjUDsI"
      },
      "execution_count": 60,
      "outputs": []
    },
    {
      "cell_type": "code",
      "source": [
        "from mne.decoding import CSP\n",
        "\n",
        "# Reshape data for CSP: from (n_trials, n_timepoints, n_channels) to (n_trials, n_channels, n_timepoints)\n",
        "X_train_csp_input = X_train.transpose(0, 2, 1)\n",
        "X_val_csp_input = X_val.transpose(0, 2, 1)\n",
        "X_test_csp_input = X_test.transpose(0, 2, 1)\n",
        "\n",
        "# Initialize the CSP algorithm. We'll extract 4 components.\n",
        "# These components represent spatial filters that best separate the two classes.\n",
        "csp = CSP(n_components=4, reg=None, log=True, norm_trace=False)\n",
        "\n",
        "# Fit CSP on the training data and transform it to get CSP features\n",
        "print(\"Fitting and transforming data with CSP...\")\n",
        "X_train_csp = csp.fit_transform(X_train_csp_input, y_train)\n",
        "\n",
        "# Use the fitted CSP to transform the validation and test data\n",
        "X_val_csp = csp.transform(X_val_csp_input)\n",
        "X_test_csp = csp.transform(X_test_csp_input)\n",
        "\n",
        "print(f\"Shape of CSP features for training data: {X_train_csp.shape}\")"
      ],
      "metadata": {
        "colab": {
          "base_uri": "https://localhost:8080/"
        },
        "id": "IclSw33-UFo1",
        "outputId": "99eb67ce-740e-425c-e129-cd544e400a6c"
      },
      "execution_count": 61,
      "outputs": [
        {
          "output_type": "stream",
          "name": "stdout",
          "text": [
            "Fitting and transforming data with CSP...\n",
            "Computing rank from data with rank=None\n",
            "    Using tolerance 2.5 (2.2e-16 eps * 3 dim * 3.8e+15  max singular value)\n",
            "    Estimated rank (data): 3\n",
            "    data: rank 3 computed from 3 data channels with 0 projectors\n",
            "Reducing data rank from 3 -> 3\n",
            "Estimating class=0 covariance using EMPIRICAL\n",
            "Done.\n",
            "Estimating class=1 covariance using EMPIRICAL\n",
            "Done.\n",
            "Shape of CSP features for training data: (2400, 3)\n"
          ]
        }
      ]
    },
    {
      "cell_type": "markdown",
      "source": [
        "***5.2 Power Spectral Density (PSD) Features***\n",
        "PSD measures how the power of a signal is distributed over different frequencies. We calculate the power in five common EEG bands (Delta, Theta, Alpha, Beta, Gamma) for each channel. This gives us frequency-based features that complement the spatial features from CSP."
      ],
      "metadata": {
        "id": "noujdEpaVUDt"
      }
    },
    {
      "cell_type": "code",
      "source": [
        "from scipy.signal import welch\n",
        "\n",
        "def compute_psd(trial, fs=250, bands=[(0.5,4), (4,8), (8,13), (13,30), (30,50)]):\n",
        "    \"\"\"\n",
        "    Computes Power Spectral Density (PSD) features for a single trial.\n",
        "    \"\"\"\n",
        "    features = []\n",
        "    # Iterate over each channel in the trial\n",
        "    for ch in range(trial.shape[1]):\n",
        "        # Use Welch's method to compute the power spectrum\n",
        "        f, Pxx = welch(trial[:, ch], fs=fs, nperseg=256)\n",
        "        # For each frequency band, calculate the total power (area under the curve)\n",
        "        for band in bands:\n",
        "            fmin, fmax = band\n",
        "            band_power = np.trapz(Pxx[(f >= fmin) & (f <= fmax)], f[(f >= fmin) & (f <= fmax)])\n",
        "            features.append(band_power)\n",
        "    return features\n",
        "\n",
        "def extract_psd_features(X):\n",
        "    \"\"\"Applies PSD feature extraction to all trials in a dataset.\"\"\"\n",
        "    all_features = []\n",
        "    for trial in tqdm(X, desc=\"Extracting PSD Features\"):\n",
        "        feat = compute_psd(trial)\n",
        "        all_features.append(feat)\n",
        "    return np.array(all_features)\n",
        "\n",
        "# Extract PSD features for all datasets\n",
        "X_train_psd = extract_psd_features(X_train)\n",
        "X_val_psd = extract_psd_features(X_val)\n",
        "X_test_psd = extract_psd_features(X_test)\n",
        "\n",
        "print(f\"Shape of PSD features for training data: {X_train_psd.shape}\")"
      ],
      "metadata": {
        "colab": {
          "base_uri": "https://localhost:8080/"
        },
        "id": "b08iU36GUG7E",
        "outputId": "6fdda399-a161-4ef8-e923-6b904b6230ef"
      },
      "execution_count": 62,
      "outputs": [
        {
          "output_type": "stream",
          "name": "stderr",
          "text": [
            "Extracting PSD Features:   0%|          | 0/2400 [00:00<?, ?it/s]/tmp/ipython-input-62-3685399769.py:15: DeprecationWarning: `trapz` is deprecated. Use `trapezoid` instead, or one of the numerical integration functions in `scipy.integrate`.\n",
            "  band_power = np.trapz(Pxx[(f >= fmin) & (f <= fmax)], f[(f >= fmin) & (f <= fmax)])\n",
            "Extracting PSD Features:  10%|▉         | 233/2400 [00:00<00:05, 371.48it/s]/tmp/ipython-input-62-3685399769.py:15: DeprecationWarning: `trapz` is deprecated. Use `trapezoid` instead, or one of the numerical integration functions in `scipy.integrate`.\n",
            "  band_power = np.trapz(Pxx[(f >= fmin) & (f <= fmax)], f[(f >= fmin) & (f <= fmax)])\n",
            "Extracting PSD Features:  40%|███▉      | 958/2400 [00:04<00:10, 138.78it/s]/tmp/ipython-input-62-3685399769.py:15: DeprecationWarning: `trapz` is deprecated. Use `trapezoid` instead, or one of the numerical integration functions in `scipy.integrate`.\n",
            "  band_power = np.trapz(Pxx[(f >= fmin) & (f <= fmax)], f[(f >= fmin) & (f <= fmax)])\n",
            "Extracting PSD Features:  56%|█████▌    | 1348/2400 [00:06<00:05, 188.47it/s]/tmp/ipython-input-62-3685399769.py:15: DeprecationWarning: `trapz` is deprecated. Use `trapezoid` instead, or one of the numerical integration functions in `scipy.integrate`.\n",
            "  band_power = np.trapz(Pxx[(f >= fmin) & (f <= fmax)], f[(f >= fmin) & (f <= fmax)])\n",
            "Extracting PSD Features:  75%|███████▌  | 1803/2400 [00:08<00:01, 317.23it/s]/tmp/ipython-input-62-3685399769.py:15: DeprecationWarning: `trapz` is deprecated. Use `trapezoid` instead, or one of the numerical integration functions in `scipy.integrate`.\n",
            "  band_power = np.trapz(Pxx[(f >= fmin) & (f <= fmax)], f[(f >= fmin) & (f <= fmax)])\n",
            "Extracting PSD Features:  86%|████████▌ | 2064/2400 [00:09<00:02, 166.11it/s]/tmp/ipython-input-62-3685399769.py:15: DeprecationWarning: `trapz` is deprecated. Use `trapezoid` instead, or one of the numerical integration functions in `scipy.integrate`.\n",
            "  band_power = np.trapz(Pxx[(f >= fmin) & (f <= fmax)], f[(f >= fmin) & (f <= fmax)])\n",
            "Extracting PSD Features: 100%|██████████| 2400/2400 [00:10<00:00, 219.31it/s]\n",
            "Extracting PSD Features: 100%|██████████| 50/50 [00:00<00:00, 307.57it/s]\n",
            "Extracting PSD Features: 100%|██████████| 50/50 [00:00<00:00, 218.72it/s]"
          ]
        },
        {
          "output_type": "stream",
          "name": "stdout",
          "text": [
            "Shape of PSD features for training data: (2400, 15)\n"
          ]
        },
        {
          "output_type": "stream",
          "name": "stderr",
          "text": [
            "\n"
          ]
        }
      ]
    },
    {
      "cell_type": "markdown",
      "source": [
        "***5.3 Feature Combination***\n",
        "\n",
        "Finally, we combine the features from CSP and PSD into a single feature vector for each trial. This unified feature set will be used to train our classifier."
      ],
      "metadata": {
        "id": "-B7Wq0QHVW9F"
      }
    },
    {
      "cell_type": "code",
      "source": [
        "# Horizontally stack the CSP and PSD feature arrays\n",
        "X_train_csp_psd = np.hstack([X_train_csp, X_train_psd])\n",
        "X_val_csp_psd = np.hstack([X_val_csp, X_val_psd])\n",
        "X_test_csp_psd = np.hstack([X_test_csp, X_test_psd])\n",
        "\n",
        "print(f\"Shape of combined (CSP+PSD) training features: {X_train_csp_psd.shape}\")\n",
        "print(f\"Shape of combined (CSP+PSD) validation features: {X_val_csp_psd.shape}\")"
      ],
      "metadata": {
        "colab": {
          "base_uri": "https://localhost:8080/"
        },
        "id": "RbwQEW-6UIk1",
        "outputId": "ee9deb1e-4f1f-4f47-e651-02e137aea587"
      },
      "execution_count": 63,
      "outputs": [
        {
          "output_type": "stream",
          "name": "stdout",
          "text": [
            "Shape of combined (CSP+PSD) training features: (2400, 18)\n",
            "Shape of combined (CSP+PSD) validation features: (50, 18)\n"
          ]
        }
      ]
    },
    {
      "cell_type": "markdown",
      "source": [
        "***Section 6: Model Training and Evaluation***\n",
        "\n",
        "With our features engineered, we can now train a classification model. We'll evaluate two powerful gradient boosting models, LightGBM and CatBoost, and select the best one for our final predictions."
      ],
      "metadata": {
        "id": "WysI6WbUVblU"
      }
    },
    {
      "cell_type": "markdown",
      "source": [
        "***6.1 LightGBM Model (for comparison)***\n",
        "\n",
        "LightGBM is a fast and efficient gradient boosting framework. We'll train it as a baseline."
      ],
      "metadata": {
        "id": "fo1BMW8vVeoc"
      }
    },
    {
      "cell_type": "code",
      "source": [
        "import lightgbm as lgb\n",
        "from sklearn.metrics import accuracy_score, classification_report\n",
        "\n",
        "# Initialize the LightGBM classifier with selected hyperparameters\n",
        "clf = lgb.LGBMClassifier(\n",
        "    n_estimators=70,\n",
        "    learning_rate=0.05,\n",
        "    max_depth=5,\n",
        "    class_weight='balanced',  # Helps with any class imbalance\n",
        "    random_state=42\n",
        ")\n",
        "\n",
        "# Train the model on the combined training features\n",
        "print(\"Training LightGBM model...\")\n",
        "clf.fit(X_train_csp_psd, y_train)\n",
        "\n",
        "# Make predictions on the training and validation sets\n",
        "y_train_pred_lgb = clf.predict(X_train_csp_psd)\n",
        "y_val_pred_lgb = clf.predict(X_val_csp_psd)\n",
        "\n",
        "# Evaluate the model's performance\n",
        "print(\"\\n--- LightGBM Model Performance ---\")\n",
        "print(f\"Training Accuracy: {accuracy_score(y_train, y_train_pred_lgb):.4f}\")\n",
        "print(f\"Validation Accuracy: {accuracy_score(y_val, y_val_pred_lgb):.4f}\")\n",
        "print(\"\\nValidation Report:\")\n",
        "print(classification_report(y_val, y_val_pred_lgb, target_names=[\"Left\", \"Right\"]))"
      ],
      "metadata": {
        "colab": {
          "base_uri": "https://localhost:8080/"
        },
        "id": "jf_tCLIJUKH0",
        "outputId": "3a743e12-0b47-4158-e81f-cf8c2e81a507"
      },
      "execution_count": 64,
      "outputs": [
        {
          "output_type": "stream",
          "name": "stderr",
          "text": [
            "/usr/local/lib/python3.11/dist-packages/sklearn/utils/deprecation.py:151: FutureWarning: 'force_all_finite' was renamed to 'ensure_all_finite' in 1.6 and will be removed in 1.8.\n",
            "  warnings.warn(\n"
          ]
        },
        {
          "output_type": "stream",
          "name": "stdout",
          "text": [
            "Training LightGBM model...\n",
            "[LightGBM] [Info] Number of positive: 1213, number of negative: 1187\n",
            "[LightGBM] [Info] Auto-choosing col-wise multi-threading, the overhead of testing was 0.000931 seconds.\n",
            "You can set `force_col_wise=true` to remove the overhead.\n",
            "[LightGBM] [Info] Total Bins 4590\n",
            "[LightGBM] [Info] Number of data points in the train set: 2400, number of used features: 18\n",
            "[LightGBM] [Info] [binary:BoostFromScore]: pavg=0.500000 -> initscore=0.000000\n",
            "[LightGBM] [Info] Start training from score 0.000000\n",
            "[LightGBM] [Warning] No further splits with positive gain, best gain: -inf\n",
            "[LightGBM] [Warning] No further splits with positive gain, best gain: -inf\n",
            "[LightGBM] [Warning] No further splits with positive gain, best gain: -inf\n",
            "[LightGBM] [Warning] No further splits with positive gain, best gain: -inf\n",
            "[LightGBM] [Warning] No further splits with positive gain, best gain: -inf\n",
            "[LightGBM] [Warning] No further splits with positive gain, best gain: -inf\n",
            "[LightGBM] [Warning] No further splits with positive gain, best gain: -inf\n",
            "[LightGBM] [Warning] No further splits with positive gain, best gain: -inf\n",
            "[LightGBM] [Warning] No further splits with positive gain, best gain: -inf\n",
            "[LightGBM] [Warning] No further splits with positive gain, best gain: -inf\n",
            "[LightGBM] [Warning] No further splits with positive gain, best gain: -inf\n",
            "[LightGBM] [Warning] No further splits with positive gain, best gain: -inf\n",
            "[LightGBM] [Warning] No further splits with positive gain, best gain: -inf\n",
            "[LightGBM] [Warning] No further splits with positive gain, best gain: -inf\n",
            "[LightGBM] [Warning] No further splits with positive gain, best gain: -inf\n",
            "[LightGBM] [Warning] No further splits with positive gain, best gain: -inf\n",
            "[LightGBM] [Warning] No further splits with positive gain, best gain: -inf\n",
            "[LightGBM] [Warning] No further splits with positive gain, best gain: -inf\n",
            "[LightGBM] [Warning] No further splits with positive gain, best gain: -inf\n",
            "[LightGBM] [Warning] No further splits with positive gain, best gain: -inf\n",
            "[LightGBM] [Warning] No further splits with positive gain, best gain: -inf\n",
            "[LightGBM] [Warning] No further splits with positive gain, best gain: -inf\n",
            "[LightGBM] [Warning] No further splits with positive gain, best gain: -inf\n",
            "[LightGBM] [Warning] No further splits with positive gain, best gain: -inf\n",
            "[LightGBM] [Warning] No further splits with positive gain, best gain: -inf\n",
            "[LightGBM] [Warning] No further splits with positive gain, best gain: -inf\n",
            "[LightGBM] [Warning] No further splits with positive gain, best gain: -inf\n",
            "[LightGBM] [Warning] No further splits with positive gain, best gain: -inf\n",
            "[LightGBM] [Warning] No further splits with positive gain, best gain: -inf\n",
            "[LightGBM] [Warning] No further splits with positive gain, best gain: -inf\n",
            "[LightGBM] [Warning] No further splits with positive gain, best gain: -inf\n",
            "[LightGBM] [Warning] No further splits with positive gain, best gain: -inf\n",
            "[LightGBM] [Warning] No further splits with positive gain, best gain: -inf\n",
            "[LightGBM] [Warning] No further splits with positive gain, best gain: -inf\n",
            "[LightGBM] [Warning] No further splits with positive gain, best gain: -inf\n",
            "[LightGBM] [Warning] No further splits with positive gain, best gain: -inf\n",
            "[LightGBM] [Warning] No further splits with positive gain, best gain: -inf\n",
            "[LightGBM] [Warning] No further splits with positive gain, best gain: -inf\n",
            "[LightGBM] [Warning] No further splits with positive gain, best gain: -inf\n",
            "[LightGBM] [Warning] No further splits with positive gain, best gain: -inf\n",
            "[LightGBM] [Warning] No further splits with positive gain, best gain: -inf\n",
            "[LightGBM] [Warning] No further splits with positive gain, best gain: -inf\n",
            "[LightGBM] [Warning] No further splits with positive gain, best gain: -inf\n",
            "[LightGBM] [Warning] No further splits with positive gain, best gain: -inf\n",
            "[LightGBM] [Warning] No further splits with positive gain, best gain: -inf\n",
            "[LightGBM] [Warning] No further splits with positive gain, best gain: -inf\n",
            "[LightGBM] [Warning] No further splits with positive gain, best gain: -inf\n",
            "[LightGBM] [Warning] No further splits with positive gain, best gain: -inf\n",
            "[LightGBM] [Warning] No further splits with positive gain, best gain: -inf\n",
            "[LightGBM] [Warning] No further splits with positive gain, best gain: -inf\n",
            "[LightGBM] [Warning] No further splits with positive gain, best gain: -inf\n",
            "[LightGBM] [Warning] No further splits with positive gain, best gain: -inf\n",
            "[LightGBM] [Warning] No further splits with positive gain, best gain: -inf\n",
            "[LightGBM] [Warning] No further splits with positive gain, best gain: -inf\n",
            "[LightGBM] [Warning] No further splits with positive gain, best gain: -inf\n",
            "[LightGBM] [Warning] No further splits with positive gain, best gain: -inf\n",
            "[LightGBM] [Warning] No further splits with positive gain, best gain: -inf\n",
            "[LightGBM] [Warning] No further splits with positive gain, best gain: -inf\n",
            "[LightGBM] [Warning] No further splits with positive gain, best gain: -inf\n",
            "[LightGBM] [Warning] No further splits with positive gain, best gain: -inf\n",
            "[LightGBM] [Warning] No further splits with positive gain, best gain: -inf\n",
            "[LightGBM] [Warning] No further splits with positive gain, best gain: -inf\n",
            "[LightGBM] [Warning] No further splits with positive gain, best gain: -inf\n",
            "[LightGBM] [Warning] No further splits with positive gain, best gain: -inf\n",
            "[LightGBM] [Warning] No further splits with positive gain, best gain: -inf\n",
            "[LightGBM] [Warning] No further splits with positive gain, best gain: -inf\n",
            "[LightGBM] [Warning] No further splits with positive gain, best gain: -inf\n",
            "[LightGBM] [Warning] No further splits with positive gain, best gain: -inf\n",
            "[LightGBM] [Warning] No further splits with positive gain, best gain: -inf\n",
            "[LightGBM] [Warning] No further splits with positive gain, best gain: -inf\n",
            "\n",
            "--- LightGBM Model Performance ---\n",
            "Training Accuracy: 0.8029\n",
            "Validation Accuracy: 0.4400\n",
            "\n",
            "Validation Report:\n",
            "              precision    recall  f1-score   support\n",
            "\n",
            "        Left       0.50      0.32      0.39        28\n",
            "       Right       0.41      0.59      0.48        22\n",
            "\n",
            "    accuracy                           0.44        50\n",
            "   macro avg       0.45      0.46      0.44        50\n",
            "weighted avg       0.46      0.44      0.43        50\n",
            "\n"
          ]
        },
        {
          "output_type": "stream",
          "name": "stderr",
          "text": [
            "/usr/local/lib/python3.11/dist-packages/sklearn/utils/deprecation.py:151: FutureWarning: 'force_all_finite' was renamed to 'ensure_all_finite' in 1.6 and will be removed in 1.8.\n",
            "  warnings.warn(\n",
            "/usr/local/lib/python3.11/dist-packages/sklearn/utils/deprecation.py:151: FutureWarning: 'force_all_finite' was renamed to 'ensure_all_finite' in 1.6 and will be removed in 1.8.\n",
            "  warnings.warn(\n"
          ]
        }
      ]
    },
    {
      "cell_type": "markdown",
      "source": [
        "***6.2 CatBoost Model (Final Model)***\n",
        "\n",
        "CatBoost is another robust gradient boosting library, known for its good performance without extensive hyperparameter tuning. We will use this as our final model."
      ],
      "metadata": {
        "id": "i-_ENAPlViWE"
      }
    },
    {
      "cell_type": "code",
      "source": [
        "# Install catboost if not already installed\n",
        "!pip install -q catboost"
      ],
      "metadata": {
        "id": "m83EerQdUL-V"
      },
      "execution_count": 65,
      "outputs": []
    },
    {
      "cell_type": "code",
      "source": [
        "from catboost import CatBoostClassifier\n",
        "\n",
        "# Initialize the CatBoost classifier\n",
        "cat_clf = CatBoostClassifier(\n",
        "    iterations=100,\n",
        "    learning_rate=0.05,\n",
        "    depth=5,\n",
        "    l2_leaf_reg=3.0,\n",
        "    loss_function='Logloss',\n",
        "    eval_metric='Accuracy',\n",
        "    random_seed=42,\n",
        "    verbose=False,  # Suppress training output\n",
        "    class_weights=[1.1, 0.9] # Assign slightly more weight to the minority class if needed\n",
        ")\n",
        "\n",
        "# Train the CatBoost model\n",
        "print(\"Training CatBoost model...\")\n",
        "cat_clf.fit(X_train_csp_psd, y_train)\n",
        "\n",
        "# Make predictions on the training and validation sets\n",
        "y_train_pred = cat_clf.predict(X_train_csp_psd)\n",
        "y_val_pred = cat_clf.predict(X_val_csp_psd)\n",
        "\n",
        "# Evaluate the model's performance\n",
        "print(\"\\n--- CatBoost Model Performance ---\")\n",
        "print(f\"Training Accuracy: {accuracy_score(y_train, y_train_pred):.4f}\")\n",
        "print(f\"Validation Accuracy: {accuracy_score(y_val, y_val_pred):.4f}\")\n",
        "\n",
        "# Display a detailed classification report for the validation set\n",
        "print(\"\\nValidation Classification Report:\")\n",
        "print(classification_report(y_val, y_val_pred, target_names=[\"Left\", \"Right\"]))"
      ],
      "metadata": {
        "colab": {
          "base_uri": "https://localhost:8080/"
        },
        "id": "xouTg5tJUNVY",
        "outputId": "c2dbdc57-ab6c-4338-ec36-e252c8ae7d84"
      },
      "execution_count": 66,
      "outputs": [
        {
          "output_type": "stream",
          "name": "stdout",
          "text": [
            "Training CatBoost model...\n",
            "\n",
            "--- CatBoost Model Performance ---\n",
            "Training Accuracy: 0.6058\n",
            "Validation Accuracy: 0.6000\n",
            "\n",
            "Validation Classification Report:\n",
            "              precision    recall  f1-score   support\n",
            "\n",
            "        Left       0.61      0.82      0.70        28\n",
            "       Right       0.58      0.32      0.41        22\n",
            "\n",
            "    accuracy                           0.60        50\n",
            "   macro avg       0.59      0.57      0.55        50\n",
            "weighted avg       0.60      0.60      0.57        50\n",
            "\n"
          ]
        }
      ]
    },
    {
      "cell_type": "markdown",
      "source": [
        "***Section 7: Results Visualization***\n",
        "\n",
        "To better understand the performance of our final CatBoost model, we visualize its predictions on the validation set.\n",
        "Plot: Label Distribution in Validation Set\n",
        "First, let's confirm the distribution of the true labels in the validat"
      ],
      "metadata": {
        "id": "_vmxEiQdVmb8"
      }
    },
    {
      "cell_type": "code",
      "source": [
        "# Map numeric labels back to names for plotting\n",
        "label_map = {0: 'Left', 1: 'Right'}\n",
        "y_val_named = pd.Series(y_val).map(label_map)\n",
        "\n",
        "# Plot the count of each class in the validation set\n",
        "plt.figure(figsize=(6, 4))\n",
        "sns.countplot(x=y_val_named, palette='pastel')\n",
        "plt.title('True Label Distribution in Validation Set')\n",
        "plt.xlabel('Class')\n",
        "plt.ylabel('Count')\n",
        "plt.tight_layout()\n",
        "plt.show()"
      ],
      "metadata": {
        "colab": {
          "base_uri": "https://localhost:8080/",
          "height": 494
        },
        "id": "0tnp_qyEUOu3",
        "outputId": "b1256b12-c88b-4a22-ad24-3464bb1d4017"
      },
      "execution_count": 67,
      "outputs": [
        {
          "output_type": "stream",
          "name": "stderr",
          "text": [
            "/tmp/ipython-input-67-1038978240.py:7: FutureWarning: \n",
            "\n",
            "Passing `palette` without assigning `hue` is deprecated and will be removed in v0.14.0. Assign the `x` variable to `hue` and set `legend=False` for the same effect.\n",
            "\n",
            "  sns.countplot(x=y_val_named, palette='pastel')\n"
          ]
        },
        {
          "output_type": "display_data",
          "data": {
            "text/plain": [
              "<Figure size 600x400 with 1 Axes>"
            ],
            "image/png": "[encoded data removed]"
          },
          "metadata": {}
        }
      ]
    },
    {
      "cell_type": "markdown",
      "source": [
        "***Plot: Confusion Matrix***\n",
        "\n",
        "A confusion matrix provides a detailed look at the model's performance, showing correct predictions versus incorrect ones (false positives and false negatives)."
      ],
      "metadata": {
        "id": "gk_YBL97VqT0"
      }
    },
    {
      "cell_type": "code",
      "source": [
        "from sklearn.metrics import confusion_matrix\n",
        "\n",
        "# Generate the confusion matrix for the validation set\n",
        "cm_val = confusion_matrix(y_val, y_val_pred)\n",
        "\n",
        "# Plot the confusion matrix as a heatmap for better visualization\n",
        "plt.figure(figsize=(7, 5))\n",
        "sns.heatmap(cm_val, annot=True, fmt='d', cmap='Blues',\n",
        "            xticklabels=[\"Predicted Left\", \"Predicted Right\"],\n",
        "            yticklabels=[\"Actual Left\", \"Actual Right\"])\n",
        "plt.title(\"Confusion Matrix - Validation Set (CatBoost Model)\")\n",
        "plt.xlabel(\"Predicted Label\")\n",
        "plt.ylabel(\"True Label\")\n",
        "plt.tight_layout()\n",
        "plt.show()"
      ],
      "metadata": {
        "colab": {
          "base_uri": "https://localhost:8080/",
          "height": 507
        },
        "id": "LmTT3sXfUQIp",
        "outputId": "3b487bce-2a97-4b19-ad56-25db915b9f10"
      },
      "execution_count": 68,
      "outputs": [
        {
          "output_type": "display_data",
          "data": {
            "text/plain": [
              "<Figure size 700x500 with 2 Axes>"
            ],
            "image/png": "[encoded data removed]"
          },
          "metadata": {}
        }
      ]
    },
    {
      "cell_type": "markdown",
      "source": [
        "***Section 8: Test Set Prediction and Submission***\n",
        "\n",
        "Now we apply the full pipeline—CSP transformation, PSD feature extraction, and feature combination—to the test data. We then use our trained CatBoost model to predict the labels and generate the final submission file."
      ],
      "metadata": {
        "id": "Kw60sVCrVuZk"
      }
    },
    {
      "cell_type": "code",
      "source": [
        "# 1. Use the fitted CSP model to transform the test data\n",
        "# Note: X_test_csp was already computed in Section 5.1\n",
        "\n",
        "# 2. Extract PSD features from the test data\n",
        "# Note: X_test_psd was already computed in Section 5.2\n",
        "\n",
        "# 3. Combine the CSP and PSD features for the test set\n",
        "# Note: X_test_csp_psd was already computed in Section 5.3\n",
        "\n",
        "# 4. Use the trained CatBoost model to predict labels for the test set\n",
        "print(\"Predicting labels for the test set...\")\n",
        "y_test_pred = cat_clf.predict(X_test_csp_psd).flatten() # Flatten to ensure 1D array\n",
        "\n",
        "# 5. Map the numeric predictions (0, 1) back to string labels ('Left', 'Right')\n",
        "label_map = {0: 'Left', 1: 'Right'}\n",
        "y_test_pred_labels = [label_map[label] for label in y_test_pred]\n",
        "\n",
        "# 6. Create a submission DataFrame in the required format\n",
        "submission_df = pd.DataFrame({\n",
        "    'id': test_mi['id'].values,\n",
        "    'label': y_test_pred_labels\n",
        "})\n",
        "\n",
        "# 7. Save the DataFrame to a CSV file\n",
        "submission_filename = 'CSP_PSD_CatBoost_submission.csv'\n",
        "submission_df.to_csv(submission_filename, index=False)\n",
        "\n",
        "print(f\"\\nSubmission file saved as '{submission_filename}'\")\n",
        "display(submission_df.head())"
      ],
      "metadata": {
        "colab": {
          "base_uri": "https://localhost:8080/",
          "height": 259
        },
        "id": "0FEDoN44URc2",
        "outputId": "0512d5c4-aac2-4622-e9ff-7d8a587f9f28"
      },
      "execution_count": 69,
      "outputs": [
        {
          "output_type": "stream",
          "name": "stdout",
          "text": [
            "Predicting labels for the test set...\n",
            "\n",
            "Submission file saved as 'CSP_PSD_CatBoost_submission.csv'\n"
          ]
        },
        {
          "output_type": "display_data",
          "data": {
            "text/plain": [
              "     id  label\n",
              "0  4901   Left\n",
              "1  4902   Left\n",
              "2  4903  Right\n",
              "3  4904   Left\n",
              "4  4905  Right"
            ],
            "text/html": [
              "\n",
              "  <div id=\"df-91911201-0ae2-4c4a-ae33-bce6432a01e1\" class=\"colab-df-container\">\n",
              "    <div>\n",
              "<style scoped>\n",
              "    .dataframe tbody tr th:only-of-type {\n",
              "        vertical-align: middle;\n",
              "    }\n",
              "\n",
              "    .dataframe tbody tr th {\n",
              "        vertical-align: top;\n",
              "    }\n",
              "\n",
              "    .dataframe thead th {\n",
              "        text-align: right;\n",
              "    }\n",
              "</style>\n",
              "<table border=\"1\" class=\"dataframe\">\n",
              "  <thead>\n",
              "    <tr style=\"text-align: right;\">\n",
              "      <th></th>\n",
              "      <th>id</th>\n",
              "      <th>label</th>\n",
              "    </tr>\n",
              "  </thead>\n",
              "  <tbody>\n",
              "    <tr>\n",
              "      <th>0</th>\n",
              "      <td>4901</td>\n",
              "      <td>Left</td>\n",
              "    </tr>\n",
              "    <tr>\n",
              "      <th>1</th>\n",
              "      <td>4902</td>\n",
              "      <td>Left</td>\n",
              "    </tr>\n",
              "    <tr>\n",
              "      <th>2</th>\n",
              "      <td>4903</td>\n",
              "      <td>Right</td>\n",
              "    </tr>\n",
              "    <tr>\n",
              "      <th>3</th>\n",
              "      <td>4904</td>\n",
              "      <td>Left</td>\n",
              "    </tr>\n",
              "    <tr>\n",
              "      <th>4</th>\n",
              "      <td>4905</td>\n",
              "      <td>Right</td>\n",
              "    </tr>\n",
              "  </tbody>\n",
              "</table>\n",
              "</div>\n",
              "    <div class=\"colab-df-buttons\">\n",
              "\n",
              "  <div class=\"colab-df-container\">\n",
              "    <button class=\"colab-df-convert\" onclick=\"convertToInteractive('df-91911201-0ae2-4c4a-ae33-bce6432a01e1')\"\n",
              "            title=\"Convert this dataframe to an interactive table.\"\n",
              "            style=\"display:none;\">\n",
              "\n",
              "  <svg xmlns=\"http://www.w3.org/2000/svg\" height=\"24px\" viewBox=\"0 -960 960 960\">\n",
              "    <path d=\"M120-120v-720h720v720H120Zm60-500h600v-160H180v160Zm220 220h160v-160H400v160Zm0 220h160v-160H400v160ZM180-400h160v-160H180v160Zm440 0h160v-160H620v160ZM180-180h160v-160H180v160Zm440 0h160v-160H620v160Z\"/>\n",
              "  </svg>\n",
              "    </button>\n",
              "\n",
              "  <style>\n",
              "    .colab-df-container {\n",
              "      display:flex;\n",
              "      gap: 12px;\n",
              "    }\n",
              "\n",
              "    .colab-df-convert {\n",
              "      background-color: #E8F0FE;\n",
              "      border: none;\n",
              "      border-radius: 50%;\n",
              "      cursor: pointer;\n",
              "      display: none;\n",
              "      fill: #1967D2;\n",
              "      height: 32px;\n",
              "      padding: 0 0 0 0;\n",
              "      width: 32px;\n",
              "    }\n",
              "\n",
              "    .colab-df-convert:hover {\n",
              "      background-color: #E2EBFA;\n",
              "      box-shadow: 0px 1px 2px rgba(60, 64, 67, 0.3), 0px 1px 3px 1px rgba(60, 64, 67, 0.15);\n",
              "      fill: #174EA6;\n",
              "    }\n",
              "\n",
              "    .colab-df-buttons div {\n",
              "      margin-bottom: 4px;\n",
              "    }\n",
              "\n",
              "    [theme=dark] .colab-df-convert {\n",
              "      background-color: #3B4455;\n",
              "      fill: #D2E3FC;\n",
              "    }\n",
              "\n",
              "    [theme=dark] .colab-df-convert:hover {\n",
              "      background-color: #434B5C;\n",
              "      box-shadow: 0px 1px 3px 1px rgba(0, 0, 0, 0.15);\n",
              "      filter: drop-shadow(0px 1px 2px rgba(0, 0, 0, 0.3));\n",
              "      fill: #FFFFFF;\n",
              "    }\n",
              "  </style>\n",
              "\n",
              "    <script>\n",
              "      const buttonEl =\n",
              "        document.querySelector('#df-91911201-0ae2-4c4a-ae33-bce6432a01e1 button.colab-df-convert');\n",
              "      buttonEl.style.display =\n",
              "        google.colab.kernel.accessAllowed ? 'block' : 'none';\n",
              "\n",
              "      async function convertToInteractive(key) {\n",
              "        const element = document.querySelector('#df-91911201-0ae2-4c4a-ae33-bce6432a01e1');\n",
              "        const dataTable =\n",
              "          await google.colab.kernel.invokeFunction('convertToInteractive',\n",
              "                                                    [key], {});\n",
              "        if (!dataTable) return;\n",
              "\n",
              "        const docLinkHtml = 'Like what you see? Visit the ' +\n",
              "          '<a target=\"_blank\" href=https://colab.research.google.com/notebooks/data_table.ipynb>data table notebook</a>'\n",
              "          + ' to learn more about interactive tables.';\n",
              "        element.innerHTML = '';\n",
              "        dataTable['output_type'] = 'display_data';\n",
              "        await google.colab.output.renderOutput(dataTable, element);\n",
              "        const docLink = document.createElement('div');\n",
              "        docLink.innerHTML = docLinkHtml;\n",
              "        element.appendChild(docLink);\n",
              "      }\n",
              "    </script>\n",
              "  </div>\n",
              "\n",
              "\n",
              "    <div id=\"df-adf97631-c49c-46c8-9156-0e47d8c6af8c\">\n",
              "      <button class=\"colab-df-quickchart\" onclick=\"quickchart('df-adf97631-c49c-46c8-9156-0e47d8c6af8c')\"\n",
              "                title=\"Suggest charts\"\n",
              "                style=\"display:none;\">\n",
              "\n",
              "<svg xmlns=\"http://www.w3.org/2000/svg\" height=\"24px\"viewBox=\"0 0 24 24\"\n",
              "     width=\"24px\">\n",
              "    <g>\n",
              "        <path d=\"M19 3H5c-1.1 0-2 .9-2 2v14c0 1.1.9 2 2 2h14c1.1 0 2-.9 2-2V5c0-1.1-.9-2-2-2zM9 17H7v-7h2v7zm4 0h-2V7h2v10zm4 0h-2v-4h2v4z\"/>\n",
              "    </g>\n",
              "</svg>\n",
              "      </button>\n",
              "\n",
              "<style>\n",
              "  .colab-df-quickchart {\n",
              "      --bg-color: #E8F0FE;\n",
              "      --fill-color: #1967D2;\n",
              "      --hover-bg-color: #E2EBFA;\n",
              "      --hover-fill-color: #174EA6;\n",
              "      --disabled-fill-color: #AAA;\n",
              "      --disabled-bg-color: #DDD;\n",
              "  }\n",
              "\n",
              "  [theme=dark] .colab-df-quickchart {\n",
              "      --bg-color: #3B4455;\n",
              "      --fill-color: #D2E3FC;\n",
              "      --hover-bg-color: #434B5C;\n",
              "      --hover-fill-color: #FFFFFF;\n",
              "      --disabled-bg-color: #3B4455;\n",
              "      --disabled-fill-color: #666;\n",
              "  }\n",
              "\n",
              "  .colab-df-quickchart {\n",
              "    background-color: var(--bg-color);\n",
              "    border: none;\n",
              "    border-radius: 50%;\n",
              "    cursor: pointer;\n",
              "    display: none;\n",
              "    fill: var(--fill-color);\n",
              "    height: 32px;\n",
              "    padding: 0;\n",
              "    width: 32px;\n",
              "  }\n",
              "\n",
              "  .colab-df-quickchart:hover {\n",
              "    background-color: var(--hover-bg-color);\n",
              "    box-shadow: 0 1px 2px rgba(60, 64, 67, 0.3), 0 1px 3px 1px rgba(60, 64, 67, 0.15);\n",
              "    fill: var(--button-hover-fill-color);\n",
              "  }\n",
              "\n",
              "  .colab-df-quickchart-complete:disabled,\n",
              "  .colab-df-quickchart-complete:disabled:hover {\n",
              "    background-color: var(--disabled-bg-color);\n",
              "    fill: var(--disabled-fill-color);\n",
              "    box-shadow: none;\n",
              "  }\n",
              "\n",
              "  .colab-df-spinner {\n",
              "    border: 2px solid var(--fill-color);\n",
              "    border-color: transparent;\n",
              "    border-bottom-color: var(--fill-color);\n",
              "    animation:\n",
              "      spin 1s steps(1) infinite;\n",
              "  }\n",
              "\n",
              "  @keyframes spin {\n",
              "    0% {\n",
              "      border-color: transparent;\n",
              "      border-bottom-color: var(--fill-color);\n",
              "      border-left-color: var(--fill-color);\n",
              "    }\n",
              "    20% {\n",
              "      border-color: transparent;\n",
              "      border-left-color: var(--fill-color);\n",
              "      border-top-color: var(--fill-color);\n",
              "    }\n",
              "    30% {\n",
              "      border-color: transparent;\n",
              "      border-left-color: var(--fill-color);\n",
              "      border-top-color: var(--fill-color);\n",
              "      border-right-color: var(--fill-color);\n",
              "    }\n",
              "    40% {\n",
              "      border-color: transparent;\n",
              "      border-right-color: var(--fill-color);\n",
              "      border-top-color: var(--fill-color);\n",
              "    }\n",
              "    60% {\n",
              "      border-color: transparent;\n",
              "      border-right-color: var(--fill-color);\n",
              "    }\n",
              "    80% {\n",
              "      border-color: transparent;\n",
              "      border-right-color: var(--fill-color);\n",
              "      border-bottom-color: var(--fill-color);\n",
              "    }\n",
              "    90% {\n",
              "      border-color: transparent;\n",
              "      border-bottom-color: var(--fill-color);\n",
              "    }\n",
              "  }\n",
              "</style>\n",
              "\n",
              "      <script>\n",
              "        async function quickchart(key) {\n",
              "          const quickchartButtonEl =\n",
              "            document.querySelector('#' + key + ' button');\n",
              "          quickchartButtonEl.disabled = true;  // To prevent multiple clicks.\n",
              "          quickchartButtonEl.classList.add('colab-df-spinner');\n",
              "          try {\n",
              "            const charts = await google.colab.kernel.invokeFunction(\n",
              "                'suggestCharts', [key], {});\n",
              "          } catch (error) {\n",
              "            console.error('Error during call to suggestCharts:', error);\n",
              "          }\n",
              "          quickchartButtonEl.classList.remove('colab-df-spinner');\n",
              "          quickchartButtonEl.classList.add('colab-df-quickchart-complete');\n",
              "        }\n",
              "        (() => {\n",
              "          let quickchartButtonEl =\n",
              "            document.querySelector('#df-adf97631-c49c-46c8-9156-0e47d8c6af8c button');\n",
              "          quickchartButtonEl.style.display =\n",
              "            google.colab.kernel.accessAllowed ? 'block' : 'none';\n",
              "        })();\n",
              "      </script>\n",
              "    </div>\n",
              "\n",
              "    </div>\n",
              "  </div>\n"
            ],
            "application/vnd.google.colaboratory.intrinsic+json": {
              "type": "dataframe",
              "summary": "{\n  \"name\": \"display(submission_df\",\n  \"rows\": 5,\n  \"fields\": [\n    {\n      \"column\": \"id\",\n      \"properties\": {\n        \"dtype\": \"number\",\n        \"std\": 1,\n        \"min\": 4901,\n        \"max\": 4905,\n        \"num_unique_values\": 5,\n        \"samples\": [\n          4902,\n          4905,\n          4903\n        ],\n        \"semantic_type\": \"\",\n        \"description\": \"\"\n      }\n    },\n    {\n      \"column\": \"label\",\n      \"properties\": {\n        \"dtype\": \"category\",\n        \"num_unique_values\": 2,\n        \"samples\": [\n          \"Right\",\n          \"Left\"\n        ],\n        \"semantic_type\": \"\",\n        \"description\": \"\"\n      }\n    }\n  ]\n}"
            }
          },
          "metadata": {}
        }
      ]
    },
    {
      "cell_type": "markdown",
      "source": [
        "***Section 9: Model Saving***\n",
        "\n",
        "Finally, we save our trained CatBoost model to a file using joblib. This allows us to load and use the model in the future without needing to repeat the entire training process."
      ],
      "metadata": {
        "id": "kO5i8YuYVzlE"
      }
    },
    {
      "cell_type": "code",
      "source": [
        "import joblib\n",
        "\n",
        "# Define the filename for the saved model\n",
        "model_filename = 'catboost_mi_model.pkl'\n",
        "\n",
        "# Save the trained classifier object to a file\n",
        "joblib.dump(cat_clf, model_filename)\n",
        "\n",
        "print(f\"Trained CatBoost model saved to '{model_filename}'\")"
      ],
      "metadata": {
        "colab": {
          "base_uri": "https://localhost:8080/"
        },
        "id": "qDbuUc0vUTB_",
        "outputId": "d516205c-b807-4e63-a1ee-72bca8435d08"
      },
      "execution_count": 70,
      "outputs": [
        {
          "output_type": "stream",
          "name": "stdout",
          "text": [
            "Trained CatBoost model saved to 'catboost_mi_model.pkl'\n"
          ]
        }
      ]
    },
    {
      "cell_type": "code",
      "source": [
        "from catboost import CatBoostClassifier\n",
        "from sklearn.metrics import accuracy_score, classification_report\n",
        "\n",
        "# Initialize CatBoost model\n",
        "cat_clf = CatBoostClassifier(\n",
        "    iterations=85,\n",
        "    learning_rate=0.05,\n",
        "    depth=5,\n",
        "    l2_leaf_reg=3.0,\n",
        "    loss_function='Logloss',\n",
        "    eval_metric='Accuracy',\n",
        "    random_seed=42,\n",
        "    verbose=False,\n",
        "    class_weights=[1.1, 0.9]\n",
        ")\n",
        "\n",
        "# Fit the model\n",
        "cat_clf.fit(X_train_csp_psd, y_train)\n",
        "\n",
        "# Predict\n",
        "y_train_pred = cat_clf.predict(X_train_csp_psd)\n",
        "y_val_pred = cat_clf.predict(X_val_csp_psd)"
      ],
      "metadata": {
        "id": "iDFjEXRAUUqm"
      },
      "execution_count": 71,
      "outputs": []
    },
    {
      "cell_type": "code",
      "source": [
        "# Accuracy\n",
        "print(f\"Training Accuracy: {accuracy_score(y_train, y_train_pred):.4f}\")\n",
        "print(f\"Validation Accuracy: {accuracy_score(y_val, y_val_pred):.4f}\")\n",
        "\n",
        "# Classification Report\n",
        "print(\"\\n Validation Classification Report:\")\n",
        "print(classification_report(y_val, y_val_pred, target_names=[\"Left\", \"Right\"]))"
      ],
      "metadata": {
        "colab": {
          "base_uri": "https://localhost:8080/"
        },
        "id": "qX6dOa7BW-S_",
        "outputId": "ad6b5523-4efe-41c9-9d68-cfd1d736f83a"
      },
      "execution_count": 72,
      "outputs": [
        {
          "output_type": "stream",
          "name": "stdout",
          "text": [
            "Training Accuracy: 0.5950\n",
            "Validation Accuracy: 0.6000\n",
            "\n",
            " Validation Classification Report:\n",
            "              precision    recall  f1-score   support\n",
            "\n",
            "        Left       0.61      0.82      0.70        28\n",
            "       Right       0.58      0.32      0.41        22\n",
            "\n",
            "    accuracy                           0.60        50\n",
            "   macro avg       0.59      0.57      0.55        50\n",
            "weighted avg       0.60      0.60      0.57        50\n",
            "\n"
          ]
        }
      ]
    },
    {
      "cell_type": "code",
      "source": [
        "# --- IN YOUR TRAINING NOTEBOOK ---\n",
        "\n",
        "import joblib\n",
        "from collections import defaultdict\n",
        "\n",
        "# --- 1. Save the Final Trained CatBoost Model ---\n",
        "model_filename = 'catboost_mi_model.pkl'\n",
        "joblib.dump(cat_clf, model_filename)\n",
        "print(f\"Trained CatBoost model saved to '{model_filename}'\")\n",
        "\n",
        "# --- 2. Save the Fitted CSP Transformer ---\n",
        "# The 'csp' object was fitted on the training data. We need it for the test set.\n",
        "csp_filename = 'csp_mi_transformer.pkl'\n",
        "joblib.dump(csp, csp_filename)\n",
        "print(f\"Fitted CSP transformer saved to '{csp_filename}'\")\n",
        "\n",
        "# --- 3. Calculate and Save Subject-wise Normalization Statistics ---\n",
        "# We need these stats to apply the same transformation to the test data.\n",
        "\n",
        "def get_subject_stats(X, df):\n",
        "    \"\"\"Calculates mean/std for each subject and a global fallback.\"\"\"\n",
        "    subject_map = defaultdict(list)\n",
        "    for i, row in df.iterrows():\n",
        "        subject_map[row['subject_id']].append(i)\n",
        "\n",
        "    stats = {'subjects': {}}\n",
        "    all_subject_data_flat = []\n",
        "\n",
        "    # Calculate per-subject stats\n",
        "    for subject_id, indices in subject_map.items():\n",
        "        subject_data = X[indices]\n",
        "        all_data_flat = subject_data.reshape(-1, X.shape[2])\n",
        "        stats['subjects'][subject_id] = {\n",
        "            'mean': all_data_flat.mean(axis=0),\n",
        "            'std': all_data_flat.std(axis=0)\n",
        "        }\n",
        "        all_subject_data_flat.append(all_data_flat)\n",
        "\n",
        "    # Calculate global stats as a fallback for unseen subjects\n",
        "    global_data = np.vstack(all_subject_data_flat)\n",
        "    stats['global'] = {\n",
        "        'mean': global_data.mean(axis=0),\n",
        "        'std': global_data.std(axis=0)\n",
        "    }\n",
        "    return stats\n",
        "\n",
        "# NOTE: Use the *filtered but not yet subject-normalized* training data to calculate stats.\n",
        "# Re-create this data if you overwrote the variable.\n",
        "X_train_before_subject_norm = np.array([bandpass_filter(trial) for trial in normalize_trials(extract_trials(train_mi, base_path)[0])])\n",
        "subject_stats = get_subject_stats(X_train_before_subject_norm, train_mi)\n",
        "\n",
        "stats_filename = 'mi_subject_stats.pkl'\n",
        "joblib.dump(subject_stats, stats_filename)\n",
        "print(f\"Subject normalization stats saved to '{stats_filename}'\")"
      ],
      "metadata": {
        "colab": {
          "base_uri": "https://localhost:8080/"
        },
        "id": "qmSRG4SydqmY",
        "outputId": "30982f11-1a7f-4116-fdb4-eed41f0df145"
      },
      "execution_count": 73,
      "outputs": [
        {
          "output_type": "stream",
          "name": "stdout",
          "text": [
            "Trained CatBoost model saved to 'catboost_mi_model.pkl'\n",
            "Fitted CSP transformer saved to 'csp_mi_transformer.pkl'\n"
          ]
        },
        {
          "output_type": "stream",
          "name": "stderr",
          "text": [
            "100%|██████████| 2400/2400 [05:47<00:00,  6.91it/s]\n"
          ]
        },
        {
          "output_type": "stream",
          "name": "stdout",
          "text": [
            "Subject normalization stats saved to 'mi_subject_stats.pkl'\n"
          ]
        }
      ]
    },
    {
      "cell_type": "code",
      "source": [],
      "metadata": {
        "id": "UZdeI-7vdq_o"
      },
      "execution_count": null,
      "outputs": []
    }
  ]
}