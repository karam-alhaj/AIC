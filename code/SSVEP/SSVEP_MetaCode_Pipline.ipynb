{
  "cells": [
    {
      "cell_type": "code",
      "execution_count": 1,
      "metadata": {
        "colab": {
          "base_uri": "https://localhost:8080/"
        },
        "id": "grYGqEZrQtCZ",
        "outputId": "466f8c38-ac20-4fab-c32b-22178705cbe1"
      },
      "outputs": [
        {
          "output_type": "stream",
          "name": "stdout",
          "text": [
            "Drive already mounted at /content/drive; to attempt to forcibly remount, call drive.mount(\"/content/drive\", force_remount=True).\n"
          ]
        }
      ],
      "source": [
        "from google.colab import drive\n",
        "drive.mount('/content/drive')"
      ]
    },
    {
      "cell_type": "code",
      "execution_count": null,
      "metadata": {
        "colab": {
          "base_uri": "https://localhost:8080/",
          "height": 91
        },
        "id": "qrM1ubPHSu-5",
        "outputId": "d1490be6-99f9-4c63-bbbe-80405343021f"
      },
      "outputs": [
        {
          "data": {
            "text/html": [
              "\n",
              "     <input type=\"file\" id=\"files-7d74ce2a-4327-4eab-9e15-9d96509216b7\" name=\"files[]\" multiple disabled\n",
              "        style=\"border:none\" />\n",
              "     <output id=\"result-7d74ce2a-4327-4eab-9e15-9d96509216b7\">\n",
              "      Upload widget is only available when the cell has been executed in the\n",
              "      current browser session. Please rerun this cell to enable.\n",
              "      </output>\n",
              "      <script>// Copyright 2017 Google LLC\n",
              "//\n",
              "// Licensed under the Apache License, Version 2.0 (the \"License\");\n",
              "// you may not use this file except in compliance with the License.\n",
              "// You may obtain a copy of the License at\n",
              "//\n",
              "//      http://www.apache.org/licenses/LICENSE-2.0\n",
              "//\n",
              "// Unless required by applicable law or agreed to in writing, software\n",
              "// distributed under the License is distributed on an \"AS IS\" BASIS,\n",
              "// WITHOUT WARRANTIES OR CONDITIONS OF ANY KIND, either express or implied.\n",
              "// See the License for the specific language governing permissions and\n",
              "// limitations under the License.\n",
              "\n",
              "/**\n",
              " * @fileoverview Helpers for google.colab Python module.\n",
              " */\n",
              "(function(scope) {\n",
              "function span(text, styleAttributes = {}) {\n",
              "  const element = document.createElement('span');\n",
              "  element.textContent = text;\n",
              "  for (const key of Object.keys(styleAttributes)) {\n",
              "    element.style[key] = styleAttributes[key];\n",
              "  }\n",
              "  return element;\n",
              "}\n",
              "\n",
              "// Max number of bytes which will be uploaded at a time.\n",
              "const MAX_PAYLOAD_SIZE = 100 * 1024;\n",
              "\n",
              "function _uploadFiles(inputId, outputId) {\n",
              "  const steps = uploadFilesStep(inputId, outputId);\n",
              "  const outputElement = document.getElementById(outputId);\n",
              "  // Cache steps on the outputElement to make it available for the next call\n",
              "  // to uploadFilesContinue from Python.\n",
              "  outputElement.steps = steps;\n",
              "\n",
              "  return _uploadFilesContinue(outputId);\n",
              "}\n",
              "\n",
              "// This is roughly an async generator (not supported in the browser yet),\n",
              "// where there are multiple asynchronous steps and the Python side is going\n",
              "// to poll for completion of each step.\n",
              "// This uses a Promise to block the python side on completion of each step,\n",
              "// then passes the result of the previous step as the input to the next step.\n",
              "function _uploadFilesContinue(outputId) {\n",
              "  const outputElement = document.getElementById(outputId);\n",
              "  const steps = outputElement.steps;\n",
              "\n",
              "  const next = steps.next(outputElement.lastPromiseValue);\n",
              "  return Promise.resolve(next.value.promise).then((value) => {\n",
              "    // Cache the last promise value to make it available to the next\n",
              "    // step of the generator.\n",
              "    outputElement.lastPromiseValue = value;\n",
              "    return next.value.response;\n",
              "  });\n",
              "}\n",
              "\n",
              "/**\n",
              " * Generator function which is called between each async step of the upload\n",
              " * process.\n",
              " * @param {string} inputId Element ID of the input file picker element.\n",
              " * @param {string} outputId Element ID of the output display.\n",
              " * @return {!Iterable<!Object>} Iterable of next steps.\n",
              " */\n",
              "function* uploadFilesStep(inputId, outputId) {\n",
              "  const inputElement = document.getElementById(inputId);\n",
              "  inputElement.disabled = false;\n",
              "\n",
              "  const outputElement = document.getElementById(outputId);\n",
              "  outputElement.innerHTML = '';\n",
              "\n",
              "  const pickedPromise = new Promise((resolve) => {\n",
              "    inputElement.addEventListener('change', (e) => {\n",
              "      resolve(e.target.files);\n",
              "    });\n",
              "  });\n",
              "\n",
              "  const cancel = document.createElement('button');\n",
              "  inputElement.parentElement.appendChild(cancel);\n",
              "  cancel.textContent = 'Cancel upload';\n",
              "  const cancelPromise = new Promise((resolve) => {\n",
              "    cancel.onclick = () => {\n",
              "      resolve(null);\n",
              "    };\n",
              "  });\n",
              "\n",
              "  // Wait for the user to pick the files.\n",
              "  const files = yield {\n",
              "    promise: Promise.race([pickedPromise, cancelPromise]),\n",
              "    response: {\n",
              "      action: 'starting',\n",
              "    }\n",
              "  };\n",
              "\n",
              "  cancel.remove();\n",
              "\n",
              "  // Disable the input element since further picks are not allowed.\n",
              "  inputElement.disabled = true;\n",
              "\n",
              "  if (!files) {\n",
              "    return {\n",
              "      response: {\n",
              "        action: 'complete',\n",
              "      }\n",
              "    };\n",
              "  }\n",
              "\n",
              "  for (const file of files) {\n",
              "    const li = document.createElement('li');\n",
              "    li.append(span(file.name, {fontWeight: 'bold'}));\n",
              "    li.append(span(\n",
              "        `(${file.type || 'n/a'}) - ${file.size} bytes, ` +\n",
              "        `last modified: ${\n",
              "            file.lastModifiedDate ? file.lastModifiedDate.toLocaleDateString() :\n",
              "                                    'n/a'} - `));\n",
              "    const percent = span('0% done');\n",
              "    li.appendChild(percent);\n",
              "\n",
              "    outputElement.appendChild(li);\n",
              "\n",
              "    const fileDataPromise = new Promise((resolve) => {\n",
              "      const reader = new FileReader();\n",
              "      reader.onload = (e) => {\n",
              "        resolve(e.target.result);\n",
              "      };\n",
              "      reader.readAsArrayBuffer(file);\n",
              "    });\n",
              "    // Wait for the data to be ready.\n",
              "    let fileData = yield {\n",
              "      promise: fileDataPromise,\n",
              "      response: {\n",
              "        action: 'continue',\n",
              "      }\n",
              "    };\n",
              "\n",
              "    // Use a chunked sending to avoid message size limits. See b/62115660.\n",
              "    let position = 0;\n",
              "    do {\n",
              "      const length = Math.min(fileData.byteLength - position, MAX_PAYLOAD_SIZE);\n",
              "      const chunk = new Uint8Array(fileData, position, length);\n",
              "      position += length;\n",
              "\n",
              "      const base64 = btoa(String.fromCharCode.apply(null, chunk));\n",
              "      yield {\n",
              "        response: {\n",
              "          action: 'append',\n",
              "          file: file.name,\n",
              "          data: base64,\n",
              "        },\n",
              "      };\n",
              "\n",
              "      let percentDone = fileData.byteLength === 0 ?\n",
              "          100 :\n",
              "          Math.round((position / fileData.byteLength) * 100);\n",
              "      percent.textContent = `${percentDone}% done`;\n",
              "\n",
              "    } while (position < fileData.byteLength);\n",
              "  }\n",
              "\n",
              "  // All done.\n",
              "  yield {\n",
              "    response: {\n",
              "      action: 'complete',\n",
              "    }\n",
              "  };\n",
              "}\n",
              "\n",
              "scope.google = scope.google || {};\n",
              "scope.google.colab = scope.google.colab || {};\n",
              "scope.google.colab._files = {\n",
              "  _uploadFiles,\n",
              "  _uploadFilesContinue,\n",
              "};\n",
              "})(self);\n",
              "</script> "
            ],
            "text/plain": [
              "<IPython.core.display.HTML object>"
            ]
          },
          "metadata": {},
          "output_type": "display_data"
        },
        {
          "name": "stdout",
          "output_type": "stream",
          "text": [
            "Saving kaggle.json to kaggle (3).json\n"
          ]
        },
        {
          "data": {
            "text/plain": [
              "{'kaggle (3).json': b'{\"username\":\"mohamedtarek01\",\"key\":\"665e66fa10ef6564c285ceb474fe2baa\"}'}"
            ]
          },
          "execution_count": 22,
          "metadata": {},
          "output_type": "execute_result"
        }
      ],
      "source": [
        "from google.colab import files\n",
        "files.upload()"
      ]
    },
    {
      "cell_type": "code",
      "execution_count": null,
      "metadata": {
        "id": "HdvBEzBcSx00"
      },
      "outputs": [],
      "source": [
        "!mkdir -p ~/.kaggle\n",
        "!cp kaggle.json ~/.kaggle/\n",
        "!chmod 600 ~/.kaggle/kaggle.json\n"
      ]
    },
    {
      "cell_type": "code",
      "execution_count": null,
      "metadata": {
        "colab": {
          "base_uri": "https://localhost:8080/"
        },
        "id": "HtXbhaCjS4Ga",
        "outputId": "9eaa7353-37ca-4ebc-a831-eea272bd0692"
      },
      "outputs": [
        {
          "name": "stdout",
          "output_type": "stream",
          "text": [
            "Traceback (most recent call last):\n",
            "  File \"/usr/local/bin/kaggle\", line 4, in <module>\n",
            "    from kaggle.cli import main\n",
            "  File \"/usr/local/lib/python3.11/dist-packages/kaggle/__init__.py\", line 6, in <module>\n",
            "    api.authenticate()\n",
            "  File \"/usr/local/lib/python3.11/dist-packages/kaggle/api/kaggle_api_extended.py\", line 434, in authenticate\n",
            "    raise IOError('Could not find {}. Make sure it\\'s located in'\n",
            "OSError: Could not find kaggle.json. Make sure it's located in /root/.config/kaggle. Or use the environment method. See setup instructions at https://github.com/Kaggle/kaggle-api/\n"
          ]
        }
      ],
      "source": [
        "!kaggle competitions download -c mtcaic3 -p /content/aic3 --force\n"
      ]
    },
    {
      "cell_type": "code",
      "execution_count": null,
      "metadata": {
        "colab": {
          "base_uri": "https://localhost:8080/"
        },
        "id": "7e0cDiA_VPfX",
        "outputId": "c192d082-36d9-446e-efd7-a92948a8ef8d"
      },
      "outputs": [
        {
          "name": "stdout",
          "output_type": "stream",
          "text": [
            "['mtcaic3.zip', 'unzipped']\n"
          ]
        }
      ],
      "source": [
        "import os\n",
        "print(os.listdir(\"/content/aic3\"))\n"
      ]
    },
    {
      "cell_type": "code",
      "execution_count": null,
      "metadata": {
        "colab": {
          "base_uri": "https://localhost:8080/",
          "height": 369
        },
        "id": "8Y1oWXhkX_Nl",
        "outputId": "a83f5a2f-269f-49aa-b4ce-576bf8d7c787"
      },
      "outputs": [
        {
          "ename": "FileNotFoundError",
          "evalue": "[Errno 2] No such file or directory: '/content/aic3/mtcaic3.zip'",
          "output_type": "error",
          "traceback": [
            "\u001b[0;31m---------------------------------------------------------------------------\u001b[0m",
            "\u001b[0;31mFileNotFoundError\u001b[0m                         Traceback (most recent call last)",
            "\u001b[0;32m<ipython-input-4-01a0cbae8978>\u001b[0m in \u001b[0;36m<cell line: 0>\u001b[0;34m()\u001b[0m\n\u001b[1;32m      7\u001b[0m \u001b[0mos\u001b[0m\u001b[0;34m.\u001b[0m\u001b[0mmakedirs\u001b[0m\u001b[0;34m(\u001b[0m\u001b[0mextract_path\u001b[0m\u001b[0;34m,\u001b[0m \u001b[0mexist_ok\u001b[0m\u001b[0;34m=\u001b[0m\u001b[0;32mTrue\u001b[0m\u001b[0;34m)\u001b[0m\u001b[0;34m\u001b[0m\u001b[0;34m\u001b[0m\u001b[0m\n\u001b[1;32m      8\u001b[0m \u001b[0;34m\u001b[0m\u001b[0m\n\u001b[0;32m----> 9\u001b[0;31m \u001b[0;32mwith\u001b[0m \u001b[0mzipfile\u001b[0m\u001b[0;34m.\u001b[0m\u001b[0mZipFile\u001b[0m\u001b[0;34m(\u001b[0m\u001b[0mzip_path\u001b[0m\u001b[0;34m,\u001b[0m \u001b[0;34m'r'\u001b[0m\u001b[0;34m)\u001b[0m \u001b[0;32mas\u001b[0m \u001b[0mzip_ref\u001b[0m\u001b[0;34m:\u001b[0m\u001b[0;34m\u001b[0m\u001b[0;34m\u001b[0m\u001b[0m\n\u001b[0m\u001b[1;32m     10\u001b[0m     \u001b[0mzip_ref\u001b[0m\u001b[0;34m.\u001b[0m\u001b[0mextractall\u001b[0m\u001b[0;34m(\u001b[0m\u001b[0mextract_path\u001b[0m\u001b[0;34m)\u001b[0m\u001b[0;34m\u001b[0m\u001b[0;34m\u001b[0m\u001b[0m\n\u001b[1;32m     11\u001b[0m \u001b[0;34m\u001b[0m\u001b[0m\n",
            "\u001b[0;32m/usr/lib/python3.11/zipfile.py\u001b[0m in \u001b[0;36m__init__\u001b[0;34m(self, file, mode, compression, allowZip64, compresslevel, strict_timestamps, metadata_encoding)\u001b[0m\n\u001b[1;32m   1293\u001b[0m             \u001b[0;32mwhile\u001b[0m \u001b[0;32mTrue\u001b[0m\u001b[0;34m:\u001b[0m\u001b[0;34m\u001b[0m\u001b[0;34m\u001b[0m\u001b[0m\n\u001b[1;32m   1294\u001b[0m                 \u001b[0;32mtry\u001b[0m\u001b[0;34m:\u001b[0m\u001b[0;34m\u001b[0m\u001b[0;34m\u001b[0m\u001b[0m\n\u001b[0;32m-> 1295\u001b[0;31m                     \u001b[0mself\u001b[0m\u001b[0;34m.\u001b[0m\u001b[0mfp\u001b[0m \u001b[0;34m=\u001b[0m \u001b[0mio\u001b[0m\u001b[0;34m.\u001b[0m\u001b[0mopen\u001b[0m\u001b[0;34m(\u001b[0m\u001b[0mfile\u001b[0m\u001b[0;34m,\u001b[0m \u001b[0mfilemode\u001b[0m\u001b[0;34m)\u001b[0m\u001b[0;34m\u001b[0m\u001b[0;34m\u001b[0m\u001b[0m\n\u001b[0m\u001b[1;32m   1296\u001b[0m                 \u001b[0;32mexcept\u001b[0m \u001b[0mOSError\u001b[0m\u001b[0;34m:\u001b[0m\u001b[0;34m\u001b[0m\u001b[0;34m\u001b[0m\u001b[0m\n\u001b[1;32m   1297\u001b[0m                     \u001b[0;32mif\u001b[0m \u001b[0mfilemode\u001b[0m \u001b[0;32min\u001b[0m \u001b[0mmodeDict\u001b[0m\u001b[0;34m:\u001b[0m\u001b[0;34m\u001b[0m\u001b[0;34m\u001b[0m\u001b[0m\n",
            "\u001b[0;31mFileNotFoundError\u001b[0m: [Errno 2] No such file or directory: '/content/aic3/mtcaic3.zip'"
          ]
        }
      ],
      "source": [
        "import zipfile\n",
        "import os\n",
        "\n",
        "zip_path = \"/content/aic3/mtcaic3.zip\"\n",
        "extract_path = \"/content/aic3/unzipped\"\n",
        "\n",
        "os.makedirs(extract_path, exist_ok=True)\n",
        "\n",
        "with zipfile.ZipFile(zip_path, 'r') as zip_ref:\n",
        "    zip_ref.extractall(extract_path)\n",
        "\n",
        "print(\"Extraction done. Files inside the unzipped folder:\")\n",
        "print(os.listdir(extract_path))\n"
      ]
    },
    {
      "cell_type": "code",
      "execution_count": null,
      "metadata": {
        "colab": {
          "base_uri": "https://localhost:8080/"
        },
        "id": "iAKHZELYWrfy",
        "outputId": "52e74e1f-bf32-4262-d448-54474cfbe46c"
      },
      "outputs": [
        {
          "name": "stdout",
          "output_type": "stream",
          "text": [
            "Files moved to Google Drive at:\n",
            "['unzipped']\n"
          ]
        }
      ],
      "source": [
        "import shutil\n",
        "\n",
        "drive_path = \"/content/drive/MyDrive/aic3\"\n",
        "os.makedirs(drive_path, exist_ok=True)\n",
        "\n",
        "shutil.move(extract_path, drive_path)\n",
        "\n",
        "print(\"Files moved to Google Drive at:\")\n",
        "print(os.listdir(drive_path))\n"
      ]
    },
    {
      "cell_type": "markdown",
      "metadata": {
        "id": "1fB0SM9dHKnU"
      },
      "source": [
        "***MTC-AIC3 BCI Competition:***\n",
        "\n",
        "This notebook executes your provided script, adding detailed visualizations and the necessary components for competition submission at each logical stage. The core technical methodology remains identical to your original code."
      ]
    },
    {
      "cell_type": "markdown",
      "metadata": {
        "id": "SlSaR4db6oce"
      },
      "source": [
        "***Section 0 & 1: Setup and Data Loading***\n",
        "\n",
        "This initial section handles all the necessary preparations for our analysis. It starts by importing the required Python libraries for data manipulation (pandas, numpy), signal processing (scipy), machine learning (sklearn), and plotting (matplotlib, seaborn). It then defines key constants and paths. Finally, it loads the train, validation, and test metadata from CSV files and filters them to include only the 'SSVEP' task trials."
      ]
    },
    {
      "cell_type": "code",
      "execution_count": null,
      "metadata": {
        "colab": {
          "base_uri": "https://localhost:8080/"
        },
        "id": "CIV4ykgY5Z5a",
        "outputId": "9ee1325b-1711-4d52-a8ff-8326ec7859b3"
      },
      "outputs": [
        {
          "output_type": "stream",
          "name": "stdout",
          "text": [
            "Libraries imported successfully.\n",
            "Loaded 2400 training, 50 validation, and 50 test trials for SSVEP task.\n"
          ]
        }
      ],
      "source": [
        "# ===================================================================\n",
        "# Section 0 & 1: Setup and Data Loading\n",
        "# ===================================================================\n",
        "\n",
        "# --- Library Imports ---\n",
        "# Import pandas for data manipulation and analysis (e.g., reading CSVs, creating DataFrames).\n",
        "import pandas as pd\n",
        "# Import numpy for numerical operations, especially with arrays.\n",
        "import numpy as np\n",
        "# Import os for interacting with the operating system, used here for building file paths.\n",
        "import os\n",
        "# Import signal processing functions from scipy: 'butter' to design a Butterworth filter,\n",
        "# 'filtfilt' for zero-phase filtering, and 'welch' for Power Spectral Density (PSD) estimation.\n",
        "from scipy.signal import butter, filtfilt, welch\n",
        "# Import preprocessing tools from scikit-learn: 'MinMaxScaler' to normalize features to a [0, 1] range\n",
        "# and 'LabelEncoder' to convert categorical labels (like 'F1', 'F2') into numerical format.\n",
        "from sklearn.preprocessing import MinMaxScaler, LabelEncoder\n",
        "# Import RandomForestClassifier, a powerful ensemble learning model for classification.\n",
        "from sklearn.ensemble import RandomForestClassifier\n",
        "# Import metrics to evaluate model performance.\n",
        "from sklearn.metrics import accuracy_score, classification_report, confusion_matrix\n",
        "# Import matplotlib.pyplot for creating static, animated, and interactive visualizations.\n",
        "import matplotlib.pyplot as plt\n",
        "# Import seaborn, a high-level plotting library based on matplotlib, for more attractive statistical graphics.\n",
        "import seaborn as sns\n",
        "# Import tqdm for displaying smart progress bars, which is helpful for long-running processes.\n",
        "from tqdm.notebook import tqdm\n",
        "# Import tools for hyperparameter tuning and cross-validation.\n",
        "from sklearn.model_selection import RandomizedSearchCV, StratifiedKFold\n",
        "# Import a feature selection tool that removes features based on importance weights.\n",
        "from sklearn.feature_selection import SelectFromModel\n",
        "# Import warnings to control how warning messages are handled (we will ignore them for cleaner output).\n",
        "import warnings\n",
        "\n",
        "# Configure warnings to be ignored to prevent cluttering the output.\n",
        "warnings.filterwarnings('ignore')\n",
        "print(\"Libraries imported successfully.\")\n",
        "\n",
        "# --- Path and constants ---\n",
        "# !!! IMPORTANT: Please update this path to your Google Drive location or local folder !!!\n",
        "# This is the root directory where the competition data is stored.\n",
        "BASE_PATH = '/content/drive/MyDrive/aic3/unzipped'\n",
        "# Specify the task we are focusing on in this notebook.\n",
        "TASK_TO_PROCESS = 'SSVEP'\n",
        "# Define the specific EEG channels we will use for our analysis. These are typically in the occipital lobe region.\n",
        "EEG_CHANNELS = ['PO7', 'PZ', 'OZ', 'PO8']\n",
        "# The sampling rate of the EEG data in Hertz (Hz).\n",
        "SAMPLING_RATE = 250\n",
        "# The target frequencies (in Hz) that were shown to the subjects during the SSVEP experiment.\n",
        "TARGET_FREQS = [7, 8, 10, 13]\n",
        "# The total duration of each trial in seconds.\n",
        "TRIAL_DURATION_S = 7.0\n",
        "# The duration in seconds to trim from the beginning of each trial to remove initial artifacts.\n",
        "TIME_TRIM_S = 1.0\n",
        "\n",
        "# --- Data Loading ---\n",
        "try:\n",
        "    # Load the main metadata files.\n",
        "    train_df = pd.read_csv(os.path.join(BASE_PATH, 'train.csv'))\n",
        "    validation_df = pd.read_csv(os.path.join(BASE_PATH, 'validation.csv'))\n",
        "    test_df = pd.read_csv(os.path.join(BASE_PATH, 'test.csv'))\n",
        "\n",
        "    # Filter the DataFrames to keep only the rows corresponding to the SSVEP task.\n",
        "    # .reset_index(drop=True) is used to create a new clean index for the filtered DataFrame.\n",
        "    train_ssvep_df = train_df[train_df['task'] == TASK_TO_PROCESS].reset_index(drop=True)\n",
        "    val_ssvep_df = validation_df[validation_df['task'] == TASK_TO_PROCESS].reset_index(drop=True)\n",
        "    test_ssvep_df = test_df[test_df['task'] == TASK_TO_PROCESS].reset_index(drop=True)\n",
        "    print(f\"Loaded {len(train_ssvep_df)} training, {len(val_ssvep_df)} validation, and {len(test_ssvep_df)} test trials for SSVEP task.\")\n",
        "except FileNotFoundError:\n",
        "    # Error handling in case the files are not found at the specified path.\n",
        "    print(\"=\"*80)\n",
        "    print(\"!!! ERROR: Data files not found. Please ensure BASE_PATH is correct !!!\")\n",
        "    print(f\"Current BASE_PATH: '{BASE_PATH}'\")\n",
        "    print(\"=\"*80)\n",
        "    # exit() # This would stop the script. We comment it out to allow execution in environments where data might be loaded differently."
      ]
    },
    {
      "cell_type": "markdown",
      "metadata": {
        "id": "_gUHwl1-6tmf"
      },
      "source": [
        "***Visualization 1: Initial Data Exploration***\n",
        "\n",
        "Before any processing, let's inspect our data. We will first visualize the distribution of labels in the training and validation sets to ensure they are balanced. Then, we will plot the raw EEG signals from a single trial to understand what our input data looks like."
      ]
    },
    {
      "cell_type": "code",
      "execution_count": null,
      "metadata": {
        "colab": {
          "base_uri": "https://localhost:8080/",
          "height": 506
        },
        "id": "JRkJ8izx5hWM",
        "outputId": "6cc5414b-6e71-456d-8020-31eb89e23263"
      },
      "outputs": [
        {
          "output_type": "stream",
          "name": "stdout",
          "text": [
            "\n",
            "--- Visualizing Initial Data ---\n"
          ]
        },
        {
          "output_type": "display_data",
          "data": {
            "text/plain": [
              "<Figure size 1400x500 with 2 Axes>"
            ],
            "image/png": "[encoded data removed]"
          },
          "metadata": {}
        }
      ],
      "source": [
        "# --- Plot 1: Label Distribution ---\n",
        "print(\"\\n--- Visualizing Initial Data ---\")\n",
        "# Create a figure with two subplots side-by-side.\n",
        "fig, (ax1, ax2) = plt.subplots(1, 2, figsize=(14, 5))\n",
        "fig.suptitle('Label Distribution in Datasets', fontsize=16)\n",
        "\n",
        "# Plot for the training set.\n",
        "sns.countplot(data=train_ssvep_df, x='label', ax=ax1, palette='viridis', order=sorted(train_ssvep_df['label'].unique()))\n",
        "ax1.set_title('Training Set')\n",
        "ax1.set_xlabel('Stimulus Frequency (Label)')\n",
        "ax1.set_ylabel('Number of Trials')\n",
        "\n",
        "# Plot for the validation set.\n",
        "sns.countplot(data=val_ssvep_df, x='label', ax=ax2, palette='plasma', order=sorted(val_ssvep_df['label'].unique()))\n",
        "ax2.set_title('Validation Set')\n",
        "ax2.set_xlabel('Stimulus Frequency (Label)')\n",
        "ax2.set_ylabel('Number of Trials')\n",
        "\n",
        "plt.tight_layout(rect=[0, 0.03, 1, 0.95])\n",
        "plt.show()"
      ]
    },
    {
      "cell_type": "markdown",
      "metadata": {
        "id": "--Z67T4g60Iu"
      },
      "source": [
        "***Section 2: Core Pipeline Functions***\n",
        "\n",
        "This section defines the core functions that form our data processing pipeline.\n",
        "load_trial_data: Reads a specific trial's EEG data from its CSV file, handling path construction and selecting the correct segment based on trial number. It also trims the beginning of the trial to remove potential noise.\n",
        "apply_butterworth_filter: Applies a band-pass filter to the EEG data. This is crucial for removing low-frequency drift and high-frequency noise (like muscle artifacts and power line interference), isolating the brain signals in the frequency range of interest (4-42 Hz).\n",
        "extract_psd_features: This is the feature extraction step. It calculates the Power Spectral Density (PSD) using Welch's method. For each target frequency and its harmonics, it extracts two key features: the signal power at that specific frequency and the Signal-to-Noise Ratio (SNR), which compares the signal power to the power of the surrounding \"noise\" frequencies."
      ]
    },
    {
      "cell_type": "code",
      "execution_count": null,
      "metadata": {
        "id": "fDf7Q2Ft5jeO"
      },
      "outputs": [],
      "source": [
        "# ===================================================================\n",
        "# Section 2: Core Pipeline Functions\n",
        "# ===================================================================\n",
        "\n",
        "def load_trial_data(row, base_path):\n",
        "    \"\"\"\n",
        "    Loads the EEG data for a single trial specified by a row from the metadata DataFrame.\n",
        "    It identifies the dataset (train/validation/test) based on the 'id', constructs the file path,\n",
        "    and loads the corresponding EEGdata.csv file. It then segments and trims the data for the specific trial.\n",
        "    \"\"\"\n",
        "    # Determine which dataset folder (train, validation, or test) the trial belongs to.\n",
        "    id_num = row['id']\n",
        "    if 1 <= id_num <= 4800: dataset_type = 'train'\n",
        "    elif 4801 <= id_num <= 4900: dataset_type = 'validation'\n",
        "    else: dataset_type = 'test'\n",
        "    # Construct the full path to the EEGdata.csv file for the trial.\n",
        "    path = f\"{base_path}/{row['task']}/{dataset_type}/{row['subject_id']}/{row['trial_session']}/EEGdata.csv\"\n",
        "    # Load the EEG data.\n",
        "    eeg_data = pd.read_csv(path)\n",
        "    # Handle any missing values using forward fill and then backward fill.\n",
        "    eeg_data = eeg_data.ffill().bfill()\n",
        "    # Calculate the number of data points (samples) per trial.\n",
        "    samples_per_trial = int(TRIAL_DURATION_S * SAMPLING_RATE)\n",
        "    # Calculate the number of samples to trim from the start.\n",
        "    trim_samples = int(TIME_TRIM_S * SAMPLING_RATE)\n",
        "    # Get the trial number from the metadata row.\n",
        "    trial_num = int(row['trial'])\n",
        "    # Calculate the start and end index for this specific trial in the EEGdata.csv file.\n",
        "    start_idx = (trial_num - 1) * samples_per_trial\n",
        "    # Adjust the start index to account for the trim.\n",
        "    trimmed_start_idx = start_idx + trim_samples\n",
        "    end_idx = start_idx + samples_per_trial\n",
        "    # Return the trimmed segment of the EEG data.\n",
        "    return eeg_data.iloc[trimmed_start_idx:end_idx]\n",
        "\n",
        "def apply_butterworth_filter(data, fs=250):\n",
        "    \"\"\"\n",
        "    Applies a 4th order Butterworth band-pass filter to the data.\n",
        "    The filter is designed to pass frequencies between 4.0 Hz and 42.0 Hz.\n",
        "    'filtfilt' is used for zero-phase filtering, which prevents phase distortion.\n",
        "    \"\"\"\n",
        "    lowcut, highcut, order = 4.0, 42.0, 4\n",
        "    # Nyquist frequency is half the sampling rate.\n",
        "    nyq = 0.5 * fs\n",
        "    # Normalize the cutoff frequencies.\n",
        "    low, high = lowcut / nyq, highcut / nyq\n",
        "    # Get the filter coefficients (numerator 'b' and denominator 'a').\n",
        "    b, a = butter(order, [low, high], btype='band')\n",
        "    # Apply the filter along the columns (axis=0).\n",
        "    # A check is included to handle constant-value signals, which would cause filtfilt to fail.\n",
        "    filtered_data = np.apply_along_axis(lambda x: filtfilt(b, a, x) if not np.all(x == x[0]) else x, 0, data)\n",
        "    return filtered_data\n",
        "\n",
        "def extract_psd_features(data, fs=250):\n",
        "    \"\"\"\n",
        "    Extracts features based on the Power Spectral Density (PSD) of the signal.\n",
        "    It uses Welch's method to estimate the PSD. For each of the target SSVEP frequencies\n",
        "    and their first three harmonics, it calculates the signal power and the SNR.\n",
        "    \"\"\"\n",
        "    all_features = []\n",
        "    # Define the length of each segment for Welch's method (4 seconds of data).\n",
        "    nperseg = fs * 4\n",
        "    # Iterate through each EEG channel (columns of the data).\n",
        "    for i in range(data.shape[1]):\n",
        "        channel_data = data[:, i]\n",
        "        # Calculate PSD using Welch's method. nfft is set to be twice the segment length\n",
        "        # for better frequency resolution.\n",
        "        freqs, psd = welch(channel_data, fs=fs, nperseg=nperseg, nfft=nperseg*2)\n",
        "        # Iterate through each target frequency (e.g., 7 Hz, 8 Hz, ...).\n",
        "        for f in TARGET_FREQS:\n",
        "            # Iterate through the fundamental frequency (h=1) and its harmonics (h=2, 3).\n",
        "            for h in range(1, 4):\n",
        "                harmonic_freq = h * f\n",
        "                # Find the index of the frequency in 'freqs' that is closest to our target harmonic.\n",
        "                target_idx = np.argmin(np.abs(freqs - harmonic_freq))\n",
        "                # Define the noise band as frequencies within +/- 3 Hz of the harmonic, excluding a small window around the signal itself.\n",
        "                noise_indices = np.where((freqs >= harmonic_freq - 3) & (freqs <= harmonic_freq + 3) & (np.abs(freqs - harmonic_freq) > 0.25))[0]\n",
        "                # The signal power is the PSD value at the target frequency index.\n",
        "                signal_power = psd[target_idx]\n",
        "                # The noise power is the average of the PSD values in the defined noise band.\n",
        "                noise_power = np.mean(psd[noise_indices]) if len(noise_indices) > 0 else 1e-12 # Add a small value to avoid division by zero.\n",
        "                # Calculate the Signal-to-Noise Ratio (SNR).\n",
        "                snr = signal_power / noise_power\n",
        "                # Append the calculated features to our list.\n",
        "                all_features.append(signal_power)\n",
        "                all_features.append(snr)\n",
        "    return np.array(all_features)"
      ]
    },
    {
      "cell_type": "markdown",
      "metadata": {
        "id": "LpWHswWB7adf"
      },
      "source": [
        "***Visualization 2: Pre-processing and Feature Extraction Steps***\n",
        "\n",
        "Now, let's visualize the effect of our key processing functions using a sample trial.\n",
        "Raw vs. Filtered Signal: We'll plot a channel's raw signal against its filtered version to see how the Butterworth filter cleans the data.\n",
        "Power Spectral Density (PSD): We'll plot the PSD of the filtered signal. This shows the signal's power at different frequencies and is the basis for our feature extraction. We'll mark the target frequencies to show where we're looking for SSVEP responses."
      ]
    },
    {
      "cell_type": "code",
      "execution_count": null,
      "metadata": {
        "colab": {
          "base_uri": "https://localhost:8080/",
          "height": 1000
        },
        "id": "F4KBb7KB5mLv",
        "outputId": "fc6c8d56-b2c4-4d52-95fe-82f6ced3f3b3"
      },
      "outputs": [
        {
          "output_type": "stream",
          "name": "stdout",
          "text": [
            "\n",
            "--- Visualizing Preprocessing and Feature Extraction Steps ---\n",
            "Available labels in the SSVEP training set are: ['Forward' 'Left' 'Backward' 'Right']\n",
            "Selecting a sample trial with label: 'Forward'\n"
          ]
        },
        {
          "output_type": "display_data",
          "data": {
            "text/plain": [
              "<Figure size 1500x600 with 1 Axes>"
            ],
            "image/png": "[encoded data removed]"
          },
          "metadata": {}
        },
        {
          "output_type": "display_data",
          "data": {
            "text/plain": [
              "<Figure size 1500x600 with 1 Axes>"
            ],
            "image/png": "[encoded data removed]"
          },
          "metadata": {}
        }
      ],
      "source": [
        "# --- Visualizing the pipeline steps on a sample trial ---\n",
        "print(\"\\n--- Visualizing Preprocessing and Feature Extraction Steps ---\")\n",
        "\n",
        "# =====================================================================================\n",
        "# DIAGNOSTIC STEP: Let's find out what the actual unique labels are in our dataset.\n",
        "# This will prevent us from trying to use a label that doesn't exist.\n",
        "# =====================================================================================\n",
        "available_labels = train_ssvep_df['label'].unique()\n",
        "print(f\"Available labels in the SSVEP training set are: {available_labels}\")\n",
        "\n",
        "# =====================================================================================\n",
        "# CORRECTED LINE: Now we select a sample using a label that we KNOW exists.\n",
        "# We'll take the first available label from the list we just generated.\n",
        "# =====================================================================================\n",
        "sample_label_to_use = available_labels[0]\n",
        "sample_row = train_ssvep_df[train_ssvep_df['label'] == sample_label_to_use].iloc[0]\n",
        "print(f\"Selecting a sample trial with label: '{sample_label_to_use}'\")\n",
        "\n",
        "\n",
        "# --- The rest of the code remains the same and will now work correctly ---\n",
        "sample_raw_data = load_trial_data(sample_row, BASE_PATH)\n",
        "sample_raw_signals = sample_raw_data[EEG_CHANNELS].values\n",
        "\n",
        "# --- Plot 2: Raw vs. Filtered EEG Signal ---\n",
        "# Apply the filter to the sample data\n",
        "sample_filtered_signals = apply_butterworth_filter(sample_raw_signals)\n",
        "\n",
        "# Create a time axis for plotting\n",
        "time_axis = np.linspace(0, sample_raw_signals.shape[0] / SAMPLING_RATE, sample_raw_signals.shape[0])\n",
        "\n",
        "# Plotting the 'OZ' channel, which is often strong for visual stimuli\n",
        "channel_to_plot_idx = EEG_CHANNELS.index('OZ')\n",
        "plt.figure(figsize=(15, 6))\n",
        "plt.plot(time_axis, sample_raw_signals[:, channel_to_plot_idx], label='Raw Signal (OZ channel)', color='red', alpha=0.7)\n",
        "plt.plot(time_axis, sample_filtered_signals[:, channel_to_plot_idx], label='Filtered Signal (OZ channel)', color='blue', linewidth=1.5)\n",
        "plt.title(f\"Effect of Butterworth Filter on a Sample Trial (ID: {sample_row['id']})\", fontsize=16)\n",
        "plt.xlabel(\"Time (s)\")\n",
        "plt.ylabel(\"Amplitude (uV)\")\n",
        "plt.legend()\n",
        "plt.grid(True)\n",
        "plt.show()\n",
        "\n",
        "# --- Plot 3: Power Spectral Density (PSD) ---\n",
        "# Calculate the PSD for the filtered 'OZ' channel signal\n",
        "freqs, psd = welch(sample_filtered_signals[:, channel_to_plot_idx], fs=SAMPLING_RATE, nperseg=SAMPLING_RATE * 4, nfft=SAMPLING_RATE*8)\n",
        "\n",
        "plt.figure(figsize=(15, 6))\n",
        "plt.semilogy(freqs, psd, label='PSD of Filtered Signal') # Use a log scale for the y-axis to see peaks better\n",
        "plt.title(f\"Power Spectral Density (PSD) of Filtered Signal (ID: {sample_row['id']}, True Label: {sample_row['label']})\", fontsize=16)\n",
        "plt.xlabel('Frequency (Hz)')\n",
        "plt.ylabel('Power/Frequency (dB/Hz)')\n",
        "plt.xlim(2, 45) # Limit x-axis to the frequency range of interest\n",
        "plt.grid(True, which=\"both\", ls=\"--\")\n"
      ]
    },
    {
      "cell_type": "markdown",
      "metadata": {
        "id": "_hwJ1NYg7g4_"
      },
      "source": [
        "***Section 3: Building the Dataset***\n",
        "\n",
        "This section applies the processing pipeline to every trial in the train, validation, and test sets. It iterates through each row of the metadata DataFrames (train_ssvep_df, val_ssvep_df, test_ssvep_df), calls the functions defined in Section 2 (load_trial_data, apply_butterworth_filter, extract_psd_features), and compiles the results into feature matrices (X_train, X_val, X_test) and label vectors (y_train, y_val). The tqdm library provides a helpful progress bar to monitor this process."
      ]
    },
    {
      "cell_type": "code",
      "execution_count": null,
      "metadata": {
        "colab": {
          "base_uri": "https://localhost:8080/",
          "height": 165,
          "referenced_widgets": [
            "509c2a3c08bd4c82bc6606fb569558fc",
            "c259590b8e1c44278d312a7f13a76bf1",
            "58a4fc9d03d94535bc33db88b5bea89c",
            "90afe2c2efb94e72be771e848fc05073",
            "c7268c81087148dcacbf8e07c3db92eb",
            "0b40d5fb1e724d188fc1e745de273668",
            "c7a9d4c92f2a4be2ae7765936bc0c35a",
            "350f85a37e5c4efc9a910e5da0bd7054",
            "1a1f4ead3acb42108b364ee6aed94ae8",
            "4d3bf61476c04a71a4a915561f7c16ad",
            "b2929065c68246df88e5039f5e13a624",
            "a4c50d85d3ab46eaac4b0dc16abc7bf4",
            "20d08586df1946128cc9b2460050db54",
            "ca490bf6b0c747b1a34165ca9acff6c3",
            "68e4b74b0544450e825d3c7092bac691",
            "1ef39cbd778446fcb79d04694ce34a78",
            "f234157899d34412abcf68646dc80618",
            "83459547d0d843d1ac664b704e38790f",
            "124621faf441428983fda9bb52641fa5",
            "47f019257fa64ac695d368044c920c79",
            "1f0d3b4dd1064addb5d8aa01ab490ef5",
            "a35e39cf17fb4ee395152e88e4960b10",
            "a6dad5c521c142f0a0ee95b5ea8e4b66",
            "9c98d575ceab45ab8c01dc594b576bdb",
            "d7148a48723446d0aaa7ef987b2fc085",
            "2711b29ed0254ecd81c9167dc7ff5730",
            "42a813b77de4449c950dead826756606",
            "6358d98086e0491189529fd430e8fc4a",
            "6b53b259b086410fb8d0f2e1ce9cc246",
            "cb1eac80039c4d748c65ed4a958ab895",
            "c7df76646ae647fc82a1adc6456867a6",
            "9a2d89bdc0894a9e9962466e4cf3ec39",
            "fb6a495b058e4c6aab51baa30bb8e75a"
          ]
        },
        "id": "WfyH0Rpr5oYW",
        "outputId": "7fe3a342-5aab-43e1-9a26-034ba690cb8a"
      },
      "outputs": [
        {
          "output_type": "display_data",
          "data": {
            "text/plain": [
              "Processing Train:   0%|          | 0/2400 [00:00<?, ?it/s]"
            ],
            "application/vnd.jupyter.widget-view+json": {
              "version_major": 2,
              "version_minor": 0,
              "model_id": "509c2a3c08bd4c82bc6606fb569558fc"
            }
          },
          "metadata": {}
        },
        {
          "output_type": "stream",
          "name": "stdout",
          "text": [
            "Finished processing Train. Extracted features for 2400 trials.\n"
          ]
        },
        {
          "output_type": "display_data",
          "data": {
            "text/plain": [
              "Processing Validation:   0%|          | 0/50 [00:00<?, ?it/s]"
            ],
            "application/vnd.jupyter.widget-view+json": {
              "version_major": 2,
              "version_minor": 0,
              "model_id": "a4c50d85d3ab46eaac4b0dc16abc7bf4"
            }
          },
          "metadata": {}
        },
        {
          "output_type": "stream",
          "name": "stdout",
          "text": [
            "Finished processing Validation. Extracted features for 50 trials.\n"
          ]
        },
        {
          "output_type": "display_data",
          "data": {
            "text/plain": [
              "Processing Test:   0%|          | 0/50 [00:00<?, ?it/s]"
            ],
            "application/vnd.jupyter.widget-view+json": {
              "version_major": 2,
              "version_minor": 0,
              "model_id": "a6dad5c521c142f0a0ee95b5ea8e4b66"
            }
          },
          "metadata": {}
        },
        {
          "output_type": "stream",
          "name": "stdout",
          "text": [
            "Finished processing Test. Extracted features for 50 trials.\n"
          ]
        }
      ],
      "source": [
        "# ===================================================================\n",
        "# Section 3: Building the Dataset\n",
        "# ===================================================================\n",
        "\n",
        "def process_dataframe(df, base_path):\n",
        "    \"\"\"\n",
        "    Processes an entire DataFrame (train, validation, or test) to extract features and labels.\n",
        "    It loops through each trial, applies the loading, filtering, and feature extraction pipeline,\n",
        "    and returns the complete feature matrix (X) and label vector (y).\n",
        "    \"\"\"\n",
        "    feature_list, label_list = [], []\n",
        "    # Set a description for the progress bar based on the DataFrame's name.\n",
        "    desc = f\"Processing {df.name}\"\n",
        "    # Use tqdm to create a progress bar for the loop.\n",
        "    for idx, row in tqdm(df.iterrows(), total=len(df), desc=desc):\n",
        "        # 1. Load the raw trial data.\n",
        "        trial_data = load_trial_data(row, base_path)\n",
        "        eeg_signals = trial_data[EEG_CHANNELS].values\n",
        "        # 2. Apply the band-pass filter.\n",
        "        filtered_signals = apply_butterworth_filter(eeg_signals)\n",
        "        # 3. Extract PSD features from the filtered signals.\n",
        "        features = extract_psd_features(filtered_signals)\n",
        "        feature_list.append(features)\n",
        "        # If the DataFrame has a 'label' column (i.e., it's train or validation), store the label.\n",
        "        if 'label' in df.columns:\n",
        "            label_list.append(row['label'])\n",
        "    # Convert the list of feature arrays into a single 2D numpy array.\n",
        "    X = np.array(feature_list)\n",
        "    # Convert the list of labels into a numpy array if it exists.\n",
        "    y = np.array(label_list) if label_list else None\n",
        "    print(f\"Finished processing {df.name}. Extracted features for {len(feature_list)} trials.\")\n",
        "    return X, y\n",
        "\n",
        "# Assign names to the DataFrames for clearer progress bar descriptions.\n",
        "train_ssvep_df.name, val_ssvep_df.name, test_ssvep_df.name = \"Train\", \"Validation\", \"Test\"\n",
        "\n",
        "# Process each dataset to create the final feature matrices and labels.\n",
        "X_train, y_train = process_dataframe(train_ssvep_df, BASE_PATH)\n",
        "X_val, y_val = process_dataframe(val_ssvep_df, BASE_PATH)\n",
        "X_test, _ = process_dataframe(test_ssvep_df, BASE_PATH)"
      ]
    },
    {
      "cell_type": "markdown",
      "metadata": {
        "id": "uL8L3Bk67lLt"
      },
      "source": [
        "***Section 4: Improved Training with Aggressive Regularization***\n",
        "\n",
        "This section prepares the data for modeling and then trains a RandomForest classifier.\n",
        "Scaling and Encoding:\n",
        "MinMaxScaler: Normalizes the features to a range of [0, 1]. This is important for many ML algorithms, ensuring that features with larger value ranges don't dominate the model.\n",
        "LabelEncoder: Converts the string labels (e.g., 'F1', 'F2') into integer representations (e.g., 0, 1), which are required by the model.\n",
        "Feature Selection: A preliminary RandomForest model is trained to assess feature importance. SelectFromModel then automatically removes the less important features (those with importance below the median), reducing model complexity and potentially improving generalization.\n",
        "Hyperparameter Tuning:\n",
        "RandomizedSearchCV: Instead of testing every possible combination of hyperparameters, this efficiently searches for the best combination from a given distribution.\n",
        "Aggressive Regularization: The hyperparameter grid is intentionally designed to prevent overfitting. It forces the model's trees to be \"shallow\" (max_depth) and to require more data points to make a decision (min_samples_leaf), which helps the model learn more general patterns.\n",
        "StratifiedKFold: This cross-validation strategy ensures that each fold has the same proportion of labels as the original dataset, which is crucial for imbalanced or small datasets."
      ]
    },
    {
      "cell_type": "code",
      "execution_count": null,
      "metadata": {
        "colab": {
          "base_uri": "https://localhost:8080/"
        },
        "id": "-qWg33op6Cuo",
        "outputId": "4529a499-9336-4456-d836-ebab0e01a00c"
      },
      "outputs": [
        {
          "output_type": "stream",
          "name": "stdout",
          "text": [
            "\n",
            "Data normalization and encoding complete.\n"
          ]
        }
      ],
      "source": [
        "# ===================================================================\n",
        "# Section 4: Improved Training with AGGRESSIVE REGULARIZATION\n",
        "# ===================================================================\n",
        "\n",
        "# --- Scaling and Encoding ---\n",
        "# Initialize the MinMaxScaler to scale features to the [0, 1] range.\n",
        "scaler = MinMaxScaler()\n",
        "# Fit the scaler on the training data and transform it.\n",
        "X_train_scaled = scaler.fit_transform(X_train)\n",
        "# Apply the SAME fitted scaler to transform the validation and test data.\n",
        "# This prevents data leakage from the validation/test sets into the training process.\n",
        "X_val_scaled = scaler.transform(X_val)\n",
        "X_test_scaled = scaler.transform(X_test)\n",
        "\n",
        "# Initialize the LabelEncoder to convert string labels to integers.\n",
        "label_encoder = LabelEncoder()\n",
        "# Fit the encoder on the training labels and transform them.\n",
        "y_train_encoded = label_encoder.fit_transform(y_train)\n",
        "# Apply the SAME fitted encoder to the validation labels.\n",
        "y_val_encoded = label_encoder.transform(y_val)\n",
        "print(\"\\nData normalization and encoding complete.\")"
      ]
    },
    {
      "cell_type": "markdown",
      "metadata": {
        "id": "vxwa-b-v7qxr"
      },
      "source": [
        "***Visualization 3: Effect of Feature Scaling***\n",
        "\n",
        "Let's see how MinMaxScaler changed the distribution of our features. We'll plot the density of a few features before and after scaling."
      ]
    },
    {
      "cell_type": "code",
      "execution_count": null,
      "metadata": {
        "colab": {
          "base_uri": "https://localhost:8080/",
          "height": 559
        },
        "id": "TjZtK2pJ6UFC",
        "outputId": "f79b7eb5-7de6-4ceb-dbb4-e97d6882de56"
      },
      "outputs": [
        {
          "output_type": "stream",
          "name": "stdout",
          "text": [
            "\n",
            "--- Visualizing Effect of Feature Scaling ---\n"
          ]
        },
        {
          "output_type": "display_data",
          "data": {
            "text/plain": [
              "<Figure size 1500x600 with 2 Axes>"
            ],
            "image/png": "[encoded data removed]"
          },
          "metadata": {}
        }
      ],
      "source": [
        "# --- Plot 4: Feature Scaling Distribution ---\n",
        "print(\"\\n--- Visualizing Effect of Feature Scaling ---\")\n",
        "plt.figure(figsize=(15, 6))\n",
        "plt.suptitle('Feature Distribution Before and After Scaling', fontsize=16)\n",
        "\n",
        "# Plot distribution before scaling for the first 3 features\n",
        "plt.subplot(1, 2, 1)\n",
        "for i in range(3):\n",
        "    sns.kdeplot(X_train[:, i], label=f'Feature {i+1}')\n",
        "plt.title('Before Scaling')\n",
        "plt.xlabel('Feature Value')\n",
        "plt.ylabel('Density')\n",
        "plt.legend()\n",
        "\n",
        "# Plot distribution after scaling for the first 3 features\n",
        "plt.subplot(1, 2, 2)\n",
        "for i in range(3):\n",
        "    sns.kdeplot(X_train_scaled[:, i], label=f'Feature {i+1}')\n",
        "plt.title('After MinMaxScaler')\n",
        "plt.xlabel('Feature Value')\n",
        "plt.ylabel('Density')\n",
        "plt.legend()\n",
        "\n",
        "plt.tight_layout(rect=[0, 0.03, 1, 0.95])\n",
        "plt.show()"
      ]
    },
    {
      "cell_type": "code",
      "execution_count": null,
      "metadata": {
        "colab": {
          "base_uri": "https://localhost:8080/"
        },
        "id": "TARSbufe6V9k",
        "outputId": "a6a385b6-33a1-483f-f95b-6df88df4955a"
      },
      "outputs": [
        {
          "output_type": "stream",
          "name": "stdout",
          "text": [
            "\n",
            "Performing feature selection...\n",
            "Selected 48 features out of 96.\n"
          ]
        }
      ],
      "source": [
        "# --- Feature Selection ---\n",
        "print(\"\\nPerforming feature selection...\")\n",
        "# We first train a RandomForestClassifier to get feature importances.\n",
        "# n_jobs=-1 uses all available CPU cores to speed up training.\n",
        "sel_clf = RandomForestClassifier(n_estimators=100, random_state=42, n_jobs=-1)\n",
        "sel_clf.fit(X_train_scaled, y_train_encoded)\n",
        "\n",
        "# Initialize SelectFromModel, which will select features whose importance is greater than a specified threshold.\n",
        "# Here, 'median' means it will keep the top 50% most important features.\n",
        "# prefit=True indicates that we are using a model that has already been trained.\n",
        "selector = SelectFromModel(sel_clf, prefit=True, threshold='median')\n",
        "\n",
        "# Transform the datasets to keep only the selected features.\n",
        "X_train_selected = selector.transform(X_train_scaled)\n",
        "X_val_selected = selector.transform(X_val_scaled)\n",
        "X_test_selected = selector.transform(X_test_scaled)\n",
        "print(f\"Selected {X_train_selected.shape[1]} features out of {X_train_scaled.shape[1]}.\")"
      ]
    },
    {
      "cell_type": "markdown",
      "metadata": {
        "id": "Zvhi1AOv7vjL"
      },
      "source": [
        "***Visualization 4: Feature Importances***\n",
        "\n",
        "Let's visualize the importances that the feature selection model learned. This helps us understand which features were considered most useful for the classification task."
      ]
    },
    {
      "cell_type": "code",
      "execution_count": null,
      "metadata": {
        "colab": {
          "base_uri": "https://localhost:8080/",
          "height": 675
        },
        "id": "GxxJbOQ-6YMB",
        "outputId": "41909e51-1c28-429d-ca83-7d0744b9c3a6"
      },
      "outputs": [
        {
          "output_type": "stream",
          "name": "stdout",
          "text": [
            "\n",
            "--- Visualizing Feature Importances for Selection ---\n"
          ]
        },
        {
          "output_type": "display_data",
          "data": {
            "text/plain": [
              "<Figure size 1500x700 with 1 Axes>"
            ],
            "image/png": "[encoded data removed]"
          },
          "metadata": {}
        }
      ],
      "source": [
        "# --- Plot 5: Feature Importances ---\n",
        "print(\"\\n--- Visualizing Feature Importances for Selection ---\")\n",
        "# Get the feature importances from the classifier used for selection\n",
        "importances = sel_clf.feature_importances_\n",
        "# Create a pandas Series for easier handling and plotting\n",
        "feat_importances = pd.Series(importances).sort_values(ascending=False)\n",
        "# Get the threshold value used by SelectFromModel\n",
        "threshold_value = np.median(importances)\n",
        "\n",
        "plt.figure(figsize=(15, 7))\n",
        "# Plot only the top 30 most important features for clarity\n",
        "feat_importances.head(30).plot(kind='bar', color='teal')\n",
        "# Draw a horizontal line representing the selection threshold\n",
        "plt.axhline(y=threshold_value, color='r', linestyle='--', label=f'Median Threshold ({threshold_value:.4f})')\n",
        "plt.title('Top 30 Feature Importances from Selection Model', fontsize=16)\n",
        "plt.xlabel('Feature Index')\n",
        "plt.ylabel('Importance')\n",
        "plt.legend()\n",
        "plt.show()"
      ]
    },
    {
      "cell_type": "code",
      "execution_count": null,
      "metadata": {
        "colab": {
          "base_uri": "https://localhost:8080/"
        },
        "id": "ORjVGeBd6anG",
        "outputId": "c6c373e2-c48c-4633-e9ff-01a67294c7ab"
      },
      "outputs": [
        {
          "output_type": "stream",
          "name": "stdout",
          "text": [
            "\n",
            "Performing hyperparameter tuning with AGGRESSIVE regularization...\n",
            "Fitting 5 folds for each of 25 candidates, totalling 125 fits\n",
            "\n",
            "Best parameters found: {'n_estimators': 150, 'min_samples_leaf': 8, 'max_features': 'sqrt', 'max_depth': 6, 'class_weight': 'balanced'}\n"
          ]
        }
      ],
      "source": [
        "# --- IMPROVEMENT: More AGGRESSIVE Hyperparameter Grid to force generalization ---\n",
        "print(\"\\nPerforming hyperparameter tuning with AGGRESSIVE regularization...\")\n",
        "# Define the parameter distribution for RandomizedSearchCV.\n",
        "# These ranges are chosen to build a more robust, less overfit model.\n",
        "param_dist = {\n",
        "    'n_estimators': [50, 100, 150],        # Fewer trees can reduce overfitting.\n",
        "    'max_depth': [4, 5, 6, 7],             # Crucial: Shallow trees are less complex and generalize better.\n",
        "    'min_samples_leaf': [6, 8, 10, 12],    # Crucial: Requiring more samples in a leaf node prevents the model from learning noise.\n",
        "    'max_features': ['sqrt', 0.5],         # Limits the number of features considered at each split, another regularization technique.\n",
        "    'class_weight': ['balanced']           # Helps with class imbalance by adjusting weights inversely proportional to class frequencies.\n",
        "    # 'class_weight': [{0: 1.10, 1: 1.20, 2: 1.10, 3: 1.05}]\n",
        "}\n",
        "\n",
        "# --- Use StratifiedKFold for reliable cross-validation ---\n",
        "# This ensures that each fold of the cross-validation is representative of the overall label distribution.\n",
        "cv_strategy = StratifiedKFold(n_splits=5, shuffle=True, random_state=42)\n",
        "\n",
        "# --- Randomized Search ---\n",
        "# Initialize RandomizedSearchCV with the classifier, parameter grid, and CV strategy.\n",
        "random_search = RandomizedSearchCV(\n",
        "    estimator=RandomForestClassifier(random_state=42, n_jobs=-1),\n",
        "    param_distributions=param_dist,\n",
        "    n_iter=25, # Number of parameter settings that are sampled.\n",
        "    cv=cv_strategy,\n",
        "    scoring='accuracy', # The metric to optimize.\n",
        "    verbose=1, # Prints progress updates.\n",
        "    random_state=42,\n",
        "    n_jobs=-1 # Use all available CPU cores.\n",
        ")\n",
        "# Start the search process on the selected training data.\n",
        "random_search.fit(X_train_selected, y_train_encoded)\n",
        "\n",
        "# After the search is complete, get the best model found.\n",
        "print(\"\\nBest parameters found:\", random_search.best_params_)\n",
        "best_rf = random_search.best_estimator_"
      ]
    },
    {
      "cell_type": "markdown",
      "metadata": {
        "id": "HYmBJKvF74gr"
      },
      "source": [
        "***Section 5: Evaluation and Visualization***\n",
        "\n",
        "After training the final, optimized model, this section evaluates its performance.\n",
        "Prediction: The model predicts labels for both the training and validation sets.\n",
        "Metrics Calculation: accuracy_score and classification_report are used to compute key performance metrics. The classification report provides precision, recall, and F1-score for each class, giving a more detailed view than accuracy alone.\n",
        "Visualization:\n",
        "A bar chart compares the final training and validation accuracy. A small gap between these two values suggests the model is generalizing well.\n",
        "A confusion matrix visualizes the model's performance on the validation set, showing which classes are often confused with each other."
      ]
    },
    {
      "cell_type": "code",
      "execution_count": null,
      "metadata": {
        "colab": {
          "base_uri": "https://localhost:8080/",
          "height": 908
        },
        "id": "1MVgJoAb6cX9",
        "outputId": "db59da79-82dc-4a19-83d7-d9ba659fb26f"
      },
      "outputs": [
        {
          "output_type": "stream",
          "name": "stdout",
          "text": [
            "\n",
            "--- Model Evaluation ---\n",
            "\n",
            "Final Training Accuracy: 67.50%\n",
            "Final Validation Accuracy: 68.00%\n",
            "\n",
            "Final Validation Classification Report:\n",
            "              precision    recall  f1-score   support\n",
            "\n",
            "    Backward       0.67      0.71      0.69        14\n",
            "     Forward       0.64      0.75      0.69        12\n",
            "        Left       0.80      0.57      0.67        14\n",
            "       Right       0.64      0.70      0.67        10\n",
            "\n",
            "    accuracy                           0.68        50\n",
            "   macro avg       0.69      0.68      0.68        50\n",
            "weighted avg       0.69      0.68      0.68        50\n",
            "\n"
          ]
        },
        {
          "output_type": "display_data",
          "data": {
            "text/plain": [
              "<Figure size 1400x600 with 3 Axes>"
            ],
            "image/png": "[encoded data removed]"
          },
          "metadata": {}
        }
      ],
      "source": [
        "# ===================================================================\n",
        "# Section 5: Evaluation and Visualization\n",
        "# ===================================================================\n",
        "print(\"\\n--- Model Evaluation ---\")\n",
        "# Predict on the training data to check for overfitting.\n",
        "y_pred_train = best_rf.predict(X_train_selected)\n",
        "# Predict on the validation data to assess generalization performance.\n",
        "y_pred_val = best_rf.predict(X_val_selected)\n",
        "\n",
        "# Calculate the accuracy scores.\n",
        "train_accuracy = accuracy_score(y_train_encoded, y_pred_train)\n",
        "val_accuracy = accuracy_score(y_val_encoded, y_pred_val)\n",
        "\n",
        "print(f\"\\nFinal Training Accuracy: {train_accuracy * 100:.2f}%\")\n",
        "print(f\"Final Validation Accuracy: {val_accuracy * 100:.2f}%\")\n",
        "\n",
        "# The classification report shows precision, recall, and F1-score for each class.\n",
        "# - Precision: Of all the predictions for a class, how many were correct? (TP / (TP + FP))\n",
        "# - Recall: Of all the actual instances of a class, how many did the model find? (TP / (TP + FN))\n",
        "# - F1-Score: The harmonic mean of precision and recall.\n",
        "print(\"\\nFinal Validation Classification Report:\")\n",
        "print(classification_report(y_val_encoded, y_pred_val, target_names=label_encoder.classes_))\n",
        "\n",
        "# --- Plotting ---\n",
        "# Set a modern plot style.\n",
        "plt.style.use('seaborn-v0_8-whitegrid')\n",
        "# Create a figure with two subplots side-by-side.\n",
        "fig, ax1 = plt.subplots(figsize=(14, 6), ncols=2)\n",
        "\n",
        "# --- Plot 6: Training vs. Validation Accuracy Bar Chart ---\n",
        "# This plot provides a quick comparison of performance on seen (train) vs. unseen (validation) data.\n",
        "sns.barplot(x=['Training Accuracy', 'Validation Accuracy'], y=[train_accuracy, val_accuracy], ax=ax1[0], palette='viridis')\n",
        "ax1[0].set_title('Training vs. Validation Accuracy', fontsize=14)\n",
        "ax1[0].set_ylabel('Accuracy')\n",
        "ax1[0].set_ylim(0, 1.05) # Set y-axis limit to be just above 1.0.\n",
        "# Add text labels on top of the bars to show the exact values.\n",
        "for i, v in enumerate([train_accuracy, val_accuracy]):\n",
        "    ax1[0].text(i, v + 0.01, f\"{v:.3f}\", ha='center', fontweight='bold')\n",
        "\n",
        "# --- Plot 7: Validation Confusion Matrix ---\n",
        "# The confusion matrix shows the number of correct and incorrect predictions for each class.\n",
        "# The diagonal elements show correct predictions. Off-diagonal elements show where errors were made.\n",
        "cm = confusion_matrix(y_val_encoded, y_pred_val)\n",
        "sns.heatmap(cm, annot=True, fmt='d', cmap='Blues',\n",
        "            xticklabels=label_encoder.classes_,\n",
        "            yticklabels=label_encoder.classes_,\n",
        "            ax=ax1[1])\n",
        "ax1[1].set_title('Validation Confusion Matrix', fontsize=14)\n",
        "ax1[1].set_xlabel('Predicted Label')\n",
        "ax1[1].set_ylabel('True Label')\n",
        "\n",
        "plt.tight_layout()\n",
        "plt.show()"
      ]
    },
    {
      "cell_type": "markdown",
      "metadata": {
        "id": "84_uHNCu799_"
      },
      "source": [
        "***Section 6: Prediction and Submission***\n",
        "\n",
        "This final section uses the fully trained and tuned model (best_rf) to make predictions on the unseen test data (X_test_selected). The predicted integer labels are converted back to their original string format (e.g., 'F1', 'F2') using the label_encoder. Finally, a submission file is created in the specified format (id, label) and saved as a CSV file."
      ]
    },
    {
      "cell_type": "code",
      "execution_count": null,
      "metadata": {
        "colab": {
          "base_uri": "https://localhost:8080/"
        },
        "id": "SpH6ME9M6eTm",
        "outputId": "2bce505f-4339-43ca-a721-42980597e694"
      },
      "outputs": [
        {
          "output_type": "stream",
          "name": "stdout",
          "text": [
            "\n",
            "Generating final predictions for the test set...\n",
            "\n",
            "Submission file 'ssvep_submission_regularized_tuned.csv' created successfully.\n",
            "Submission file head:\n",
            "     id     label\n",
            "0  4951  Backward\n",
            "1  4952  Backward\n",
            "2  4953   Forward\n",
            "3  4954  Backward\n",
            "4  4955  Backward\n"
          ]
        }
      ],
      "source": [
        "# ===================================================================\n",
        "# Section 6: Prediction and Submission\n",
        "# ===================================================================\n",
        "print(\"\\nGenerating final predictions for the test set...\")\n",
        "# Use the trained model to predict labels for the preprocessed test data.\n",
        "test_predictions_encoded = best_rf.predict(X_test_selected)\n",
        "# Convert the numeric predictions back to the original string labels (e.g., 0 -> 'F1').\n",
        "test_predictions_labels = label_encoder.inverse_transform(test_predictions_encoded)\n",
        "\n",
        "# Create a new DataFrame for the submission file.\n",
        "submission_df = pd.DataFrame({'id': test_ssvep_df['id'], 'label': test_predictions_labels})\n",
        "# Define the filename for the submission file.\n",
        "submission_filename = 'ssvep_submission_regularized_tuned.csv'\n",
        "# Save the DataFrame to a CSV file, without the pandas index.\n",
        "submission_df.to_csv(submission_filename, index=False)\n",
        "\n",
        "print(f\"\\nSubmission file '{submission_filename}' created successfully.\")\n",
        "print(\"Submission file head:\")\n",
        "print(submission_df.head())"
      ]
    },
    {
      "cell_type": "markdown",
      "metadata": {
        "id": "Oplz8Pgl8CZT"
      },
      "source": [
        "***Visualization 5: Test Set Prediction Distribution***\n",
        "\n",
        "As a final sanity check, let's look at the distribution of our model's predictions on the test set. This can sometimes highlight if the model is heavily biased towards one class."
      ]
    },
    {
      "cell_type": "code",
      "execution_count": null,
      "metadata": {
        "colab": {
          "base_uri": "https://localhost:8080/",
          "height": 519
        },
        "id": "jHRShiKx6gNs",
        "outputId": "57a7db57-bab2-454c-aa0c-152530b8a08d"
      },
      "outputs": [
        {
          "output_type": "stream",
          "name": "stdout",
          "text": [
            "\n",
            "--- Visualizing Test Set Predictions ---\n"
          ]
        },
        {
          "output_type": "display_data",
          "data": {
            "text/plain": [
              "<Figure size 800x500 with 1 Axes>"
            ],
            "image/png": "[encoded data removed]"
          },
          "metadata": {}
        }
      ],
      "source": [
        "# --- Plot 8: Test Set Prediction Distribution ---\n",
        "print(\"\\n--- Visualizing Test Set Predictions ---\")\n",
        "plt.figure(figsize=(8, 5))\n",
        "sns.countplot(x=submission_df['label'], palette='magma', order=sorted(submission_df['label'].unique()))\n",
        "plt.title('Distribution of Predicted Labels on Test Set', fontsize=16)\n",
        "plt.xlabel('Predicted Label')\n",
        "plt.ylabel('Number of Predictions')\n",
        "plt.show()"
      ]
    },
    {
      "cell_type": "markdown",
      "source": [
        "***Deployment Script***"
      ],
      "metadata": {
        "id": "anxfA_Lei5pz"
      }
    },
    {
      "cell_type": "code",
      "source": [
        "# Cell 2: Create the training script file\n",
        "%%writefile train_ssvep.py\n",
        "\n",
        "import pandas as pd\n",
        "import numpy as np\n",
        "import os\n",
        "import joblib\n",
        "import warnings\n",
        "from scipy.signal import butter, filtfilt, welch\n",
        "from sklearn.preprocessing import MinMaxScaler, LabelEncoder\n",
        "from sklearn.ensemble import RandomForestClassifier\n",
        "from sklearn.feature_selection import SelectFromModel\n",
        "from sklearn.model_selection import RandomizedSearchCV, StratifiedKFold\n",
        "from sklearn.metrics import accuracy_score\n",
        "from tqdm import tqdm\n",
        "\n",
        "# --- Configuration & Constants ---\n",
        "warnings.filterwarnings('ignore')\n",
        "BASE_PATH = '/content/drive/MyDrive/aic3/unzipped' #<--! UPDATE THIS PATH IF NEEDED\n",
        "MODEL_ARTIFACTS_PATH = 'ssvep_model_artifacts'\n",
        "TASK_TO_PROCESS = 'SSVEP'\n",
        "EEG_CHANNELS = ['PO7', 'PZ', 'OZ', 'PO8']\n",
        "SAMPLING_RATE = 250\n",
        "TARGET_FREQS = [7, 8, 10, 13]\n",
        "TRIAL_DURATION_S = 7.0\n",
        "TIME_TRIM_S = 1.0\n",
        "\n",
        "# --- Core Pipeline Functions ---\n",
        "def load_trial_data(row, base_path):\n",
        "    id_num = row['id']\n",
        "    if 1 <= id_num <= 4800: dataset_type = 'train'\n",
        "    elif 4801 <= id_num <= 4900: dataset_type = 'validation'\n",
        "    else: dataset_type = 'test'\n",
        "    path = f\"{base_path}/{row['task']}/{dataset_type}/{row['subject_id']}/{row['trial_session']}/EEGdata.csv\"\n",
        "    eeg_data = pd.read_csv(path).ffill().bfill()\n",
        "    samples_per_trial = int(TRIAL_DURATION_S * SAMPLING_RATE)\n",
        "    trim_samples = int(TIME_TRIM_S * SAMPLING_RATE)\n",
        "    trial_num = int(row['trial'])\n",
        "    start_idx = (trial_num - 1) * samples_per_trial\n",
        "    trimmed_start_idx = start_idx + trim_samples\n",
        "    end_idx = start_idx + samples_per_trial\n",
        "    return eeg_data.iloc[trimmed_start_idx:end_idx]\n",
        "\n",
        "def apply_butterworth_filter(data, fs=250):\n",
        "    lowcut, highcut, order = 4.0, 42.0, 4; nyq = 0.5 * fs; low, high = lowcut / nyq, highcut / nyq\n",
        "    b, a = butter(order, [low, high], btype='band')\n",
        "    return np.apply_along_axis(lambda x: filtfilt(b, a, x) if not np.all(x == x[0]) else x, 0, data)\n",
        "\n",
        "def extract_psd_features(data, fs=250):\n",
        "    all_features = []; nperseg = fs * 4\n",
        "    for i in range(data.shape[1]):\n",
        "        freqs, psd = welch(data[:, i], fs=fs, nperseg=nperseg, nfft=nperseg*2)\n",
        "        for f in TARGET_FREQS:\n",
        "            for h in range(1, 4):\n",
        "                harmonic_freq = h * f\n",
        "                target_idx = np.argmin(np.abs(freqs - harmonic_freq))\n",
        "                noise_indices = np.where((freqs >= harmonic_freq-3)&(freqs<=harmonic_freq+3)&(np.abs(freqs-harmonic_freq)>0.25))[0]\n",
        "                signal_power = psd[target_idx]\n",
        "                noise_power = np.mean(psd[noise_indices]) if len(noise_indices) > 0 else 1e-12\n",
        "                all_features.extend([signal_power, signal_power / noise_power])\n",
        "    return np.array(all_features)\n",
        "\n",
        "def process_dataframe(df, base_path, name):\n",
        "    feature_list, label_list = [], []\n",
        "    for _, row in tqdm(df.iterrows(), total=len(df), desc=f\"Processing {name}\"):\n",
        "        eeg_signals = load_trial_data(row, base_path)[EEG_CHANNELS].values\n",
        "        filtered_signals = apply_butterworth_filter(eeg_signals)\n",
        "        features = extract_psd_features(filtered_signals)\n",
        "        feature_list.append(features); label_list.append(row['label'])\n",
        "    return np.array(feature_list), np.array(label_list)\n",
        "\n",
        "def main():\n",
        "    print(\"--- Starting SSVEP Model Training ---\")\n",
        "    train_df = pd.read_csv(os.path.join(BASE_PATH, 'train.csv'))\n",
        "    validation_df = pd.read_csv(os.path.join(BASE_PATH, 'validation.csv'))\n",
        "    train_ssvep_df = train_df[train_df['task'] == TASK_TO_PROCESS].reset_index(drop=True)\n",
        "    val_ssvep_df = validation_df[validation_df['task'] == TASK_TO_PROCESS].reset_index(drop=True)\n",
        "    X_train, y_train = process_dataframe(train_ssvep_df, BASE_PATH, \"Train\")\n",
        "    X_val, y_val = process_dataframe(val_ssvep_df, BASE_PATH, \"Validation\")\n",
        "    scaler = MinMaxScaler(); X_train_scaled = scaler.fit_transform(X_train); X_val_scaled = scaler.transform(X_val)\n",
        "    label_encoder = LabelEncoder(); y_train_encoded = label_encoder.fit_transform(y_train); y_val_encoded = label_encoder.transform(y_val)\n",
        "    sel_clf = RandomForestClassifier(n_estimators=100, random_state=42, n_jobs=-1).fit(X_train_scaled, y_train_encoded)\n",
        "    selector = SelectFromModel(sel_clf, prefit=True, threshold='median')\n",
        "    X_train_selected = selector.transform(X_train_scaled); X_val_selected = selector.transform(X_val_scaled)\n",
        "    param_dist = {'n_estimators': [50, 100, 150], 'max_depth': [4, 5, 6, 7], 'min_samples_leaf': [6, 8, 10, 12], 'max_features': ['sqrt', 0.5], 'class_weight': ['balanced']}\n",
        "    random_search = RandomizedSearchCV(RandomForestClassifier(random_state=42, n_jobs=-1), param_dist, n_iter=25, cv=StratifiedKFold(n_splits=5, shuffle=True, random_state=42), scoring='accuracy', random_state=42, n_jobs=-1).fit(X_train_selected, y_train_encoded)\n",
        "    best_rf = random_search.best_estimator_\n",
        "    print(f\"\\nFinal Validation Accuracy: {accuracy_score(y_val_encoded, best_rf.predict(X_val_selected)) * 100:.2f}%\")\n",
        "    os.makedirs(MODEL_ARTIFACTS_PATH, exist_ok=True)\n",
        "    joblib.dump(best_rf, os.path.join(MODEL_ARTIFACTS_PATH, 'ssvep_rf_model.joblib'))\n",
        "    joblib.dump(scaler, os.path.join(MODEL_ARTIFACTS_PATH, 'ssvep_scaler.joblib'))\n",
        "    joblib.dump(selector, os.path.join(MODEL_ARTIFACTS_PATH, 'ssvep_selector.joblib'))\n",
        "    joblib.dump(label_encoder, os.path.join(MODEL_ARTIFACTS_PATH, 'ssvep_label_encoder.joblib'))\n",
        "    print(f\"\\n--- Training Complete. Artifacts saved to '{MODEL_ARTIFACTS_PATH}' ---\")\n",
        "\n",
        "if __name__ == '__main__':\n",
        "    main()"
      ],
      "metadata": {
        "colab": {
          "base_uri": "https://localhost:8080/"
        },
        "id": "BMki6Og8jn5k",
        "outputId": "5a3ea79c-a097-47b9-8417-f2434c166ef2"
      },
      "execution_count": null,
      "outputs": [
        {
          "output_type": "stream",
          "name": "stdout",
          "text": [
            "Overwriting train_ssvep.py\n"
          ]
        }
      ]
    },
    {
      "cell_type": "code",
      "source": [
        "# Cell 3:\n",
        "!python train_ssvep.py"
      ],
      "metadata": {
        "colab": {
          "base_uri": "https://localhost:8080/"
        },
        "id": "z3r0hRQ4l0yZ",
        "outputId": "e4932a40-75ef-4fb8-fd12-6909d11dfb1c"
      },
      "execution_count": null,
      "outputs": [
        {
          "output_type": "stream",
          "name": "stdout",
          "text": [
            "--- Starting SSVEP Model Training ---\n",
            "Processing Train: 100% 2400/2400 [03:57<00:00, 10.12it/s]\n",
            "Processing Validation: 100% 50/50 [00:04<00:00, 11.21it/s]\n",
            "\n",
            "Final Validation Accuracy: 68.00%\n",
            "\n",
            "--- Training Complete. Artifacts saved to 'ssvep_model_artifacts' ---\n"
          ]
        }
      ]
    },
    {
      "cell_type": "code",
      "source": [
        "# Cell 4: Create the prediction script file\n",
        "%%writefile predict_ssvep.py\n",
        "\n",
        "import pandas as pd\n",
        "import numpy as np\n",
        "import os\n",
        "import joblib\n",
        "import time\n",
        "import argparse\n",
        "import warnings\n",
        "from scipy.signal import butter, filtfilt, welch\n",
        "\n",
        "warnings.filterwarnings('ignore')\n",
        "# --- Constants ---\n",
        "EEG_CHANNELS = ['PO7', 'PZ', 'OZ', 'PO8']\n",
        "SAMPLING_RATE = 250\n",
        "TARGET_FREQS = [7, 8, 10, 13]\n",
        "TRIAL_DURATION_S = 7.0\n",
        "TIME_TRIM_S = 1.0\n",
        "\n",
        "# --- Core Pipeline Functions ---\n",
        "def load_trial_data(row, base_path):\n",
        "    # --- CORRECTED LOGIC ---\n",
        "    # Extract the number from subject_id (e.g., 'S01' -> 'S1')\n",
        "    subject_num = int(row['subject_id'][1:])\n",
        "    subject_folder = f\"S{subject_num}\"\n",
        "\n",
        "    # Extract the number from trial_session (e.g., 'S01_sess01' -> '1')\n",
        "    session_num = int(row['trial_session'].split('sess')[-1])\n",
        "    session_folder = str(session_num)\n",
        "    # --- END OF CORRECTION ---\n",
        "\n",
        "    # This part remains the same, but now uses the corrected folder names\n",
        "    for dataset_type in ['test', 'validation', 'train']:\n",
        "        path = f\"{base_path}/{row['task']}/{dataset_type}/{subject_folder}/{session_folder}/EEGdata.csv\"\n",
        "        if os.path.exists(path):\n",
        "            eeg_data = pd.read_csv(path).ffill().bfill()\n",
        "            samples_per_trial = int(TRIAL_DURATION_S * SAMPLING_RATE)\n",
        "            trim_samples = int(TIME_TRIM_S * SAMPLING_RATE)\n",
        "            trial_num = int(row['trial'])\n",
        "            start_idx = (trial_num - 1) * samples_per_trial\n",
        "            trimmed_start_idx = start_idx + trim_samples\n",
        "            end_idx = start_idx + samples_per_trial\n",
        "            return eeg_data.iloc[trimmed_start_idx:end_idx]\n",
        "\n",
        "    # This will now only be raised if the file truly doesn't exist after checking the correct path\n",
        "    raise FileNotFoundError(f\"Could not find EEGdata.csv for subject {subject_folder} session {session_folder} in any dataset type.\")\n",
        "\n",
        "def apply_butterworth_filter(data, fs=250):\n",
        "    lowcut, highcut, order = 4.0, 42.0, 4; nyq = 0.5 * fs; low, high = lowcut / nyq, highcut / nyq\n",
        "    b, a = butter(order, [low, high], btype='band')\n",
        "    return np.apply_along_axis(lambda x: filtfilt(b, a, x) if not np.all(x == x[0]) else x, 0, data)\n",
        "\n",
        "def extract_psd_features(data, fs=250):\n",
        "    all_features = []; nperseg = fs * 4\n",
        "    for i in range(data.shape[1]):\n",
        "        freqs, psd = welch(data[:, i], fs=fs, nperseg=nperseg, nfft=nperseg*2)\n",
        "        for f in TARGET_FREQS:\n",
        "            for h in range(1, 4):\n",
        "                harmonic_freq = h * f\n",
        "                target_idx = np.argmin(np.abs(freqs - harmonic_freq))\n",
        "                noise_indices = np.where((freqs >= harmonic_freq-3)&(freqs<=harmonic_freq+3)&(np.abs(freqs-harmonic_freq)>0.25))[0]\n",
        "                signal_power = psd[target_idx]\n",
        "                noise_power = np.mean(psd[noise_indices]) if len(noise_indices) > 0 else 1e-12\n",
        "                all_features.extend([signal_power, signal_power / noise_power])\n",
        "    return np.array(all_features)\n",
        "\n",
        "# --- Prediction Pipeline ---\n",
        "class SSVEPPredictor:\n",
        "    def __init__(self, artifacts_path):\n",
        "        try:\n",
        "            self.model = joblib.load(os.path.join(artifacts_path, 'ssvep_rf_model.joblib'))\n",
        "            self.scaler = joblib.load(os.path.join(artifacts_path, 'ssvep_scaler.joblib'))\n",
        "            self.selector = joblib.load(os.path.join(artifacts_path, 'ssvep_selector.joblib'))\n",
        "            self.label_encoder = joblib.load(os.path.join(artifacts_path, 'ssvep_label_encoder.joblib'))\n",
        "        except FileNotFoundError as e:\n",
        "            print(f\"ERROR: Could not load model artifacts from '{artifacts_path}'. {e}\")\n",
        "            exit()\n",
        "\n",
        "    def predict(self, trial_info, base_path):\n",
        "        eeg_signals = load_trial_data(trial_info, base_path)[EEG_CHANNELS].values\n",
        "        filtered_signals = apply_butterworth_filter(eeg_signals)\n",
        "        features = extract_psd_features(filtered_signals).reshape(1, -1)\n",
        "        scaled_features = self.scaler.transform(features)\n",
        "        selected_features = self.selector.transform(scaled_features)\n",
        "        prediction_encoded = self.model.predict(selected_features)\n",
        "        prediction_label = self.label_encoder.inverse_transform(prediction_encoded)\n",
        "        return prediction_label[0]\n",
        "\n",
        "def main():\n",
        "    parser = argparse.ArgumentParser(description=\"Predict SSVEP label for a single trial.\")\n",
        "    parser.add_argument(\"--base_path\", type=str, required=True, help=\"Path to the root data directory.\")\n",
        "    parser.add_argument(\"--model_path\", type=str, default=\"ssvep_model_artifacts\", help=\"Path to the saved model artifacts.\")\n",
        "    parser.add_argument(\"--subject\", type=str, required=True, help=\"Subject ID (e.g., 'S01').\")\n",
        "    parser.add_argument(\"--session\", type=str, required=True, help=\"Trial session (e.g., 'S01_sess01').\")\n",
        "    parser.add_argument(\"--trial\", type=int, required=True, help=\"Trial number (e.g., 1).\")\n",
        "    args = parser.parse_args()\n",
        "\n",
        "    trial_info = {\"task\": \"SSVEP\", \"subject_id\": args.subject, \"trial_session\": args.session, \"trial\": args.trial}\n",
        "\n",
        "    print(f\"--- Initializing Predictor from '{args.model_path}' ---\")\n",
        "    predictor = SSVEPPredictor(args.model_path)\n",
        "\n",
        "    t_start = time.time()\n",
        "    prediction = predictor.predict(trial_info, args.base_path)\n",
        "    t_total = (time.time() - t_start) * 1000\n",
        "\n",
        "    print(\"\\n==================================\")\n",
        "    print(f\"      PREDICTION: {prediction}\")\n",
        "    print(\"==================================\")\n",
        "    print(f\"Total Prediction Time: {t_total:.2f} ms\")\n",
        "    print(\"==================================\")\n",
        "\n",
        "if __name__ == '__main__':\n",
        "    main()"
      ],
      "metadata": {
        "colab": {
          "base_uri": "https://localhost:8080/"
        },
        "id": "0L7tmvZ8l75x",
        "outputId": "5f4c4065-7562-468d-bfe6-3b15836751b8"
      },
      "execution_count": null,
      "outputs": [
        {
          "output_type": "stream",
          "name": "stdout",
          "text": [
            "Overwriting predict_ssvep.py\n"
          ]
        }
      ]
    },
    {
      "cell_type": "code",
      "source": [
        "# Cell 6: Run prediction\n",
        "!python predict_ssvep.py \\\n",
        "  --base_path \"/content/drive/MyDrive/aic3/unzipped\" \\\n",
        "  --model_path \"ssvep_model_artifacts\" \\\n",
        "  --subject \"S01\" \\\n",
        "  --session \"S01_sess01\" \\\n",
        "  --trial 1"
      ],
      "metadata": {
        "colab": {
          "base_uri": "https://localhost:8080/"
        },
        "id": "vwV_MNTimA0_",
        "outputId": "68bf91d2-beaa-4659-8bab-b8df3927a4d0"
      },
      "execution_count": null,
      "outputs": [
        {
          "output_type": "stream",
          "name": "stdout",
          "text": [
            "--- Initializing Predictor from 'ssvep_model_artifacts' ---\n",
            "\n",
            "==================================\n",
            "      PREDICTION: Forward\n",
            "==================================\n",
            "Total Prediction Time: 196.62 ms\n",
            "==================================\n"
          ]
        }
      ]
    },
    {
      "cell_type": "code",
      "source": [],
      "metadata": {
        "id": "-5w0G8sYiw1Q"
      },
      "execution_count": null,
      "outputs": []
    },
    {
      "cell_type": "markdown",
      "source": [
        "***Model checkpoints***\n",
        "\n",
        "***All scripts used (preprocessing, training, inference, etc.)***\n",
        "\n",
        "***A ready-to-run inference pipeline for generating predictions from the test set***\n",
        "\n",
        "***A complete training pipeline to train your models from scratch***\n",
        "\n",
        "***Any additional files (e.g., configs, requirements.txt) needed to reproduce your full workflow***"
      ],
      "metadata": {
        "id": "AhSTxMrpvNhB"
      }
    },
    {
      "cell_type": "code",
      "source": [
        "%%writefile train.py\n",
        "\n",
        "import pandas as pd\n",
        "import numpy as np\n",
        "import os\n",
        "import joblib\n",
        "import warnings\n",
        "from scipy.signal import butter, filtfilt, welch\n",
        "from sklearn.preprocessing import MinMaxScaler, LabelEncoder\n",
        "from sklearn.ensemble import RandomForestClassifier\n",
        "from sklearn.feature_selection import SelectFromModel\n",
        "from sklearn.model_selection import RandomizedSearchCV, StratifiedKFold\n",
        "from sklearn.metrics import accuracy_score\n",
        "from tqdm import tqdm\n",
        "\n",
        "warnings.filterwarnings('ignore')\n",
        "\n",
        "# --- Configuration ---\n",
        "RAW_DATA_PATH = '/content/drive/MyDrive/aic3/unzipped'\n",
        "MODEL_CHECKPOINT_PATH = '/content/drive/MyDrive/aic3/ssvep_model_artifacts'\n",
        "TASK = 'SSVEP'\n",
        "EEG_CHANNELS = ['PO7', 'PZ', 'OZ', 'PO8']\n",
        "SAMPLING_RATE = 250\n",
        "TRIAL_DURATION = 7.0\n",
        "TRIM_START_S = 1.0\n",
        "TARGET_FREQS = [7, 8, 10, 13]\n",
        "\n",
        "# --- Core Functions ---\n",
        "def load_trial_data(row, base_path):\n",
        "    \"\"\"Correctly loads a single trial's EEG data based on the provided metadata row.\"\"\"\n",
        "    # --- FIX for AttributeError ---\n",
        "    # The 'subject_id' is like 'S1' and 'trial_session' is like 1.\n",
        "    subject_folder = row['subject_id']\n",
        "    session_folder = str(row['trial_session'])\n",
        "    # --- END OF FIX ---\n",
        "\n",
        "    id_num = row['id']\n",
        "    if 1 <= id_num <= 4800: dataset = 'train'\n",
        "    elif 4801 <= id_num <= 4900: dataset = 'validation'\n",
        "    else: dataset = 'test'\n",
        "\n",
        "    path = os.path.join(base_path, row['task'], dataset, subject_folder, session_folder, 'EEGdata.csv')\n",
        "\n",
        "    if not os.path.exists(path):\n",
        "        # This provides a much more useful error message if the path is still wrong.\n",
        "        raise FileNotFoundError(f\"File not found. Constructed path: {path}. Check if subject/session folders match the data on disk.\")\n",
        "\n",
        "    eeg_data = pd.read_csv(path).ffill().bfill()\n",
        "\n",
        "    samples_per_trial = int(TRIAL_DURATION * SAMPLING_RATE)\n",
        "    trim_samples = int(TRIM_START_S * SAMPLING_RATE)\n",
        "    start_idx = (int(row['trial']) - 1) * samples_per_trial\n",
        "\n",
        "    trimmed_start_idx = start_idx + trim_samples\n",
        "    end_idx = start_idx + samples_per_trial\n",
        "\n",
        "    return eeg_data.iloc[trimmed_start_idx:end_idx]\n",
        "\n",
        "def apply_filter(data):\n",
        "    low, high, order = 4.0, 42.0, 4\n",
        "    nyq = 0.5 * SAMPLING_RATE\n",
        "    b, a = butter(order, [low/nyq, high/nyq], btype='band')\n",
        "    return np.apply_along_axis(lambda x: filtfilt(b, a, x) if not np.all(x == x[0]) else x, 0, data)\n",
        "\n",
        "def get_psd_features(data):\n",
        "    all_features = []; nperseg = SAMPLING_RATE * 4\n",
        "    for i in range(data.shape[1]):\n",
        "        freqs, psd = welch(data[:, i], fs=SAMPLING_RATE, nperseg=nperseg, nfft=nperseg*2)\n",
        "        for f in TARGET_FREQS:\n",
        "            for h in range(1, 4):\n",
        "                harmonic_freq = h * f\n",
        "                target_idx = np.argmin(np.abs(freqs - harmonic_freq))\n",
        "                noise_indices = np.where((freqs >= harmonic_freq-3) & (freqs<=harmonic_freq+3) & (np.abs(freqs-harmonic_freq)>0.25))[0]\n",
        "                signal_power = psd[target_idx]\n",
        "                noise_power = np.mean(psd[noise_indices]) if len(noise_indices) > 0 else 1e-12\n",
        "                all_features.extend([signal_power, signal_power / noise_power])\n",
        "    return np.array(all_features)\n",
        "\n",
        "def process_dataset(df, name):\n",
        "    features_list, labels_list = [], []\n",
        "    for _, row in tqdm(df.iterrows(), total=len(df), desc=f\"Processing {name} set\"):\n",
        "        trial_data = load_trial_data(row, RAW_DATA_PATH)\n",
        "        eeg_signals = trial_data[EEG_CHANNELS].values\n",
        "        filtered_signals = apply_filter(eeg_signals)\n",
        "        features = get_psd_features(filtered_signals)\n",
        "        features_list.append(features)\n",
        "        labels_list.append(row['label'])\n",
        "    return np.array(features_list), np.array(labels_list)\n",
        "\n",
        "def main():\n",
        "    print(\"--- [1/5] Starting Full Training Pipeline ---\")\n",
        "    os.makedirs(MODEL_CHECKPOINT_PATH, exist_ok=True)\n",
        "\n",
        "    print(\"--- [2/5] Loading and Processing Data ---\")\n",
        "    # Read the CSVs ensuring 'trial_session' is treated correctly\n",
        "    train_df = pd.read_csv(os.path.join(RAW_DATA_PATH, 'train.csv'))\n",
        "    val_df = pd.read_csv(os.path.join(RAW_DATA_PATH, 'validation.csv'))\n",
        "    train_ssvep = train_df[train_df['task'] == TASK].reset_index(drop=True)\n",
        "    val_ssvep = val_df[val_df['task'] == TASK].reset_index(drop=True)\n",
        "    X_train, y_train = process_dataset(train_ssvep, \"Train\")\n",
        "    X_val, y_val = process_dataset(val_ssvep, \"Validation\")\n",
        "\n",
        "    print(\"--- [3/5] Preprocessing: Scaling, Encoding, and Feature Selection ---\")\n",
        "    scaler = MinMaxScaler().fit(X_train)\n",
        "    X_train_s = scaler.transform(X_train)\n",
        "    X_val_s = scaler.transform(X_val)\n",
        "\n",
        "    le = LabelEncoder().fit(y_train)\n",
        "    y_train_e = le.transform(y_train)\n",
        "    y_val_e = le.transform(y_val)\n",
        "\n",
        "    sel_clf = RandomForestClassifier(n_estimators=100, random_state=42, n_jobs=-1).fit(X_train_s, y_train_e)\n",
        "    selector = SelectFromModel(sel_clf, prefit=True, threshold='median')\n",
        "    X_train_final = selector.transform(X_train_s)\n",
        "    X_val_final = selector.transform(X_val_s)\n",
        "\n",
        "    print(\"--- [4/5] Training Model with Hyperparameter Tuning ---\")\n",
        "    params = {'n_estimators': [50, 100, 150], 'max_depth': [4, 5, 6, 7], 'min_samples_leaf': [6, 8, 10, 12], 'max_features': ['sqrt', 0.5], 'class_weight': ['balanced']}\n",
        "    cv = StratifiedKFold(n_splits=5, shuffle=True, random_state=42)\n",
        "    search = RandomizedSearchCV(RandomForestClassifier(random_state=42), params, n_iter=25, cv=cv, n_jobs=-1, random_state=42).fit(X_train_final, y_train_e)\n",
        "    best_model = search.best_estimator_\n",
        "\n",
        "    print(\"--- [5/5] Saving Model Checkpoints to Google Drive ---\")\n",
        "    joblib.dump(best_model, os.path.join(MODEL_CHECKPOINT_PATH, 'ssvep_model.joblib'))\n",
        "    joblib.dump(scaler, os.path.join(MODEL_CHECKPOINT_PATH, 'ssvep_scaler.joblib'))\n",
        "    joblib.dump(selector, os.path.join(MODEL_CHECKPOINT_PATH, 'ssvep_selector.joblib'))\n",
        "    joblib.dump(le, os.path.join(MODEL_CHECKPOINT_PATH, 'ssvep_label_encoder.joblib'))\n",
        "\n",
        "    val_acc = accuracy_score(y_val_e, best_model.predict(X_val_final))\n",
        "    print(f\"\\nTraining complete. Validation Accuracy: {val_acc*100:.2f}%\")\n",
        "    print(f\"Model checkpoints saved to: {MODEL_CHECKPOINT_PATH}\")\n",
        "\n",
        "if __name__ == '__main__':\n",
        "    main()"
      ],
      "metadata": {
        "colab": {
          "base_uri": "https://localhost:8080/"
        },
        "id": "k_oLjKpxsNi0",
        "outputId": "7b9fb3e5-e0db-4af7-b76e-3d4a8f3bf4cf"
      },
      "execution_count": null,
      "outputs": [
        {
          "output_type": "stream",
          "name": "stdout",
          "text": [
            "Overwriting train.py\n"
          ]
        }
      ]
    },
    {
      "cell_type": "code",
      "source": [
        "%%writefile predict.py\n",
        "\n",
        "import pandas as pd\n",
        "import numpy as np\n",
        "import os\n",
        "import joblib\n",
        "import argparse\n",
        "import warnings\n",
        "from scipy.signal import butter, filtfilt, welch\n",
        "\n",
        "warnings.filterwarnings('ignore')\n",
        "\n",
        "EEG_CHANNELS = ['PO7', 'PZ', 'OZ', 'PO8']\n",
        "SAMPLING_RATE = 250\n",
        "TRIAL_DURATION = 7.0\n",
        "TRIM_START_S = 1.0\n",
        "TARGET_FREQS = [7, 8, 10, 13]\n",
        "\n",
        "def load_trial_data(row, base_path):\n",
        "    # --- FIX for AttributeError ---\n",
        "    subject_folder = row['subject_id']\n",
        "    session_folder = str(row['trial_session'])\n",
        "    # --- END OF FIX ---\n",
        "\n",
        "    # The submission generator calls this for the test set\n",
        "    path = os.path.join(base_path, 'SSVEP', 'test', subject_folder, session_folder, 'EEGdata.csv')\n",
        "    if not os.path.exists(path):\n",
        "        raise FileNotFoundError(f\"Test data not found at: {path}\")\n",
        "\n",
        "    eeg_data = pd.read_csv(path).ffill().bfill()\n",
        "    samples_per_trial = int(TRIAL_DURATION * SAMPLING_RATE)\n",
        "    trim_samples = int(TRIM_START_S * SAMPLING_RATE)\n",
        "    start_idx = (int(row['trial']) - 1) * samples_per_trial\n",
        "    trimmed_start_idx = start_idx + trim_samples\n",
        "    end_idx = start_idx + samples_per_trial\n",
        "    return eeg_data.iloc[trimmed_start_idx:end_idx]\n",
        "\n",
        "def apply_filter(data):\n",
        "    low, high, order = 4.0, 42.0, 4\n",
        "    nyq = 0.5 * SAMPLING_RATE\n",
        "    b, a = butter(order, [low/nyq, high/nyq], btype='band')\n",
        "    return np.apply_along_axis(lambda x: filtfilt(b, a, x) if not np.all(x == x[0]) else x, 0, data)\n",
        "\n",
        "def get_psd_features(data):\n",
        "    all_features = []; nperseg = SAMPLING_RATE * 4\n",
        "    for i in range(data.shape[1]):\n",
        "        freqs, psd = welch(data[:, i], fs=SAMPLING_RATE, nperseg=nperseg, nfft=nperseg*2)\n",
        "        for f in TARGET_FREQS:\n",
        "            for h in range(1, 4):\n",
        "                harmonic_freq = h * f\n",
        "                target_idx = np.argmin(np.abs(freqs - harmonic_freq))\n",
        "                noise_indices = np.where((freqs >= harmonic_freq-3) & (freqs<=harmonic_freq+3) & (np.abs(freqs-harmonic_freq)>0.25))[0]\n",
        "                signal_power = psd[target_idx]\n",
        "                noise_power = np.mean(psd[noise_indices]) if len(noise_indices) > 0 else 1e-12\n",
        "                all_features.extend([signal_power, signal_power / noise_power])\n",
        "    return np.array(all_features)\n",
        "\n",
        "class Predictor:\n",
        "    def __init__(self, model_path):\n",
        "        self.model = joblib.load(os.path.join(model_path, 'ssvep_model.joblib'))\n",
        "        self.scaler = joblib.load(os.path.join(model_path, 'ssvep_scaler.joblib'))\n",
        "        self.selector = joblib.load(os.path.join(model_path, 'ssvep_selector.joblib'))\n",
        "        self.le = joblib.load(os.path.join(model_path, 'ssvep_label_encoder.joblib'))\n",
        "\n",
        "    def predict(self, trial_row, base_path):\n",
        "        trial_data = load_trial_data(trial_row, base_path)\n",
        "        eeg_signals = trial_data[EEG_CHANNELS].values\n",
        "        filtered = apply_filter(eeg_signals)\n",
        "        features = get_psd_features(filtered).reshape(1, -1)\n",
        "        scaled = self.scaler.transform(features)\n",
        "        selected = self.selector.transform(scaled)\n",
        "        prediction_encoded = self.model.predict(selected)\n",
        "        return self.le.inverse_transform(prediction_encoded)[0]\n",
        "\n",
        "def main():\n",
        "    parser = argparse.ArgumentParser(description=\"Inference for a single SSVEP trial.\")\n",
        "    parser.add_argument(\"--raw_data_path\", required=True)\n",
        "    parser.add_argument(\"--model_path\", required=True)\n",
        "    parser.add_argument(\"--subject\", required=True)\n",
        "    parser.add_argument(\"--session\", required=True)\n",
        "    parser.add_argument(\"--trial\", required=True)\n",
        "    args = parser.parse_args()\n",
        "\n",
        "    trial_info = pd.Series({\n",
        "        'subject_id': args.subject,\n",
        "        'trial_session': args.session,\n",
        "        'trial': args.trial\n",
        "    })\n",
        "\n",
        "    predictor = Predictor(args.model_path)\n",
        "    prediction = predictor.predict(trial_info, args.raw_data_path)\n",
        "    print(f\"PREDICTION:{prediction}\")\n",
        "\n",
        "if __name__ == '__main__':\n",
        "    main()"
      ],
      "metadata": {
        "colab": {
          "base_uri": "https://localhost:8080/"
        },
        "id": "EXuO8kCzsODw",
        "outputId": "8303766c-b747-4b5c-8d24-1e5cd5c9fa65"
      },
      "execution_count": null,
      "outputs": [
        {
          "output_type": "stream",
          "name": "stdout",
          "text": [
            "Overwriting predict.py\n"
          ]
        }
      ]
    },
    {
      "cell_type": "code",
      "source": [
        "%%writefile generate_submission.py\n",
        "\n",
        "import pandas as pd\n",
        "import os\n",
        "import subprocess\n",
        "from tqdm import tqdm\n",
        "\n",
        "# --- Configuration ---\n",
        "RAW_DATA_PATH = '/content/drive/MyDrive/aic3/unzipped'\n",
        "MODEL_CHECKPOINT_PATH = '/content/drive/MyDrive/aic3/ssvep_model_artifacts'\n",
        "SUBMISSION_FILE_PATH = '/content/drive/MyDrive/aic3/ssvep_submission.csv'\n",
        "\n",
        "TEST_CSV = os.path.join(RAW_DATA_PATH, 'test.csv')\n",
        "TASK = 'SSVEP'\n",
        "\n",
        "def main():\n",
        "    if not os.path.isdir(MODEL_CHECKPOINT_PATH):\n",
        "        print(f\"FATAL: Model checkpoint directory not found at '{MODEL_CHECKPOINT_PATH}'\")\n",
        "        print(\"Please run train.py first.\")\n",
        "        return\n",
        "\n",
        "    print(\"--- Starting Submission Generation ---\")\n",
        "    test_df = pd.read_csv(TEST_CSV)\n",
        "    ssvep_test_df = test_df[test_df['task'] == TASK].reset_index()\n",
        "\n",
        "    results = []\n",
        "    for _, row in tqdm(ssvep_test_df.iterrows(), total=len(ssvep_test_df), desc=\"Generating Predictions\"):\n",
        "        # --- FIX for TypeError ---\n",
        "        # Ensure all parts of the command are strings\n",
        "        cmd = [\n",
        "            'python', 'predict.py',\n",
        "            '--raw_data_path', str(RAW_DATA_PATH),\n",
        "            '--model_path', str(MODEL_CHECKPOINT_PATH),\n",
        "            '--subject', str(row['subject_id']),\n",
        "            '--session', str(row['trial_session']),\n",
        "            '--trial', str(row['trial'])\n",
        "        ]\n",
        "        # --- END OF FIX ---\n",
        "\n",
        "        try:\n",
        "            result = subprocess.run(cmd, capture_output=True, text=True, check=True)\n",
        "            prediction = result.stdout.strip().split(\"PREDICTION:\")[1]\n",
        "            results.append({'id': row['id'], 'label': prediction})\n",
        "        except subprocess.CalledProcessError as e:\n",
        "            print(f\"\\nERROR on trial id {row['id']}: {e.stderr}\")\n",
        "            results.append({'id': row['id'], 'label': 'Error'})\n",
        "\n",
        "    submission_df = pd.DataFrame(results)\n",
        "    submission_df.to_csv(SUBMISSION_FILE_PATH, index=False)\n",
        "\n",
        "    print(f\"\\nSubmission generation complete.\")\n",
        "    print(f\"File saved to: {SUBMISSION_FILE_PATH}\")\n",
        "    print(\"\\nSubmission Head:\")\n",
        "    print(submission_df.head())\n",
        "\n",
        "if __name__ == '__main__':\n",
        "    main()"
      ],
      "metadata": {
        "colab": {
          "base_uri": "https://localhost:8080/"
        },
        "id": "TO8z6f0dsRXz",
        "outputId": "e1021c00-11aa-4304-e124-5640a53bf488"
      },
      "execution_count": null,
      "outputs": [
        {
          "output_type": "stream",
          "name": "stdout",
          "text": [
            "Overwriting generate_submission.py\n"
          ]
        }
      ]
    },
    {
      "cell_type": "code",
      "source": [
        "# Run the Training and Inference Pipelines\n",
        "\n",
        "print(\"--- STEP 1: EXECUTING TRAINING SCRIPT ---\")\n",
        "!python train.py\n",
        "print(\"\\n--- TRAINING SCRIPT FINISHED ---\\n\")\n",
        "\n",
        "print(\"--- STEP 2: EXECUTING SUBMISSION GENERATION SCRIPT ---\")\n",
        "!python generate_submission.py\n",
        "print(\"\\n--- SUBMISSION SCRIPT FINISHED ---\")"
      ],
      "metadata": {
        "colab": {
          "base_uri": "https://localhost:8080/"
        },
        "id": "Nf5FXyzksUtE",
        "outputId": "1c2037e8-4a28-44d4-9ca7-07e3bc85484d"
      },
      "execution_count": null,
      "outputs": [
        {
          "output_type": "stream",
          "name": "stdout",
          "text": [
            "--- STEP 1: EXECUTING TRAINING SCRIPT ---\n",
            "--- [1/5] Starting Full Training Pipeline ---\n",
            "--- [2/5] Loading and Processing Data ---\n",
            "Processing Train set: 100% 2400/2400 [03:57<00:00, 10.09it/s]\n",
            "Processing Validation set: 100% 50/50 [00:04<00:00, 11.35it/s]\n",
            "--- [3/5] Preprocessing: Scaling, Encoding, and Feature Selection ---\n",
            "--- [4/5] Training Model with Hyperparameter Tuning ---\n",
            "--- [5/5] Saving Model Checkpoints to Google Drive ---\n",
            "\n",
            "Training complete. Validation Accuracy: 68.00%\n",
            "Model checkpoints saved to: /content/drive/MyDrive/aic3/ssvep_model_artifacts\n",
            "\n",
            "--- TRAINING SCRIPT FINISHED ---\n",
            "\n",
            "--- STEP 2: EXECUTING SUBMISSION GENERATION SCRIPT ---\n",
            "--- Starting Submission Generation ---\n",
            "Generating Predictions: 100% 50/50 [01:36<00:00,  1.93s/it]\n",
            "\n",
            "Submission generation complete.\n",
            "File saved to: /content/drive/MyDrive/aic3/ssvep_submission.csv\n",
            "\n",
            "Submission Head:\n",
            "     id     label\n",
            "0  4951  Backward\n",
            "1  4952  Backward\n",
            "2  4953   Forward\n",
            "3  4954  Backward\n",
            "4  4955  Backward\n",
            "\n",
            "--- SUBMISSION SCRIPT FINISHED ---\n"
          ]
        }
      ]
    },
    {
      "cell_type": "code",
      "source": [],
      "metadata": {
        "id": "7JiQim0tsYy1"
      },
      "execution_count": null,
      "outputs": []
    }
  ],
  "metadata": {
    "colab": {
      "provenance": []
    },
    "kernelspec": {
      "display_name": "Python 3",
      "name": "python3"
    },
    "language_info": {
      "name": "python"
    },
    "widgets": {
      "application/vnd.jupyter.widget-state+json": {
        "509c2a3c08bd4c82bc6606fb569558fc": {
          "model_module": "@jupyter-widgets/controls",
          "model_name": "HBoxModel",
          "model_module_version": "1.5.0",
          "state": {
            "_dom_classes": [],
            "_model_module": "@jupyter-widgets/controls",
            "_model_module_version": "1.5.0",
            "_model_name": "HBoxModel",
            "_view_count": null,
            "_view_module": "@jupyter-widgets/controls",
            "_view_module_version": "1.5.0",
            "_view_name": "HBoxView",
            "box_style": "",
            "children": [
              "IPY_MODEL_c259590b8e1c44278d312a7f13a76bf1",
              "IPY_MODEL_58a4fc9d03d94535bc33db88b5bea89c",
              "IPY_MODEL_90afe2c2efb94e72be771e848fc05073"
            ],
            "layout": "IPY_MODEL_c7268c81087148dcacbf8e07c3db92eb"
          }
        },
        "c259590b8e1c44278d312a7f13a76bf1": {
          "model_module": "@jupyter-widgets/controls",
          "model_name": "HTMLModel",
          "model_module_version": "1.5.0",
          "state": {
            "_dom_classes": [],
            "_model_module": "@jupyter-widgets/controls",
            "_model_module_version": "1.5.0",
            "_model_name": "HTMLModel",
            "_view_count": null,
            "_view_module": "@jupyter-widgets/controls",
            "_view_module_version": "1.5.0",
            "_view_name": "HTMLView",
            "description": "",
            "description_tooltip": null,
            "layout": "IPY_MODEL_0b40d5fb1e724d188fc1e745de273668",
            "placeholder": "​",
            "style": "IPY_MODEL_c7a9d4c92f2a4be2ae7765936bc0c35a",
            "value": "Processing Train: 100%"
          }
        },
        "58a4fc9d03d94535bc33db88b5bea89c": {
          "model_module": "@jupyter-widgets/controls",
          "model_name": "FloatProgressModel",
          "model_module_version": "1.5.0",
          "state": {
            "_dom_classes": [],
            "_model_module": "@jupyter-widgets/controls",
            "_model_module_version": "1.5.0",
            "_model_name": "FloatProgressModel",
            "_view_count": null,
            "_view_module": "@jupyter-widgets/controls",
            "_view_module_version": "1.5.0",
            "_view_name": "ProgressView",
            "bar_style": "success",
            "description": "",
            "description_tooltip": null,
            "layout": "IPY_MODEL_350f85a37e5c4efc9a910e5da0bd7054",
            "max": 2400,
            "min": 0,
            "orientation": "horizontal",
            "style": "IPY_MODEL_1a1f4ead3acb42108b364ee6aed94ae8",
            "value": 2400
          }
        },
        "90afe2c2efb94e72be771e848fc05073": {
          "model_module": "@jupyter-widgets/controls",
          "model_name": "HTMLModel",
          "model_module_version": "1.5.0",
          "state": {
            "_dom_classes": [],
            "_model_module": "@jupyter-widgets/controls",
            "_model_module_version": "1.5.0",
            "_model_name": "HTMLModel",
            "_view_count": null,
            "_view_module": "@jupyter-widgets/controls",
            "_view_module_version": "1.5.0",
            "_view_name": "HTMLView",
            "description": "",
            "description_tooltip": null,
            "layout": "IPY_MODEL_4d3bf61476c04a71a4a915561f7c16ad",
            "placeholder": "​",
            "style": "IPY_MODEL_b2929065c68246df88e5039f5e13a624",
            "value": " 2400/2400 [03:51&lt;00:00, 11.88it/s]"
          }
        },
        "c7268c81087148dcacbf8e07c3db92eb": {
          "model_module": "@jupyter-widgets/base",
          "model_name": "LayoutModel",
          "model_module_version": "1.2.0",
          "state": {
            "_model_module": "@jupyter-widgets/base",
            "_model_module_version": "1.2.0",
            "_model_name": "LayoutModel",
            "_view_count": null,
            "_view_module": "@jupyter-widgets/base",
            "_view_module_version": "1.2.0",
            "_view_name": "LayoutView",
            "align_content": null,
            "align_items": null,
            "align_self": null,
            "border": null,
            "bottom": null,
            "display": null,
            "flex": null,
            "flex_flow": null,
            "grid_area": null,
            "grid_auto_columns": null,
            "grid_auto_flow": null,
            "grid_auto_rows": null,
            "grid_column": null,
            "grid_gap": null,
            "grid_row": null,
            "grid_template_areas": null,
            "grid_template_columns": null,
            "grid_template_rows": null,
            "height": null,
            "justify_content": null,
            "justify_items": null,
            "left": null,
            "margin": null,
            "max_height": null,
            "max_width": null,
            "min_height": null,
            "min_width": null,
            "object_fit": null,
            "object_position": null,
            "order": null,
            "overflow": null,
            "overflow_x": null,
            "overflow_y": null,
            "padding": null,
            "right": null,
            "top": null,
            "visibility": null,
            "width": null
          }
        },
        "0b40d5fb1e724d188fc1e745de273668": {
          "model_module": "@jupyter-widgets/base",
          "model_name": "LayoutModel",
          "model_module_version": "1.2.0",
          "state": {
            "_model_module": "@jupyter-widgets/base",
            "_model_module_version": "1.2.0",
            "_model_name": "LayoutModel",
            "_view_count": null,
            "_view_module": "@jupyter-widgets/base",
            "_view_module_version": "1.2.0",
            "_view_name": "LayoutView",
            "align_content": null,
            "align_items": null,
            "align_self": null,
            "border": null,
            "bottom": null,
            "display": null,
            "flex": null,
            "flex_flow": null,
            "grid_area": null,
            "grid_auto_columns": null,
            "grid_auto_flow": null,
            "grid_auto_rows": null,
            "grid_column": null,
            "grid_gap": null,
            "grid_row": null,
            "grid_template_areas": null,
            "grid_template_columns": null,
            "grid_template_rows": null,
            "height": null,
            "justify_content": null,
            "justify_items": null,
            "left": null,
            "margin": null,
            "max_height": null,
            "max_width": null,
            "min_height": null,
            "min_width": null,
            "object_fit": null,
            "object_position": null,
            "order": null,
            "overflow": null,
            "overflow_x": null,
            "overflow_y": null,
            "padding": null,
            "right": null,
            "top": null,
            "visibility": null,
            "width": null
          }
        },
        "c7a9d4c92f2a4be2ae7765936bc0c35a": {
          "model_module": "@jupyter-widgets/controls",
          "model_name": "DescriptionStyleModel",
          "model_module_version": "1.5.0",
          "state": {
            "_model_module": "@jupyter-widgets/controls",
            "_model_module_version": "1.5.0",
            "_model_name": "DescriptionStyleModel",
            "_view_count": null,
            "_view_module": "@jupyter-widgets/base",
            "_view_module_version": "1.2.0",
            "_view_name": "StyleView",
            "description_width": ""
          }
        },
        "350f85a37e5c4efc9a910e5da0bd7054": {
          "model_module": "@jupyter-widgets/base",
          "model_name": "LayoutModel",
          "model_module_version": "1.2.0",
          "state": {
            "_model_module": "@jupyter-widgets/base",
            "_model_module_version": "1.2.0",
            "_model_name": "LayoutModel",
            "_view_count": null,
            "_view_module": "@jupyter-widgets/base",
            "_view_module_version": "1.2.0",
            "_view_name": "LayoutView",
            "align_content": null,
            "align_items": null,
            "align_self": null,
            "border": null,
            "bottom": null,
            "display": null,
            "flex": null,
            "flex_flow": null,
            "grid_area": null,
            "grid_auto_columns": null,
            "grid_auto_flow": null,
            "grid_auto_rows": null,
            "grid_column": null,
            "grid_gap": null,
            "grid_row": null,
            "grid_template_areas": null,
            "grid_template_columns": null,
            "grid_template_rows": null,
            "height": null,
            "justify_content": null,
            "justify_items": null,
            "left": null,
            "margin": null,
            "max_height": null,
            "max_width": null,
            "min_height": null,
            "min_width": null,
            "object_fit": null,
            "object_position": null,
            "order": null,
            "overflow": null,
            "overflow_x": null,
            "overflow_y": null,
            "padding": null,
            "right": null,
            "top": null,
            "visibility": null,
            "width": null
          }
        },
        "1a1f4ead3acb42108b364ee6aed94ae8": {
          "model_module": "@jupyter-widgets/controls",
          "model_name": "ProgressStyleModel",
          "model_module_version": "1.5.0",
          "state": {
            "_model_module": "@jupyter-widgets/controls",
            "_model_module_version": "1.5.0",
            "_model_name": "ProgressStyleModel",
            "_view_count": null,
            "_view_module": "@jupyter-widgets/base",
            "_view_module_version": "1.2.0",
            "_view_name": "StyleView",
            "bar_color": null,
            "description_width": ""
          }
        },
        "4d3bf61476c04a71a4a915561f7c16ad": {
          "model_module": "@jupyter-widgets/base",
          "model_name": "LayoutModel",
          "model_module_version": "1.2.0",
          "state": {
            "_model_module": "@jupyter-widgets/base",
            "_model_module_version": "1.2.0",
            "_model_name": "LayoutModel",
            "_view_count": null,
            "_view_module": "@jupyter-widgets/base",
            "_view_module_version": "1.2.0",
            "_view_name": "LayoutView",
            "align_content": null,
            "align_items": null,
            "align_self": null,
            "border": null,
            "bottom": null,
            "display": null,
            "flex": null,
            "flex_flow": null,
            "grid_area": null,
            "grid_auto_columns": null,
            "grid_auto_flow": null,
            "grid_auto_rows": null,
            "grid_column": null,
            "grid_gap": null,
            "grid_row": null,
            "grid_template_areas": null,
            "grid_template_columns": null,
            "grid_template_rows": null,
            "height": null,
            "justify_content": null,
            "justify_items": null,
            "left": null,
            "margin": null,
            "max_height": null,
            "max_width": null,
            "min_height": null,
            "min_width": null,
            "object_fit": null,
            "object_position": null,
            "order": null,
            "overflow": null,
            "overflow_x": null,
            "overflow_y": null,
            "padding": null,
            "right": null,
            "top": null,
            "visibility": null,
            "width": null
          }
        },
        "b2929065c68246df88e5039f5e13a624": {
          "model_module": "@jupyter-widgets/controls",
          "model_name": "DescriptionStyleModel",
          "model_module_version": "1.5.0",
          "state": {
            "_model_module": "@jupyter-widgets/controls",
            "_model_module_version": "1.5.0",
            "_model_name": "DescriptionStyleModel",
            "_view_count": null,
            "_view_module": "@jupyter-widgets/base",
            "_view_module_version": "1.2.0",
            "_view_name": "StyleView",
            "description_width": ""
          }
        },
        "a4c50d85d3ab46eaac4b0dc16abc7bf4": {
          "model_module": "@jupyter-widgets/controls",
          "model_name": "HBoxModel",
          "model_module_version": "1.5.0",
          "state": {
            "_dom_classes": [],
            "_model_module": "@jupyter-widgets/controls",
            "_model_module_version": "1.5.0",
            "_model_name": "HBoxModel",
            "_view_count": null,
            "_view_module": "@jupyter-widgets/controls",
            "_view_module_version": "1.5.0",
            "_view_name": "HBoxView",
            "box_style": "",
            "children": [
              "IPY_MODEL_20d08586df1946128cc9b2460050db54",
              "IPY_MODEL_ca490bf6b0c747b1a34165ca9acff6c3",
              "IPY_MODEL_68e4b74b0544450e825d3c7092bac691"
            ],
            "layout": "IPY_MODEL_1ef39cbd778446fcb79d04694ce34a78"
          }
        },
        "20d08586df1946128cc9b2460050db54": {
          "model_module": "@jupyter-widgets/controls",
          "model_name": "HTMLModel",
          "model_module_version": "1.5.0",
          "state": {
            "_dom_classes": [],
            "_model_module": "@jupyter-widgets/controls",
            "_model_module_version": "1.5.0",
            "_model_name": "HTMLModel",
            "_view_count": null,
            "_view_module": "@jupyter-widgets/controls",
            "_view_module_version": "1.5.0",
            "_view_name": "HTMLView",
            "description": "",
            "description_tooltip": null,
            "layout": "IPY_MODEL_f234157899d34412abcf68646dc80618",
            "placeholder": "​",
            "style": "IPY_MODEL_83459547d0d843d1ac664b704e38790f",
            "value": "Processing Validation: 100%"
          }
        },
        "ca490bf6b0c747b1a34165ca9acff6c3": {
          "model_module": "@jupyter-widgets/controls",
          "model_name": "FloatProgressModel",
          "model_module_version": "1.5.0",
          "state": {
            "_dom_classes": [],
            "_model_module": "@jupyter-widgets/controls",
            "_model_module_version": "1.5.0",
            "_model_name": "FloatProgressModel",
            "_view_count": null,
            "_view_module": "@jupyter-widgets/controls",
            "_view_module_version": "1.5.0",
            "_view_name": "ProgressView",
            "bar_style": "success",
            "description": "",
            "description_tooltip": null,
            "layout": "IPY_MODEL_124621faf441428983fda9bb52641fa5",
            "max": 50,
            "min": 0,
            "orientation": "horizontal",
            "style": "IPY_MODEL_47f019257fa64ac695d368044c920c79",
            "value": 50
          }
        },
        "68e4b74b0544450e825d3c7092bac691": {
          "model_module": "@jupyter-widgets/controls",
          "model_name": "HTMLModel",
          "model_module_version": "1.5.0",
          "state": {
            "_dom_classes": [],
            "_model_module": "@jupyter-widgets/controls",
            "_model_module_version": "1.5.0",
            "_model_name": "HTMLModel",
            "_view_count": null,
            "_view_module": "@jupyter-widgets/controls",
            "_view_module_version": "1.5.0",
            "_view_name": "HTMLView",
            "description": "",
            "description_tooltip": null,
            "layout": "IPY_MODEL_1f0d3b4dd1064addb5d8aa01ab490ef5",
            "placeholder": "​",
            "style": "IPY_MODEL_a35e39cf17fb4ee395152e88e4960b10",
            "value": " 50/50 [00:05&lt;00:00,  9.10it/s]"
          }
        },
        "1ef39cbd778446fcb79d04694ce34a78": {
          "model_module": "@jupyter-widgets/base",
          "model_name": "LayoutModel",
          "model_module_version": "1.2.0",
          "state": {
            "_model_module": "@jupyter-widgets/base",
            "_model_module_version": "1.2.0",
            "_model_name": "LayoutModel",
            "_view_count": null,
            "_view_module": "@jupyter-widgets/base",
            "_view_module_version": "1.2.0",
            "_view_name": "LayoutView",
            "align_content": null,
            "align_items": null,
            "align_self": null,
            "border": null,
            "bottom": null,
            "display": null,
            "flex": null,
            "flex_flow": null,
            "grid_area": null,
            "grid_auto_columns": null,
            "grid_auto_flow": null,
            "grid_auto_rows": null,
            "grid_column": null,
            "grid_gap": null,
            "grid_row": null,
            "grid_template_areas": null,
            "grid_template_columns": null,
            "grid_template_rows": null,
            "height": null,
            "justify_content": null,
            "justify_items": null,
            "left": null,
            "margin": null,
            "max_height": null,
            "max_width": null,
            "min_height": null,
            "min_width": null,
            "object_fit": null,
            "object_position": null,
            "order": null,
            "overflow": null,
            "overflow_x": null,
            "overflow_y": null,
            "padding": null,
            "right": null,
            "top": null,
            "visibility": null,
            "width": null
          }
        },
        "f234157899d34412abcf68646dc80618": {
          "model_module": "@jupyter-widgets/base",
          "model_name": "LayoutModel",
          "model_module_version": "1.2.0",
          "state": {
            "_model_module": "@jupyter-widgets/base",
            "_model_module_version": "1.2.0",
            "_model_name": "LayoutModel",
            "_view_count": null,
            "_view_module": "@jupyter-widgets/base",
            "_view_module_version": "1.2.0",
            "_view_name": "LayoutView",
            "align_content": null,
            "align_items": null,
            "align_self": null,
            "border": null,
            "bottom": null,
            "display": null,
            "flex": null,
            "flex_flow": null,
            "grid_area": null,
            "grid_auto_columns": null,
            "grid_auto_flow": null,
            "grid_auto_rows": null,
            "grid_column": null,
            "grid_gap": null,
            "grid_row": null,
            "grid_template_areas": null,
            "grid_template_columns": null,
            "grid_template_rows": null,
            "height": null,
            "justify_content": null,
            "justify_items": null,
            "left": null,
            "margin": null,
            "max_height": null,
            "max_width": null,
            "min_height": null,
            "min_width": null,
            "object_fit": null,
            "object_position": null,
            "order": null,
            "overflow": null,
            "overflow_x": null,
            "overflow_y": null,
            "padding": null,
            "right": null,
            "top": null,
            "visibility": null,
            "width": null
          }
        },
        "83459547d0d843d1ac664b704e38790f": {
          "model_module": "@jupyter-widgets/controls",
          "model_name": "DescriptionStyleModel",
          "model_module_version": "1.5.0",
          "state": {
            "_model_module": "@jupyter-widgets/controls",
            "_model_module_version": "1.5.0",
            "_model_name": "DescriptionStyleModel",
            "_view_count": null,
            "_view_module": "@jupyter-widgets/base",
            "_view_module_version": "1.2.0",
            "_view_name": "StyleView",
            "description_width": ""
          }
        },
        "124621faf441428983fda9bb52641fa5": {
          "model_module": "@jupyter-widgets/base",
          "model_name": "LayoutModel",
          "model_module_version": "1.2.0",
          "state": {
            "_model_module": "@jupyter-widgets/base",
            "_model_module_version": "1.2.0",
            "_model_name": "LayoutModel",
            "_view_count": null,
            "_view_module": "@jupyter-widgets/base",
            "_view_module_version": "1.2.0",
            "_view_name": "LayoutView",
            "align_content": null,
            "align_items": null,
            "align_self": null,
            "border": null,
            "bottom": null,
            "display": null,
            "flex": null,
            "flex_flow": null,
            "grid_area": null,
            "grid_auto_columns": null,
            "grid_auto_flow": null,
            "grid_auto_rows": null,
            "grid_column": null,
            "grid_gap": null,
            "grid_row": null,
            "grid_template_areas": null,
            "grid_template_columns": null,
            "grid_template_rows": null,
            "height": null,
            "justify_content": null,
            "justify_items": null,
            "left": null,
            "margin": null,
            "max_height": null,
            "max_width": null,
            "min_height": null,
            "min_width": null,
            "object_fit": null,
            "object_position": null,
            "order": null,
            "overflow": null,
            "overflow_x": null,
            "overflow_y": null,
            "padding": null,
            "right": null,
            "top": null,
            "visibility": null,
            "width": null
          }
        },
        "47f019257fa64ac695d368044c920c79": {
          "model_module": "@jupyter-widgets/controls",
          "model_name": "ProgressStyleModel",
          "model_module_version": "1.5.0",
          "state": {
            "_model_module": "@jupyter-widgets/controls",
            "_model_module_version": "1.5.0",
            "_model_name": "ProgressStyleModel",
            "_view_count": null,
            "_view_module": "@jupyter-widgets/base",
            "_view_module_version": "1.2.0",
            "_view_name": "StyleView",
            "bar_color": null,
            "description_width": ""
          }
        },
        "1f0d3b4dd1064addb5d8aa01ab490ef5": {
          "model_module": "@jupyter-widgets/base",
          "model_name": "LayoutModel",
          "model_module_version": "1.2.0",
          "state": {
            "_model_module": "@jupyter-widgets/base",
            "_model_module_version": "1.2.0",
            "_model_name": "LayoutModel",
            "_view_count": null,
            "_view_module": "@jupyter-widgets/base",
            "_view_module_version": "1.2.0",
            "_view_name": "LayoutView",
            "align_content": null,
            "align_items": null,
            "align_self": null,
            "border": null,
            "bottom": null,
            "display": null,
            "flex": null,
            "flex_flow": null,
            "grid_area": null,
            "grid_auto_columns": null,
            "grid_auto_flow": null,
            "grid_auto_rows": null,
            "grid_column": null,
            "grid_gap": null,
            "grid_row": null,
            "grid_template_areas": null,
            "grid_template_columns": null,
            "grid_template_rows": null,
            "height": null,
            "justify_content": null,
            "justify_items": null,
            "left": null,
            "margin": null,
            "max_height": null,
            "max_width": null,
            "min_height": null,
            "min_width": null,
            "object_fit": null,
            "object_position": null,
            "order": null,
            "overflow": null,
            "overflow_x": null,
            "overflow_y": null,
            "padding": null,
            "right": null,
            "top": null,
            "visibility": null,
            "width": null
          }
        },
        "a35e39cf17fb4ee395152e88e4960b10": {
          "model_module": "@jupyter-widgets/controls",
          "model_name": "DescriptionStyleModel",
          "model_module_version": "1.5.0",
          "state": {
            "_model_module": "@jupyter-widgets/controls",
            "_model_module_version": "1.5.0",
            "_model_name": "DescriptionStyleModel",
            "_view_count": null,
            "_view_module": "@jupyter-widgets/base",
            "_view_module_version": "1.2.0",
            "_view_name": "StyleView",
            "description_width": ""
          }
        },
        "a6dad5c521c142f0a0ee95b5ea8e4b66": {
          "model_module": "@jupyter-widgets/controls",
          "model_name": "HBoxModel",
          "model_module_version": "1.5.0",
          "state": {
            "_dom_classes": [],
            "_model_module": "@jupyter-widgets/controls",
            "_model_module_version": "1.5.0",
            "_model_name": "HBoxModel",
            "_view_count": null,
            "_view_module": "@jupyter-widgets/controls",
            "_view_module_version": "1.5.0",
            "_view_name": "HBoxView",
            "box_style": "",
            "children": [
              "IPY_MODEL_9c98d575ceab45ab8c01dc594b576bdb",
              "IPY_MODEL_d7148a48723446d0aaa7ef987b2fc085",
              "IPY_MODEL_2711b29ed0254ecd81c9167dc7ff5730"
            ],
            "layout": "IPY_MODEL_42a813b77de4449c950dead826756606"
          }
        },
        "9c98d575ceab45ab8c01dc594b576bdb": {
          "model_module": "@jupyter-widgets/controls",
          "model_name": "HTMLModel",
          "model_module_version": "1.5.0",
          "state": {
            "_dom_classes": [],
            "_model_module": "@jupyter-widgets/controls",
            "_model_module_version": "1.5.0",
            "_model_name": "HTMLModel",
            "_view_count": null,
            "_view_module": "@jupyter-widgets/controls",
            "_view_module_version": "1.5.0",
            "_view_name": "HTMLView",
            "description": "",
            "description_tooltip": null,
            "layout": "IPY_MODEL_6358d98086e0491189529fd430e8fc4a",
            "placeholder": "​",
            "style": "IPY_MODEL_6b53b259b086410fb8d0f2e1ce9cc246",
            "value": "Processing Test: 100%"
          }
        },
        "d7148a48723446d0aaa7ef987b2fc085": {
          "model_module": "@jupyter-widgets/controls",
          "model_name": "FloatProgressModel",
          "model_module_version": "1.5.0",
          "state": {
            "_dom_classes": [],
            "_model_module": "@jupyter-widgets/controls",
            "_model_module_version": "1.5.0",
            "_model_name": "FloatProgressModel",
            "_view_count": null,
            "_view_module": "@jupyter-widgets/controls",
            "_view_module_version": "1.5.0",
            "_view_name": "ProgressView",
            "bar_style": "success",
            "description": "",
            "description_tooltip": null,
            "layout": "IPY_MODEL_cb1eac80039c4d748c65ed4a958ab895",
            "max": 50,
            "min": 0,
            "orientation": "horizontal",
            "style": "IPY_MODEL_c7df76646ae647fc82a1adc6456867a6",
            "value": 50
          }
        },
        "2711b29ed0254ecd81c9167dc7ff5730": {
          "model_module": "@jupyter-widgets/controls",
          "model_name": "HTMLModel",
          "model_module_version": "1.5.0",
          "state": {
            "_dom_classes": [],
            "_model_module": "@jupyter-widgets/controls",
            "_model_module_version": "1.5.0",
            "_model_name": "HTMLModel",
            "_view_count": null,
            "_view_module": "@jupyter-widgets/controls",
            "_view_module_version": "1.5.0",
            "_view_name": "HTMLView",
            "description": "",
            "description_tooltip": null,
            "layout": "IPY_MODEL_9a2d89bdc0894a9e9962466e4cf3ec39",
            "placeholder": "​",
            "style": "IPY_MODEL_fb6a495b058e4c6aab51baa30bb8e75a",
            "value": " 50/50 [00:04&lt;00:00, 12.71it/s]"
          }
        },
        "42a813b77de4449c950dead826756606": {
          "model_module": "@jupyter-widgets/base",
          "model_name": "LayoutModel",
          "model_module_version": "1.2.0",
          "state": {
            "_model_module": "@jupyter-widgets/base",
            "_model_module_version": "1.2.0",
            "_model_name": "LayoutModel",
            "_view_count": null,
            "_view_module": "@jupyter-widgets/base",
            "_view_module_version": "1.2.0",
            "_view_name": "LayoutView",
            "align_content": null,
            "align_items": null,
            "align_self": null,
            "border": null,
            "bottom": null,
            "display": null,
            "flex": null,
            "flex_flow": null,
            "grid_area": null,
            "grid_auto_columns": null,
            "grid_auto_flow": null,
            "grid_auto_rows": null,
            "grid_column": null,
            "grid_gap": null,
            "grid_row": null,
            "grid_template_areas": null,
            "grid_template_columns": null,
            "grid_template_rows": null,
            "height": null,
            "justify_content": null,
            "justify_items": null,
            "left": null,
            "margin": null,
            "max_height": null,
            "max_width": null,
            "min_height": null,
            "min_width": null,
            "object_fit": null,
            "object_position": null,
            "order": null,
            "overflow": null,
            "overflow_x": null,
            "overflow_y": null,
            "padding": null,
            "right": null,
            "top": null,
            "visibility": null,
            "width": null
          }
        },
        "6358d98086e0491189529fd430e8fc4a": {
          "model_module": "@jupyter-widgets/base",
          "model_name": "LayoutModel",
          "model_module_version": "1.2.0",
          "state": {
            "_model_module": "@jupyter-widgets/base",
            "_model_module_version": "1.2.0",
            "_model_name": "LayoutModel",
            "_view_count": null,
            "_view_module": "@jupyter-widgets/base",
            "_view_module_version": "1.2.0",
            "_view_name": "LayoutView",
            "align_content": null,
            "align_items": null,
            "align_self": null,
            "border": null,
            "bottom": null,
            "display": null,
            "flex": null,
            "flex_flow": null,
            "grid_area": null,
            "grid_auto_columns": null,
            "grid_auto_flow": null,
            "grid_auto_rows": null,
            "grid_column": null,
            "grid_gap": null,
            "grid_row": null,
            "grid_template_areas": null,
            "grid_template_columns": null,
            "grid_template_rows": null,
            "height": null,
            "justify_content": null,
            "justify_items": null,
            "left": null,
            "margin": null,
            "max_height": null,
            "max_width": null,
            "min_height": null,
            "min_width": null,
            "object_fit": null,
            "object_position": null,
            "order": null,
            "overflow": null,
            "overflow_x": null,
            "overflow_y": null,
            "padding": null,
            "right": null,
            "top": null,
            "visibility": null,
            "width": null
          }
        },
        "6b53b259b086410fb8d0f2e1ce9cc246": {
          "model_module": "@jupyter-widgets/controls",
          "model_name": "DescriptionStyleModel",
          "model_module_version": "1.5.0",
          "state": {
            "_model_module": "@jupyter-widgets/controls",
            "_model_module_version": "1.5.0",
            "_model_name": "DescriptionStyleModel",
            "_view_count": null,
            "_view_module": "@jupyter-widgets/base",
            "_view_module_version": "1.2.0",
            "_view_name": "StyleView",
            "description_width": ""
          }
        },
        "cb1eac80039c4d748c65ed4a958ab895": {
          "model_module": "@jupyter-widgets/base",
          "model_name": "LayoutModel",
          "model_module_version": "1.2.0",
          "state": {
            "_model_module": "@jupyter-widgets/base",
            "_model_module_version": "1.2.0",
            "_model_name": "LayoutModel",
            "_view_count": null,
            "_view_module": "@jupyter-widgets/base",
            "_view_module_version": "1.2.0",
            "_view_name": "LayoutView",
            "align_content": null,
            "align_items": null,
            "align_self": null,
            "border": null,
            "bottom": null,
            "display": null,
            "flex": null,
            "flex_flow": null,
            "grid_area": null,
            "grid_auto_columns": null,
            "grid_auto_flow": null,
            "grid_auto_rows": null,
            "grid_column": null,
            "grid_gap": null,
            "grid_row": null,
            "grid_template_areas": null,
            "grid_template_columns": null,
            "grid_template_rows": null,
            "height": null,
            "justify_content": null,
            "justify_items": null,
            "left": null,
            "margin": null,
            "max_height": null,
            "max_width": null,
            "min_height": null,
            "min_width": null,
            "object_fit": null,
            "object_position": null,
            "order": null,
            "overflow": null,
            "overflow_x": null,
            "overflow_y": null,
            "padding": null,
            "right": null,
            "top": null,
            "visibility": null,
            "width": null
          }
        },
        "c7df76646ae647fc82a1adc6456867a6": {
          "model_module": "@jupyter-widgets/controls",
          "model_name": "ProgressStyleModel",
          "model_module_version": "1.5.0",
          "state": {
            "_model_module": "@jupyter-widgets/controls",
            "_model_module_version": "1.5.0",
            "_model_name": "ProgressStyleModel",
            "_view_count": null,
            "_view_module": "@jupyter-widgets/base",
            "_view_module_version": "1.2.0",
            "_view_name": "StyleView",
            "bar_color": null,
            "description_width": ""
          }
        },
        "9a2d89bdc0894a9e9962466e4cf3ec39": {
          "model_module": "@jupyter-widgets/base",
          "model_name": "LayoutModel",
          "model_module_version": "1.2.0",
          "state": {
            "_model_module": "@jupyter-widgets/base",
            "_model_module_version": "1.2.0",
            "_model_name": "LayoutModel",
            "_view_count": null,
            "_view_module": "@jupyter-widgets/base",
            "_view_module_version": "1.2.0",
            "_view_name": "LayoutView",
            "align_content": null,
            "align_items": null,
            "align_self": null,
            "border": null,
            "bottom": null,
            "display": null,
            "flex": null,
            "flex_flow": null,
            "grid_area": null,
            "grid_auto_columns": null,
            "grid_auto_flow": null,
            "grid_auto_rows": null,
            "grid_column": null,
            "grid_gap": null,
            "grid_row": null,
            "grid_template_areas": null,
            "grid_template_columns": null,
            "grid_template_rows": null,
            "height": null,
            "justify_content": null,
            "justify_items": null,
            "left": null,
            "margin": null,
            "max_height": null,
            "max_width": null,
            "min_height": null,
            "min_width": null,
            "object_fit": null,
            "object_position": null,
            "order": null,
            "overflow": null,
            "overflow_x": null,
            "overflow_y": null,
            "padding": null,
            "right": null,
            "top": null,
            "visibility": null,
            "width": null
          }
        },
        "fb6a495b058e4c6aab51baa30bb8e75a": {
          "model_module": "@jupyter-widgets/controls",
          "model_name": "DescriptionStyleModel",
          "model_module_version": "1.5.0",
          "state": {
            "_model_module": "@jupyter-widgets/controls",
            "_model_module_version": "1.5.0",
            "_model_name": "DescriptionStyleModel",
            "_view_count": null,
            "_view_module": "@jupyter-widgets/base",
            "_view_module_version": "1.2.0",
            "_view_name": "StyleView",
            "description_width": ""
          }
        }
      }
    }
  },
  "nbformat": 4,
  "nbformat_minor": 0
}