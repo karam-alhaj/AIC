{
  "nbformat": 4,
  "nbformat_minor": 0,
  "metadata": {
    "colab": {
      "provenance": []
    },
    "kernelspec": {
      "name": "python3",
      "display_name": "Python 3"
    },
    "language_info": {
      "name": "python"
    }
  },
  "cells": [
    {
      "cell_type": "code",
      "execution_count": 1,
      "metadata": {
        "colab": {
          "base_uri": "https://localhost:8080/"
        },
        "id": "DNpo4Hn3HvqL",
        "outputId": "0e342d5f-e030-41a1-8e92-16d18fc41d98"
      },
      "outputs": [
        {
          "output_type": "stream",
          "name": "stdout",
          "text": [
            "Mounted at /content/drive\n"
          ]
        }
      ],
      "source": [
        "from google.colab import drive\n",
        "drive.mount('/content/drive')"
      ]
    },
    {
      "cell_type": "code",
      "source": [
        "%%writefile run_inference_timed.py\n",
        "\n",
        "import pandas as pd\n",
        "import numpy as np\n",
        "import os\n",
        "import joblib\n",
        "import time\n",
        "import warnings\n",
        "from scipy.signal import butter, filtfilt, welch\n",
        "from tqdm import tqdm\n",
        "\n",
        "# --- Configuration ---\n",
        "RAW_DATA_PATH = '/content/drive/MyDrive/aic3/unzipped'\n",
        "MODEL_CHECKPOINT_PATH = '/content/drive/MyDrive/aic3/ssvep_model_artifacts'\n",
        "SUBMISSION_FILE_PATH = '/content/drive/MyDrive/aic3/ssvep_submission.csv'\n",
        "TEST_CSV_PATH = os.path.join(RAW_DATA_PATH, 'test.csv')\n",
        "TASK = 'SSVEP'\n",
        "\n",
        "# --- Signal Processing Constants ---\n",
        "EEG_CHANNELS = ['PO7', 'PZ', 'OZ', 'PO8']\n",
        "SAMPLING_RATE = 250\n",
        "TRIAL_DURATION = 7.0\n",
        "TRIM_START_S = 1.0\n",
        "TARGET_FREQS = [7, 8, 10, 13]\n",
        "\n",
        "warnings.filterwarnings('ignore')\n",
        "\n",
        "# --- Core Preprocessing Functions (Unchanged) ---\n",
        "\n",
        "def load_test_trial_data(row, base_path):\n",
        "    \"\"\"Loads a single trial's EEG data for the test set.\"\"\"\n",
        "    subject_folder = row['subject_id']\n",
        "    session_folder = str(row['trial_session'])\n",
        "    path = os.path.join(base_path, 'SSVEP', 'test', subject_folder, session_folder, 'EEGdata.csv')\n",
        "    if not os.path.exists(path):\n",
        "        print(f\"Warning: Test data not found at: {path}. Skipping trial id {row.get('id', 'N/A')}.\")\n",
        "        return None\n",
        "    eeg_data = pd.read_csv(path).ffill().bfill()\n",
        "    samples_per_trial = int(TRIAL_DURATION * SAMPLING_RATE)\n",
        "    trim_samples = int(TRIM_START_S * SAMPLING_RATE)\n",
        "    start_idx = (int(row['trial']) - 1) * samples_per_trial\n",
        "    trimmed_start_idx = start_idx + trim_samples\n",
        "    end_idx = start_idx + samples_per_trial\n",
        "    return eeg_data.iloc[trimmed_start_idx:end_idx]\n",
        "\n",
        "def apply_filter(data):\n",
        "    \"\"\"Applies a band-pass filter to the EEG data.\"\"\"\n",
        "    low, high, order = 4.0, 42.0, 4\n",
        "    nyq = 0.5 * SAMPLING_RATE\n",
        "    b, a = butter(order, [low / nyq, high / nyq], btype='band')\n",
        "    return np.apply_along_axis(lambda x: filtfilt(b, a, x) if not np.all(x == x[0]) else x, 0, data)\n",
        "\n",
        "def get_psd_features(data):\n",
        "    \"\"\"Calculates PSD and SNR features from the EEG data.\"\"\"\n",
        "    all_features = []\n",
        "    nperseg = SAMPLING_RATE * 4\n",
        "    for i in range(data.shape[1]):\n",
        "        freqs, psd = welch(data[:, i], fs=SAMPLING_RATE, nperseg=nperseg, nfft=nperseg * 2)\n",
        "        for f in TARGET_FREQS:\n",
        "            for h in range(1, 4):\n",
        "                harmonic_freq = h * f\n",
        "                target_idx = np.argmin(np.abs(freqs - harmonic_freq))\n",
        "                noise_indices = np.where((freqs >= harmonic_freq - 3) & (freqs <= harmonic_freq + 3) & (np.abs(freqs - harmonic_freq) > 0.25))[0]\n",
        "                signal_power = psd[target_idx]\n",
        "                noise_power = np.mean(psd[noise_indices]) if len(noise_indices) > 0 else 1e-12\n",
        "                all_features.extend([signal_power, signal_power / noise_power])\n",
        "    return np.array(all_features)\n",
        "\n",
        "\n",
        "def main():\n",
        "    \"\"\"\n",
        "    Main inference pipeline with timing focused ONLY on the prediction loop.\n",
        "    \"\"\"\n",
        "    print(\"--- [1/4] Starting INFERENCE-ONLY Pipeline ---\")\n",
        "\n",
        "    # === UNTIMED SETUP: Load model artifacts ===\n",
        "    print(f\"--- [2/4] Loading model artifacts from: {MODEL_CHECKPOINT_PATH} ---\")\n",
        "    try:\n",
        "        model = joblib.load(os.path.join(MODEL_CHECKPOINT_PATH, 'ssvep_model.joblib'))\n",
        "        scaler = joblib.load(os.path.join(MODEL_CHECKPOINT_PATH, 'ssvep_scaler.joblib'))\n",
        "        selector = joblib.load(os.path.join(MODEL_CHECKPOINT_PATH, 'ssvep_selector.joblib'))\n",
        "        le = joblib.load(os.path.join(MODEL_CHECKPOINT_PATH, 'ssvep_label_encoder.joblib'))\n",
        "        print(\"Model, scaler, selector, and label encoder loaded successfully.\")\n",
        "    except FileNotFoundError as e:\n",
        "        print(f\"FATAL ERROR: A model file was not found. {e}\")\n",
        "        return\n",
        "\n",
        "    # === UNTIMED SETUP: Load test metadata ===\n",
        "    print(f\"--- [3/4] Loading test data from: {TEST_CSV_PATH} ---\")\n",
        "    test_df = pd.read_csv(TEST_CSV_PATH)\n",
        "    ssvep_test_df = test_df[test_df['task'] == TASK].reset_index(drop=True)\n",
        "    print(f\"Found {len(ssvep_test_df)} test samples for the '{TASK}' task.\")\n",
        "\n",
        "    # === TIMED PREDICTION PROCESS START ===\n",
        "    print(\"--- [4/4] Generating predictions for the test set ---\")\n",
        "\n",
        "    # Start the timer RIGHT BEFORE the loop\n",
        "    prediction_start_time = time.time()\n",
        "\n",
        "    results = []\n",
        "    for _, row in tqdm(ssvep_test_df.iterrows(), total=len(ssvep_test_df), desc=\"Predicting\"):\n",
        "        trial_data = load_test_trial_data(row, RAW_DATA_PATH)\n",
        "        if trial_data is None:\n",
        "            results.append({'id': row['id'], 'label': 'Error_Data_Not_Found'})\n",
        "            continue\n",
        "\n",
        "        eeg_signals = trial_data[EEG_CHANNELS].values\n",
        "        filtered_signals = apply_filter(eeg_signals)\n",
        "        features = get_psd_features(filtered_signals).reshape(1, -1)\n",
        "\n",
        "        scaled_features = scaler.transform(features)\n",
        "        selected_features = selector.transform(scaled_features)\n",
        "        prediction_encoded = model.predict(selected_features)\n",
        "        prediction_label = le.inverse_transform(prediction_encoded)[0]\n",
        "\n",
        "        results.append({'id': row['id'], 'label': prediction_label})\n",
        "\n",
        "    # Stop the timer RIGHT AFTER the loop\n",
        "    prediction_end_time = time.time()\n",
        "    # === TIMED PREDICTION PROCESS END ===\n",
        "\n",
        "    # --- Final Step: Save Submission and Report Timings ---\n",
        "    submission_df = pd.DataFrame(results)\n",
        "    submission_df.to_csv(SUBMISSION_FILE_PATH, index=False)\n",
        "\n",
        "    total_prediction_time = prediction_end_time - prediction_start_time\n",
        "\n",
        "    print(\"\\n\" + \"=\"*50)\n",
        "    print(\"      INFERENCE COMPLETE\")\n",
        "    print(\"=\"*50)\n",
        "    # The printed message now accurately reflects what was measured\n",
        "    print(f\"Total time for prediction loop ONLY: {total_prediction_time:.2f} seconds\")\n",
        "    print(f\"Average time per sample: {total_prediction_time / len(ssvep_test_df):.4f} seconds\")\n",
        "    print(f\"\\nSubmission file saved to: {SUBMISSION_FILE_PATH}\")\n",
        "    print(\"\\nSubmission Head:\")\n",
        "    print(submission_df.head())\n",
        "    print(\"=\"*50)\n",
        "\n",
        "if __name__ == '__main__':\n",
        "    main()"
      ],
      "metadata": {
        "colab": {
          "base_uri": "https://localhost:8080/"
        },
        "id": "3zC9SVX4Hwlu",
        "outputId": "f4d6b57a-94da-4eb2-8b49-4e97f7132421"
      },
      "execution_count": 4,
      "outputs": [
        {
          "output_type": "stream",
          "name": "stdout",
          "text": [
            "Writing run_inference_timed.py\n"
          ]
        }
      ]
    },
    {
      "cell_type": "code",
      "source": [
        "!python run_inference_timed.py"
      ],
      "metadata": {
        "colab": {
          "base_uri": "https://localhost:8080/"
        },
        "id": "KZ969iPNH3-r",
        "outputId": "2f1a51f5-04bb-4a95-8c0e-79b46766f111"
      },
      "execution_count": 5,
      "outputs": [
        {
          "output_type": "stream",
          "name": "stdout",
          "text": [
            "--- [1/4] Starting INFERENCE-ONLY Pipeline ---\n",
            "--- [2/4] Loading model artifacts from: /content/drive/MyDrive/aic3/ssvep_model_artifacts ---\n",
            "Model, scaler, selector, and label encoder loaded successfully.\n",
            "--- [3/4] Loading test data from: /content/drive/MyDrive/aic3/unzipped/test.csv ---\n",
            "Found 50 test samples for the 'SSVEP' task.\n",
            "--- [4/4] Generating predictions for the test set ---\n",
            "Predicting: 100% 50/50 [00:06<00:00,  7.30it/s]\n",
            "\n",
            "==================================================\n",
            "      INFERENCE COMPLETE\n",
            "==================================================\n",
            "Total time for prediction loop ONLY: 6.85 seconds\n",
            "Average time per sample: 0.1370 seconds\n",
            "\n",
            "Submission file saved to: /content/drive/MyDrive/aic3/ssvep_submission.csv\n",
            "\n",
            "Submission Head:\n",
            "     id     label\n",
            "0  4951  Backward\n",
            "1  4952  Backward\n",
            "2  4953   Forward\n",
            "3  4954  Backward\n",
            "4  4955  Backward\n",
            "==================================================\n"
          ]
        }
      ]
    },
    {
      "cell_type": "code",
      "source": [],
      "metadata": {
        "id": "wy0m_cneH5wV"
      },
      "execution_count": null,
      "outputs": []
    }
  ]
}