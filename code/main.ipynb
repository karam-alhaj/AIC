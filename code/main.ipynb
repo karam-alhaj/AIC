{
 "cells": [
  {
   "cell_type": "code",
   "execution_count": 1,
   "id": "043aaac6",
   "metadata": {},
   "outputs": [],
   "source": [
    "import numpy as np \n",
    "import pandas as pd \n",
    "import matplotlib.pyplot as plt\n",
    "import seaborn as sns\n",
    "import torch \n",
    "import torch.nn as nn\n",
    "from torch.utils.data import Dataset, DataLoader\n",
    "from torch.optim import Adam\n",
    "from braindecode.models import Deep4Net,EEGITNet\n",
    "from braindecode.preprocessing import preprocess,Preprocessor\n",
    "from sklearn.preprocessing import LabelEncoder,MinMaxScaler,StandardScaler\n",
    "from sklearn.ensemble import RandomForestClassifier\n",
    "from sklearn.metrics import accuracy_score,f1_score\n",
    "from torchvision import models\n",
    "import librosa\n",
    "import torchvision\n",
    "from scipy.signal import butter, filtfilt, iirnotch\n",
    "import warnings\n",
    "warnings.filterwarnings('ignore')\n"
   ]
  },
  {
   "cell_type": "code",
   "execution_count": 2,
   "id": "6d6519be",
   "metadata": {},
   "outputs": [
    {
     "data": {
      "text/plain": [
       "True"
      ]
     },
     "execution_count": 2,
     "metadata": {},
     "output_type": "execute_result"
    }
   ],
   "source": [
    "torch.cuda.is_available()"
   ]
  },
  {
   "cell_type": "code",
   "execution_count": 3,
   "id": "ad6bbc7f",
   "metadata": {},
   "outputs": [],
   "source": [
    "import random\n",
    "\n",
    "seed = 42\n",
    "random.seed(seed)\n",
    "np.random.seed(seed)\n",
    "torch.manual_seed(seed)\n",
    "torch.cuda.manual_seed_all(seed)\n",
    "torch.backends.cudnn.deterministic = True\n",
    "torch.backends.cudnn.benchmark = False"
   ]
  },
  {
   "cell_type": "code",
   "execution_count": 4,
   "id": "dd753fb2",
   "metadata": {},
   "outputs": [],
   "source": [
    "columns = [ 'FZ', 'C3', 'CZ', 'C4', 'PZ', 'PO7', 'OZ', 'PO8', 'AccX',\n",
    "       'AccY', 'AccZ', 'Gyro1', 'Gyro2', 'Gyro3']\n",
    "le = LabelEncoder()\n",
    "scaler = StandardScaler()\n",
    "TASK = \"MI\"\n",
    "TARGETS = 2\n",
    "if TASK == \"SSVEP\":\n",
    "    TARGETS = 4\n",
    "fs = 250"
   ]
  },
  {
   "cell_type": "code",
   "execution_count": 5,
   "id": "d59634ac",
   "metadata": {},
   "outputs": [],
   "source": [
    "class EEGData(Dataset):\n",
    "    \n",
    "    def __init__(self,path:str,task:str,datatype:str):\n",
    "        \"\"\"\n",
    "            path: string\n",
    "            type: Literal[\"train\",\"test\"]\n",
    "        \"\"\"\n",
    "        self.dataframe = pd.read_csv(path)\n",
    "        self.dataframe = self.dataframe[self.dataframe['task'] == task]\n",
    "        self.datatype = datatype\n",
    "\n",
    "        if self.datatype != 'test':\n",
    "          self.dataframe['label'] = le.fit_transform(self.dataframe['label'])\n",
    "\n",
    "\n",
    "    def remove_base_line(self,signal):\n",
    "        ecfft = np.fft.fft(signal)\n",
    "        frequencies = np.fft.fftfreq(len(ecfft), d=1/250)\n",
    "        ecfft[np.abs(frequencies) < 0.5] = 0\n",
    "        baseline_removed = np.fft.ifft(ecfft).real\n",
    "        return baseline_removed\n",
    "    \n",
    "    def power_line_interface_removal(self,signal):\n",
    "        notch_freq = 50  # or 60 depending on your country\n",
    "        quality_factor = 30\n",
    "        b_notch, a_notch = iirnotch(notch_freq, quality_factor, fs)\n",
    "        powerline_removed = filtfilt(b_notch, a_notch, signal)\n",
    "        return powerline_removed\n",
    "    \n",
    "    def remove_high_freq(self,signal):\n",
    "        cutoff = 40  # Hz\n",
    "        b_lp, a_lp = butter(4, cutoff / (0.5 * fs), btype='low')\n",
    "        smoothed_signal = filtfilt(b_lp, a_lp, signal)\n",
    "        return smoothed_signal\n",
    "\n",
    "    def __getitem__(self,index):\n",
    "        path = self.datatype\n",
    "        datapoint = self.dataframe.iloc[index]\n",
    "\n",
    "        eeg = pd.read_csv(f'../data/{datapoint['task']}/{path}/{datapoint['subject_id']}/{datapoint['trial_session']}/EEGdata.csv')\n",
    "\n",
    "        eeg.sort_values(by='Time',inplace=True)\n",
    "\n",
    "        mag = len(eeg)\n",
    "        trial  = int(datapoint['trial'])\n",
    "        lower = mag*(trial-1)//10\n",
    "        upper = mag*trial//10\n",
    "        \n",
    "        eeg = eeg[lower:upper]\n",
    "        eeg = eeg[columns]\n",
    "\n",
    "        for c in columns:\n",
    "            eeg[c] = self.remove_high_freq(self.power_line_interface_removal(eeg[c]))\n",
    "\n",
    "        eeg = np.array(eeg,dtype='float32')\n",
    "        eeg = torch.from_numpy(eeg).permute(1,0)\n",
    "        S = librosa.feature.melspectrogram(y=np.array(eeg), sr=250, n_fft=250, hop_length=50, n_mels=128)\n",
    "        S_db = librosa.power_to_db(S, ref=np.max)\n",
    "        S_db = (S_db - S_db.min()) / (S_db.max() - S_db.min())\n",
    "\n",
    "        S_db = np.concatenate(S_db,axis=0)\n",
    "\n",
    "        S_db = np.array([S_db,S_db,S_db])\n",
    "\n",
    "\n",
    "\n",
    "        eeg = torch.from_numpy(S_db)\n",
    "        if self.datatype != 'test':\n",
    "            return eeg,int(datapoint['label'])\n",
    "        else: \n",
    "            return eeg\n",
    "\n",
    "\n",
    "    def __len__(self):\n",
    "        return len(self.dataframe)"
   ]
  },
  {
   "cell_type": "code",
   "execution_count": 6,
   "id": "f3ad4f50",
   "metadata": {},
   "outputs": [],
   "source": [
    "train_mi = EEGData('../data/train.csv',TASK,'train') \n",
    "train_mi_loader = DataLoader(train_mi,batch_size=128,shuffle=False) \n",
    "\n",
    "val_mi = EEGData('../data/validation.csv',TASK,'validation')\n",
    "val_mi_loader = DataLoader(val_mi,batch_size=128,shuffle=False)\n",
    "\n",
    "test_mi = EEGData('../data/test.csv',TASK,datatype='test')"
   ]
  },
  {
   "cell_type": "code",
   "execution_count": 7,
   "id": "bbbc47ca",
   "metadata": {},
   "outputs": [],
   "source": [
    "model = models.resnet18(pretrained=True)\n"
   ]
  },
  {
   "cell_type": "code",
   "execution_count": 8,
   "id": "7f9a969f",
   "metadata": {},
   "outputs": [],
   "source": [
    "for param in model.parameters():\n",
    "    param.requires_grad = False"
   ]
  },
  {
   "cell_type": "code",
   "execution_count": 9,
   "id": "0469157a",
   "metadata": {},
   "outputs": [
    {
     "data": {
      "text/plain": [
       "ResNet(\n",
       "  (conv1): Conv2d(3, 64, kernel_size=(7, 7), stride=(2, 2), padding=(3, 3), bias=False)\n",
       "  (bn1): BatchNorm2d(64, eps=1e-05, momentum=0.1, affine=True, track_running_stats=True)\n",
       "  (relu): ReLU(inplace=True)\n",
       "  (maxpool): MaxPool2d(kernel_size=3, stride=2, padding=1, dilation=1, ceil_mode=False)\n",
       "  (layer1): Sequential(\n",
       "    (0): BasicBlock(\n",
       "      (conv1): Conv2d(64, 64, kernel_size=(3, 3), stride=(1, 1), padding=(1, 1), bias=False)\n",
       "      (bn1): BatchNorm2d(64, eps=1e-05, momentum=0.1, affine=True, track_running_stats=True)\n",
       "      (relu): ReLU(inplace=True)\n",
       "      (conv2): Conv2d(64, 64, kernel_size=(3, 3), stride=(1, 1), padding=(1, 1), bias=False)\n",
       "      (bn2): BatchNorm2d(64, eps=1e-05, momentum=0.1, affine=True, track_running_stats=True)\n",
       "    )\n",
       "    (1): BasicBlock(\n",
       "      (conv1): Conv2d(64, 64, kernel_size=(3, 3), stride=(1, 1), padding=(1, 1), bias=False)\n",
       "      (bn1): BatchNorm2d(64, eps=1e-05, momentum=0.1, affine=True, track_running_stats=True)\n",
       "      (relu): ReLU(inplace=True)\n",
       "      (conv2): Conv2d(64, 64, kernel_size=(3, 3), stride=(1, 1), padding=(1, 1), bias=False)\n",
       "      (bn2): BatchNorm2d(64, eps=1e-05, momentum=0.1, affine=True, track_running_stats=True)\n",
       "    )\n",
       "  )\n",
       "  (layer2): Sequential(\n",
       "    (0): BasicBlock(\n",
       "      (conv1): Conv2d(64, 128, kernel_size=(3, 3), stride=(2, 2), padding=(1, 1), bias=False)\n",
       "      (bn1): BatchNorm2d(128, eps=1e-05, momentum=0.1, affine=True, track_running_stats=True)\n",
       "      (relu): ReLU(inplace=True)\n",
       "      (conv2): Conv2d(128, 128, kernel_size=(3, 3), stride=(1, 1), padding=(1, 1), bias=False)\n",
       "      (bn2): BatchNorm2d(128, eps=1e-05, momentum=0.1, affine=True, track_running_stats=True)\n",
       "      (downsample): Sequential(\n",
       "        (0): Conv2d(64, 128, kernel_size=(1, 1), stride=(2, 2), bias=False)\n",
       "        (1): BatchNorm2d(128, eps=1e-05, momentum=0.1, affine=True, track_running_stats=True)\n",
       "      )\n",
       "    )\n",
       "    (1): BasicBlock(\n",
       "      (conv1): Conv2d(128, 128, kernel_size=(3, 3), stride=(1, 1), padding=(1, 1), bias=False)\n",
       "      (bn1): BatchNorm2d(128, eps=1e-05, momentum=0.1, affine=True, track_running_stats=True)\n",
       "      (relu): ReLU(inplace=True)\n",
       "      (conv2): Conv2d(128, 128, kernel_size=(3, 3), stride=(1, 1), padding=(1, 1), bias=False)\n",
       "      (bn2): BatchNorm2d(128, eps=1e-05, momentum=0.1, affine=True, track_running_stats=True)\n",
       "    )\n",
       "  )\n",
       "  (layer3): Sequential(\n",
       "    (0): BasicBlock(\n",
       "      (conv1): Conv2d(128, 256, kernel_size=(3, 3), stride=(2, 2), padding=(1, 1), bias=False)\n",
       "      (bn1): BatchNorm2d(256, eps=1e-05, momentum=0.1, affine=True, track_running_stats=True)\n",
       "      (relu): ReLU(inplace=True)\n",
       "      (conv2): Conv2d(256, 256, kernel_size=(3, 3), stride=(1, 1), padding=(1, 1), bias=False)\n",
       "      (bn2): BatchNorm2d(256, eps=1e-05, momentum=0.1, affine=True, track_running_stats=True)\n",
       "      (downsample): Sequential(\n",
       "        (0): Conv2d(128, 256, kernel_size=(1, 1), stride=(2, 2), bias=False)\n",
       "        (1): BatchNorm2d(256, eps=1e-05, momentum=0.1, affine=True, track_running_stats=True)\n",
       "      )\n",
       "    )\n",
       "    (1): BasicBlock(\n",
       "      (conv1): Conv2d(256, 256, kernel_size=(3, 3), stride=(1, 1), padding=(1, 1), bias=False)\n",
       "      (bn1): BatchNorm2d(256, eps=1e-05, momentum=0.1, affine=True, track_running_stats=True)\n",
       "      (relu): ReLU(inplace=True)\n",
       "      (conv2): Conv2d(256, 256, kernel_size=(3, 3), stride=(1, 1), padding=(1, 1), bias=False)\n",
       "      (bn2): BatchNorm2d(256, eps=1e-05, momentum=0.1, affine=True, track_running_stats=True)\n",
       "    )\n",
       "  )\n",
       "  (layer4): Sequential(\n",
       "    (0): BasicBlock(\n",
       "      (conv1): Conv2d(256, 512, kernel_size=(3, 3), stride=(2, 2), padding=(1, 1), bias=False)\n",
       "      (bn1): BatchNorm2d(512, eps=1e-05, momentum=0.1, affine=True, track_running_stats=True)\n",
       "      (relu): ReLU(inplace=True)\n",
       "      (conv2): Conv2d(512, 512, kernel_size=(3, 3), stride=(1, 1), padding=(1, 1), bias=False)\n",
       "      (bn2): BatchNorm2d(512, eps=1e-05, momentum=0.1, affine=True, track_running_stats=True)\n",
       "      (downsample): Sequential(\n",
       "        (0): Conv2d(256, 512, kernel_size=(1, 1), stride=(2, 2), bias=False)\n",
       "        (1): BatchNorm2d(512, eps=1e-05, momentum=0.1, affine=True, track_running_stats=True)\n",
       "      )\n",
       "    )\n",
       "    (1): BasicBlock(\n",
       "      (conv1): Conv2d(512, 512, kernel_size=(3, 3), stride=(1, 1), padding=(1, 1), bias=False)\n",
       "      (bn1): BatchNorm2d(512, eps=1e-05, momentum=0.1, affine=True, track_running_stats=True)\n",
       "      (relu): ReLU(inplace=True)\n",
       "      (conv2): Conv2d(512, 512, kernel_size=(3, 3), stride=(1, 1), padding=(1, 1), bias=False)\n",
       "      (bn2): BatchNorm2d(512, eps=1e-05, momentum=0.1, affine=True, track_running_stats=True)\n",
       "    )\n",
       "  )\n",
       "  (avgpool): AdaptiveAvgPool2d(output_size=(1, 1))\n",
       "  (fc): Sequential(\n",
       "    (0): Linear(in_features=512, out_features=256, bias=True)\n",
       "    (1): ReLU()\n",
       "    (2): Linear(in_features=256, out_features=64, bias=True)\n",
       "    (3): ReLU()\n",
       "    (4): Linear(in_features=64, out_features=2, bias=True)\n",
       "  )\n",
       ")"
      ]
     },
     "execution_count": 9,
     "metadata": {},
     "output_type": "execute_result"
    }
   ],
   "source": [
    "model.fc = nn.Sequential(\n",
    "    nn.Linear(model.fc.in_features,out_features=256),\n",
    "    nn.ReLU(),\n",
    "    nn.Linear(in_features=256,out_features=64),\n",
    "    nn.ReLU(),\n",
    "    nn.Linear(in_features=64,out_features=TARGETS)\n",
    "    )\n",
    "\n",
    "device = torch.device('cuda' if torch.cuda.is_available() else 'cpu')\n",
    "model.to(device)"
   ]
  },
  {
   "cell_type": "code",
   "execution_count": 10,
   "id": "2ab7ffbc",
   "metadata": {},
   "outputs": [],
   "source": [
    "import torch.nn as nn\n",
    "import torch.optim as optim\n",
    "\n",
    "criterion = nn.CrossEntropyLoss()\n",
    "optimizer = optim.Adam(model.parameters(), lr=0.01)"
   ]
  },
  {
   "cell_type": "code",
   "execution_count": null,
   "id": "eb79a71a",
   "metadata": {},
   "outputs": [
    {
     "name": "stdout",
     "output_type": "stream",
     "text": [
      "Epoch 1: Train Loss=19.3741, Accuracy=0.5138\n",
      "          Val Accuracy=0.4400\n",
      "Epoch 2: Train Loss=13.4069, Accuracy=0.4933\n",
      "          Val Accuracy=0.4400\n",
      "Epoch 3: Train Loss=13.2582, Accuracy=0.4929\n",
      "          Val Accuracy=0.4400\n",
      "Epoch 4: Train Loss=13.1722, Accuracy=0.5054\n",
      "          Val Accuracy=0.4400\n",
      "Epoch 5: Train Loss=13.1733, Accuracy=0.5054\n",
      "          Val Accuracy=0.4400\n"
     ]
    }
   ],
   "source": [
    "n_epochs = 20\n",
    "losses = []\n",
    "accurecies = [] \n",
    "val_accurecies = []\n",
    "for epoch in range(n_epochs):\n",
    "    model.train()\n",
    "    total_loss = 0\n",
    "    correct = 0\n",
    "    total = 0\n",
    "\n",
    "    for X_batch, y_batch in train_mi_loader:\n",
    "        X_batch, y_batch = X_batch.to(device), y_batch.to(device)\n",
    "\n",
    "        optimizer.zero_grad()\n",
    "        outputs = model(X_batch)\n",
    "        loss = criterion(outputs, y_batch)\n",
    "        loss.backward()\n",
    "        optimizer.step()\n",
    "\n",
    "        total_loss += loss.item()\n",
    "        _, predicted = torch.max(outputs, 1)\n",
    "        correct += (predicted == y_batch).sum().item()\n",
    "        total += y_batch.size(0)\n",
    "\n",
    "    acc = correct / total\n",
    "    losses.append(total_loss)\n",
    "    print(f\"Epoch {epoch+1}: Train Loss={total_loss:.4f}, Accuracy={acc:.4f}\")\n",
    "    accurecies.append(acc)\n",
    "    # Validation\n",
    "    model.eval()\n",
    "    correct = 0\n",
    "    total = 0\n",
    "    with torch.no_grad():\n",
    "        for X_batch, y_batch in val_mi_loader:\n",
    "            X_batch, y_batch = X_batch.to(device), y_batch.to(device)\n",
    "            X_batch = (X_batch - X_batch.mean(dim=2, keepdim=True)) / (X_batch.std(dim=2, keepdim=True) + 1e-6)\n",
    "\n",
    "            outputs = model(X_batch)\n",
    "            _, predicted = torch.max(outputs, 1)\n",
    "            correct += (predicted == y_batch).sum().item()\n",
    "            total += y_batch.size(0)\n",
    "    val_acc = correct / total\n",
    "    val_accurecies.append(val_acc)\n",
    "    print(f\"          Val Accuracy={val_acc:.4f}\")\n"
   ]
  },
  {
   "cell_type": "code",
   "execution_count": null,
   "id": "5ee01514",
   "metadata": {},
   "outputs": [],
   "source": [
    "sns.lineplot(x=range(len(accurecies)),y=accurecies)"
   ]
  },
  {
   "cell_type": "code",
   "execution_count": null,
   "id": "1bfeb756",
   "metadata": {},
   "outputs": [],
   "source": [
    "sns.lineplot(x=range(len(val_accurecies)),y=val_accurecies)\n"
   ]
  },
  {
   "cell_type": "code",
   "execution_count": null,
   "id": "16f32fd2",
   "metadata": {},
   "outputs": [],
   "source": [
    "sns.lineplot(x=range(len(losses)),y=losses)\n"
   ]
  },
  {
   "cell_type": "code",
   "execution_count": null,
   "id": "217be25f",
   "metadata": {},
   "outputs": [],
   "source": [
    "test = torch.from_numpy(np.array([point for point in test_mi]))"
   ]
  },
  {
   "cell_type": "code",
   "execution_count": null,
   "id": "f67dafe0",
   "metadata": {},
   "outputs": [],
   "source": [
    "test = test.to(device)"
   ]
  },
  {
   "cell_type": "code",
   "execution_count": null,
   "id": "1a48329e",
   "metadata": {},
   "outputs": [],
   "source": [
    "pred = model(test)"
   ]
  },
  {
   "cell_type": "code",
   "execution_count": null,
   "id": "1eb9e4f6",
   "metadata": {},
   "outputs": [],
   "source": [
    "_, predicted = torch.max(pred, 1)"
   ]
  },
  {
   "cell_type": "code",
   "execution_count": null,
   "id": "537e0846",
   "metadata": {},
   "outputs": [],
   "source": [
    "test_frame = pd.read_csv('../data/test.csv')"
   ]
  },
  {
   "cell_type": "code",
   "execution_count": null,
   "id": "11661993",
   "metadata": {},
   "outputs": [],
   "source": [
    "test_frame = test_frame[test_frame['task']==TASK]"
   ]
  },
  {
   "cell_type": "code",
   "execution_count": null,
   "id": "7e673580",
   "metadata": {},
   "outputs": [],
   "source": [
    "test_frame "
   ]
  },
  {
   "cell_type": "code",
   "execution_count": null,
   "id": "1dc2a92f",
   "metadata": {},
   "outputs": [],
   "source": [
    "sub = test_frame[['id']]\n",
    "sub['label'] = le.inverse_transform(predicted.to('cpu'))"
   ]
  },
  {
   "cell_type": "code",
   "execution_count": null,
   "id": "e7aff73b",
   "metadata": {},
   "outputs": [],
   "source": [
    "predicted"
   ]
  },
  {
   "cell_type": "code",
   "execution_count": null,
   "id": "69152bb3",
   "metadata": {},
   "outputs": [],
   "source": [
    "sub.to_csv('submission_'+TASK+'.csv')"
   ]
  },
  {
   "cell_type": "code",
   "execution_count": null,
   "id": "96360a4c",
   "metadata": {},
   "outputs": [],
   "source": []
  }
 ],
 "metadata": {
  "kernelspec": {
   "display_name": ".venv",
   "language": "python",
   "name": "python3"
  },
  "language_info": {
   "codemirror_mode": {
    "name": "ipython",
    "version": 3
   },
   "file_extension": ".py",
   "mimetype": "text/x-python",
   "name": "python",
   "nbconvert_exporter": "python",
   "pygments_lexer": "ipython3",
   "version": "3.12.3"
  }
 },
 "nbformat": 4,
 "nbformat_minor": 5
}
